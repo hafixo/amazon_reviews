{
 "cells": [
  {
   "cell_type": "markdown",
   "metadata": {},
   "source": [
    "## Import libraries"
   ]
  },
  {
   "cell_type": "code",
   "execution_count": 1,
   "metadata": {},
   "outputs": [],
   "source": [
    "import tweepy\n",
    "import json\n",
    "from pandas.io.json import json_normalize"
   ]
  },
  {
   "cell_type": "markdown",
   "metadata": {},
   "source": [
    "## Setup connection"
   ]
  },
  {
   "cell_type": "code",
   "execution_count": 2,
   "metadata": {},
   "outputs": [],
   "source": [
    "filename = \"credentials.json\"\n",
    "with open(filename) as file:\n",
    "    keys = json.loads(file.read())"
   ]
  },
  {
   "cell_type": "code",
   "execution_count": 3,
   "metadata": {},
   "outputs": [],
   "source": [
    "consumer_key = keys['Twitter']['consumer_key']\n",
    "consumer_secret = keys['Twitter']['consumer_secret']\n",
    "access_token = keys['Twitter']['access_token']\n",
    "access_secret = keys['Twitter']['access_secret']\n",
    "auth = tweepy.OAuthHandler(consumer_key, consumer_secret)\n",
    "auth.set_access_token(access_token, access_secret)\n",
    "api = tweepy.API(auth,\n",
    "                 wait_on_rate_limit=True,\n",
    "                 wait_on_rate_limit_notify=True,\n",
    "                 retry_count=1000,\n",
    "                 retry_delay=60)"
   ]
  },
  {
   "cell_type": "markdown",
   "metadata": {},
   "source": [
    "## Download replies tweets\n",
    "- [Sony live streaming](https://twitter.com/Sony/status/1214350830981148673)\n",
    "- [AMD Conference announce](https://twitter.com/AMD/status/1212119569487351808)"
   ]
  },
  {
   "cell_type": "code",
   "execution_count": 4,
   "metadata": {},
   "outputs": [],
   "source": [
    "def download_replies(user_name, tweet_id):\n",
    "    replies = tweepy.Cursor(api.search,\n",
    "                            q='to:{} -filter:retweets'.format(user_name),\n",
    "                            since_id=tweet_id,\n",
    "                            tweet_mode='extended',\n",
    "                            lang='en').items()\n",
    "    all_repl = []\n",
    "    while True:\n",
    "        try:\n",
    "            reply = replies.next()\n",
    "            all_repl.append(reply)\n",
    "            if not hasattr(reply, 'in_reply_to_status_id_str'):\n",
    "                continue\n",
    "            if reply.in_reply_to_status_id == tweet_id:\n",
    "                logging.info(\"reply of tweet:{}\".format(reply.full_text))\n",
    "\n",
    "        except tweepy.RateLimitError as e:\n",
    "            logging.error(\"Twitter api rate limit reached\".format(e))\n",
    "            time.sleep(60)\n",
    "            continue\n",
    "\n",
    "        except tweepy.TweepError as e:\n",
    "            logging.error(\"Tweepy error occured:{}\".format(e))\n",
    "            break\n",
    "\n",
    "        except StopIteration:\n",
    "            break\n",
    "\n",
    "        except Exception as e:\n",
    "            logging.error(\"Failed while fetching replies {}\".format(e))\n",
    "            break\n",
    "\n",
    "    all_repl_processed = [0]*len(all_repl)\n",
    "    for i in range(len(all_repl)):\n",
    "        all_repl_processed[i] = {}\n",
    "        all_repl_processed[i][\"username\"] = all_repl[i].user.screen_name\n",
    "        all_repl_processed[i][\"text\"] = all_repl[i].full_text\n",
    "        all_repl_processed[i][\"lang\"] = all_repl[i].lang\n",
    "    return all_repl_processed"
   ]
  },
  {
   "cell_type": "markdown",
   "metadata": {},
   "source": [
    "### Download replies to Sony tweet"
   ]
  },
  {
   "cell_type": "code",
   "execution_count": null,
   "metadata": {},
   "outputs": [
    {
     "name": "stderr",
     "output_type": "stream",
     "text": [
      "Rate limit reached. Sleeping for: 520\n"
     ]
    }
   ],
   "source": [
    "user_name = \"@Sony\"\n",
    "tweet_id = \"1214350830981148673\"\n",
    "sony_tweets = download_replies(user_name=user_name, tweet_id=tweet_id)\n",
    "sony_tweets = json_normalize(sony_tweets)\n",
    "sony_tweets.head()"
   ]
  },
  {
   "cell_type": "markdown",
   "metadata": {},
   "source": [
    "### Download replies to AMD tweet"
   ]
  },
  {
   "cell_type": "code",
   "execution_count": null,
   "metadata": {},
   "outputs": [],
   "source": [
    "user_name = \"@AMD\"\n",
    "tweet_id = \"1212119569487351808\"\n",
    "amd_tweets = download_replies(user_name=user_name, tweet_id=tweet_id)\n",
    "amd_tweets = json_normalize(amd_tweets)\n",
    "amd_tweets.head()"
   ]
  },
  {
   "cell_type": "markdown",
   "metadata": {},
   "source": [
    "### Download replies to Samsung tweet "
   ]
  },
  {
   "cell_type": "code",
   "execution_count": null,
   "metadata": {},
   "outputs": [],
   "source": [
    "user_name = \"@SamsungMobile\"\n",
    "tweet_id = \"1159826737770856448\"\n",
    "samsung_tweets = download_replies(user_name=user_name, tweet_id=tweet_id)\n",
    "samsung_tweets = json_normalize(amd_tweets)\n",
    "samsung_tweets.head()"
   ]
  },
  {
   "cell_type": "markdown",
   "metadata": {},
   "source": [
    "## Store tweets"
   ]
  },
  {
   "cell_type": "code",
   "execution_count": null,
   "metadata": {},
   "outputs": [],
   "source": [
    "sony_tweets.shape"
   ]
  },
  {
   "cell_type": "code",
   "execution_count": null,
   "metadata": {},
   "outputs": [],
   "source": [
    "amd_tweets.shape"
   ]
  },
  {
   "cell_type": "code",
   "execution_count": null,
   "metadata": {},
   "outputs": [],
   "source": [
    "samsung_tweets.shape"
   ]
  },
  {
   "cell_type": "code",
   "execution_count": null,
   "metadata": {},
   "outputs": [],
   "source": [
    "sony_tweets.to_csv('sony_replies.csv', index=False)\n",
    "amd_tweets.to_csv('amd_replies.csv', index=False)\n",
    "samsung_tweets.to_csv('samsung_tweets.csv', index=False)"
   ]
  },
  {
   "cell_type": "markdown",
   "metadata": {},
   "source": [
    "## Download tweets related to CES 2020"
   ]
  },
  {
   "cell_type": "code",
   "execution_count": null,
   "metadata": {},
   "outputs": [],
   "source": [
    "def collect_tweets_from_query(api, query, number_of_tweets = 1000):\n",
    "\n",
    "    result = []\n",
    "    backoff_counter = 1\n",
    "    tweets = tweepy.Cursor(api.search,\n",
    "                           q=\"{} -filter:retweets\".format(query), #for reducing the number of calls\n",
    "                           tweet_mode = \"extended\",\n",
    "                           lang='en'\n",
    "                           ).items(number_of_tweets)\n",
    "\n",
    "    while True:\n",
    "        try:\n",
    "            tweet = tweets.next()\n",
    "            filtered_tweet = {\n",
    "                \"text\": tweet.text,\n",
    "                \"lang\": tweet.lang,\n",
    "                \"username\": tweet.user.screen_name,\n",
    "            }\n",
    "            result.append(filtered_tweet)\n",
    "        except StopIteration:\n",
    "            print(\"Finished collecting and storing tweets for {}\".format(query))\n",
    "            break\n",
    "        except tweepy.TweepError:\n",
    "            print(\"Reached Tweet limits, waiting for {} seconds\".format(60 * backoff_counter))\n",
    "            sleep(60 * backoff_counter)\n",
    "            backoff_counter += 1\n",
    "            continue\n",
    "    return result\n"
   ]
  },
  {
   "cell_type": "code",
   "execution_count": null,
   "metadata": {},
   "outputs": [],
   "source": [
    "ces2020_tweets = collect_tweets_from_query(api, \"#CES2020\")"
   ]
  },
  {
   "cell_type": "code",
   "execution_count": null,
   "metadata": {},
   "outputs": [],
   "source": [
    "ces2020_tweets = json_normalize(ces2020_tweets)"
   ]
  },
  {
   "cell_type": "code",
   "execution_count": null,
   "metadata": {},
   "outputs": [],
   "source": [
    "ces2020_tweets"
   ]
  },
  {
   "cell_type": "code",
   "execution_count": null,
   "metadata": {},
   "outputs": [],
   "source": []
  }
 ],
 "metadata": {
  "kernelspec": {
   "display_name": "amazon_reviews",
   "language": "python",
   "name": "amazon_reviews"
  },
  "language_info": {
   "codemirror_mode": {
    "name": "ipython",
    "version": 3
   },
   "file_extension": ".py",
   "mimetype": "text/x-python",
   "name": "python",
   "nbconvert_exporter": "python",
   "pygments_lexer": "ipython3",
   "version": "3.6.8"
  }
 },
 "nbformat": 4,
 "nbformat_minor": 2
}
