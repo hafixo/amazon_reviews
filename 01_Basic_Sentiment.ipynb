{
 "cells": [
  {
   "cell_type": "markdown",
   "metadata": {},
   "source": [
    "# Import libraries"
   ]
  },
  {
   "cell_type": "code",
   "execution_count": 25,
   "metadata": {},
   "outputs": [
    {
     "name": "stderr",
     "output_type": "stream",
     "text": [
      "[nltk_data] Downloading package punkt to\n",
      "[nltk_data]     C:\\Users\\Khaled\\AppData\\Roaming\\nltk_data...\n",
      "[nltk_data]   Package punkt is already up-to-date!\n",
      "[nltk_data] Downloading package stopwords to\n",
      "[nltk_data]     C:\\Users\\Khaled\\AppData\\Roaming\\nltk_data...\n",
      "[nltk_data]   Package stopwords is already up-to-date!\n"
     ]
    }
   ],
   "source": [
    "import pandas as pd\n",
    "import numpy as np\n",
    "import nltk\n",
    "nltk.download('punkt')\n",
    "nltk.download('stopwords')\n",
    "import itertools\n",
    "import matplotlib.pyplot as plt\n",
    "import time\n",
    "from sklearn.metrics import classification_report\n",
    "from joblib import dump, load"
   ]
  },
  {
   "cell_type": "markdown",
   "metadata": {},
   "source": [
    "# Load dataset"
   ]
  },
  {
   "cell_type": "code",
   "execution_count": 2,
   "metadata": {},
   "outputs": [
    {
     "data": {
      "text/html": [
       "<div>\n",
       "<style scoped>\n",
       "    .dataframe tbody tr th:only-of-type {\n",
       "        vertical-align: middle;\n",
       "    }\n",
       "\n",
       "    .dataframe tbody tr th {\n",
       "        vertical-align: top;\n",
       "    }\n",
       "\n",
       "    .dataframe thead th {\n",
       "        text-align: right;\n",
       "    }\n",
       "</style>\n",
       "<table border=\"1\" class=\"dataframe\">\n",
       "  <thead>\n",
       "    <tr style=\"text-align: right;\">\n",
       "      <th></th>\n",
       "      <th>asin</th>\n",
       "      <th>image</th>\n",
       "      <th>overall</th>\n",
       "      <th>reviewText</th>\n",
       "      <th>reviewTime</th>\n",
       "      <th>reviewerID</th>\n",
       "      <th>reviewerName</th>\n",
       "      <th>style</th>\n",
       "      <th>summary</th>\n",
       "      <th>unixReviewTime</th>\n",
       "      <th>verified</th>\n",
       "      <th>vote</th>\n",
       "    </tr>\n",
       "  </thead>\n",
       "  <tbody>\n",
       "    <tr>\n",
       "      <th>0</th>\n",
       "      <td>7508492919</td>\n",
       "      <td>NaN</td>\n",
       "      <td>5</td>\n",
       "      <td>Looks even better in person. Be careful to not...</td>\n",
       "      <td>08 4, 2014</td>\n",
       "      <td>A24E3SXTC62LJI</td>\n",
       "      <td>Claudia Valdivia</td>\n",
       "      <td>{'Color:': ' Bling'}</td>\n",
       "      <td>Can't stop won't stop looking at it</td>\n",
       "      <td>1407110400</td>\n",
       "      <td>True</td>\n",
       "      <td>NaN</td>\n",
       "    </tr>\n",
       "    <tr>\n",
       "      <th>1</th>\n",
       "      <td>7508492919</td>\n",
       "      <td>NaN</td>\n",
       "      <td>5</td>\n",
       "      <td>When you don't want to spend a whole lot of ca...</td>\n",
       "      <td>02 12, 2014</td>\n",
       "      <td>A269FLZCB4GIPV</td>\n",
       "      <td>sarah ponce</td>\n",
       "      <td>NaN</td>\n",
       "      <td>1</td>\n",
       "      <td>1392163200</td>\n",
       "      <td>True</td>\n",
       "      <td>NaN</td>\n",
       "    </tr>\n",
       "    <tr>\n",
       "      <th>2</th>\n",
       "      <td>7508492919</td>\n",
       "      <td>NaN</td>\n",
       "      <td>3</td>\n",
       "      <td>so the case came on time, i love the design. I...</td>\n",
       "      <td>02 8, 2014</td>\n",
       "      <td>AB6CHQWHZW4TV</td>\n",
       "      <td>Kai</td>\n",
       "      <td>NaN</td>\n",
       "      <td>Its okay</td>\n",
       "      <td>1391817600</td>\n",
       "      <td>True</td>\n",
       "      <td>NaN</td>\n",
       "    </tr>\n",
       "    <tr>\n",
       "      <th>3</th>\n",
       "      <td>7508492919</td>\n",
       "      <td>NaN</td>\n",
       "      <td>2</td>\n",
       "      <td>DON'T CARE FOR IT.  GAVE IT AS A GIFT AND THEY...</td>\n",
       "      <td>02 4, 2014</td>\n",
       "      <td>A1M117A53LEI8</td>\n",
       "      <td>Sharon Williams</td>\n",
       "      <td>NaN</td>\n",
       "      <td>CASE</td>\n",
       "      <td>1391472000</td>\n",
       "      <td>True</td>\n",
       "      <td>NaN</td>\n",
       "    </tr>\n",
       "    <tr>\n",
       "      <th>4</th>\n",
       "      <td>7508492919</td>\n",
       "      <td>NaN</td>\n",
       "      <td>4</td>\n",
       "      <td>I liked it because it was cute, but the studs ...</td>\n",
       "      <td>02 3, 2014</td>\n",
       "      <td>A272DUT8M88ZS8</td>\n",
       "      <td>Bella Rodriguez</td>\n",
       "      <td>NaN</td>\n",
       "      <td>Cute!</td>\n",
       "      <td>1391385600</td>\n",
       "      <td>True</td>\n",
       "      <td>NaN</td>\n",
       "    </tr>\n",
       "  </tbody>\n",
       "</table>\n",
       "</div>"
      ],
      "text/plain": [
       "         asin image  overall  \\\n",
       "0  7508492919   NaN        5   \n",
       "1  7508492919   NaN        5   \n",
       "2  7508492919   NaN        3   \n",
       "3  7508492919   NaN        2   \n",
       "4  7508492919   NaN        4   \n",
       "\n",
       "                                          reviewText   reviewTime  \\\n",
       "0  Looks even better in person. Be careful to not...   08 4, 2014   \n",
       "1  When you don't want to spend a whole lot of ca...  02 12, 2014   \n",
       "2  so the case came on time, i love the design. I...   02 8, 2014   \n",
       "3  DON'T CARE FOR IT.  GAVE IT AS A GIFT AND THEY...   02 4, 2014   \n",
       "4  I liked it because it was cute, but the studs ...   02 3, 2014   \n",
       "\n",
       "       reviewerID      reviewerName                 style  \\\n",
       "0  A24E3SXTC62LJI  Claudia Valdivia  {'Color:': ' Bling'}   \n",
       "1  A269FLZCB4GIPV       sarah ponce                   NaN   \n",
       "2   AB6CHQWHZW4TV               Kai                   NaN   \n",
       "3   A1M117A53LEI8   Sharon Williams                   NaN   \n",
       "4  A272DUT8M88ZS8   Bella Rodriguez                   NaN   \n",
       "\n",
       "                               summary  unixReviewTime  verified vote  \n",
       "0  Can't stop won't stop looking at it      1407110400      True  NaN  \n",
       "1                                    1      1392163200      True  NaN  \n",
       "2                             Its okay      1391817600      True  NaN  \n",
       "3                                 CASE      1391472000      True  NaN  \n",
       "4                                Cute!      1391385600      True  NaN  "
      ]
     },
     "execution_count": 2,
     "metadata": {},
     "output_type": "execute_result"
    }
   ],
   "source": [
    "data = \"dataset/Cell_Phones_and_Accessories_5.json.gz\"\n",
    "df = pd.read_json(data, lines = True, compression = \"gzip\")\n",
    "df.head()"
   ]
  },
  {
   "cell_type": "code",
   "execution_count": 3,
   "metadata": {},
   "outputs": [
    {
     "data": {
      "text/plain": [
       "Index(['asin', 'image', 'overall', 'reviewText', 'reviewTime', 'reviewerID',\n",
       "       'reviewerName', 'style', 'summary', 'unixReviewTime', 'verified',\n",
       "       'vote'],\n",
       "      dtype='object')"
      ]
     },
     "execution_count": 3,
     "metadata": {},
     "output_type": "execute_result"
    }
   ],
   "source": [
    "df.columns"
   ]
  },
  {
   "cell_type": "markdown",
   "metadata": {},
   "source": [
    "How many reviews are verified?"
   ]
  },
  {
   "cell_type": "code",
   "execution_count": 4,
   "metadata": {},
   "outputs": [
    {
     "data": {
      "text/plain": [
       "verified\n",
       "False    141113\n",
       "True     987324\n",
       "Name: unixReviewTime, dtype: int64"
      ]
     },
     "execution_count": 4,
     "metadata": {},
     "output_type": "execute_result"
    }
   ],
   "source": [
    "df.groupby('verified')['unixReviewTime'].count()"
   ]
  },
  {
   "cell_type": "markdown",
   "metadata": {},
   "source": [
    "#### Open point: how do we address it? (If we want to do it, of course :) )\n",
    "# Filtering the dataset\n",
    "The first operation we will perform is the removal of punctuation characters and lowercase all letters: these operation will be useful for reducing the number of features"
   ]
  },
  {
   "cell_type": "code",
   "execution_count": 5,
   "metadata": {},
   "outputs": [],
   "source": [
    "df['reviewText'] = df['reviewText'].str.replace('[.,;:;!?]+', '')"
   ]
  },
  {
   "cell_type": "code",
   "execution_count": 6,
   "metadata": {},
   "outputs": [],
   "source": [
    "df['reviewText'] = df['reviewText'].str.lower()"
   ]
  },
  {
   "cell_type": "code",
   "execution_count": 7,
   "metadata": {},
   "outputs": [],
   "source": [
    "X = df.reviewText[df.reviewText.notnull()].values\n",
    "y = df.overall[df.reviewText.notnull()].values"
   ]
  },
  {
   "cell_type": "code",
   "execution_count": 8,
   "metadata": {},
   "outputs": [
    {
     "data": {
      "text/plain": [
       "(1127672,)"
      ]
     },
     "execution_count": 8,
     "metadata": {},
     "output_type": "execute_result"
    }
   ],
   "source": [
    "X.shape"
   ]
  },
  {
   "cell_type": "code",
   "execution_count": 9,
   "metadata": {},
   "outputs": [
    {
     "data": {
      "text/plain": [
       "(1127672,)"
      ]
     },
     "execution_count": 9,
     "metadata": {},
     "output_type": "execute_result"
    }
   ],
   "source": [
    "y.shape"
   ]
  },
  {
   "cell_type": "markdown",
   "metadata": {},
   "source": [
    "How are the values split?"
   ]
  },
  {
   "cell_type": "code",
   "execution_count": 10,
   "metadata": {},
   "outputs": [
    {
     "data": {
      "text/plain": [
       "{1: 81506, 2: 57166, 3: 98214, 4: 184351, 5: 706435}"
      ]
     },
     "execution_count": 10,
     "metadata": {},
     "output_type": "execute_result"
    }
   ],
   "source": [
    "star_value, counts = np.unique(y, return_counts=True)\n",
    "dict(zip(star_value, counts))"
   ]
  },
  {
   "cell_type": "code",
   "execution_count": 11,
   "metadata": {},
   "outputs": [
    {
     "data": {
      "text/plain": [
       "{1: 0.07227810923743784,\n",
       " 2: 0.05069381876999695,\n",
       " 3: 0.08709447427975511,\n",
       " 4: 0.16347927411516824,\n",
       " 5: 0.6264543235976419}"
      ]
     },
     "execution_count": 11,
     "metadata": {},
     "output_type": "execute_result"
    }
   ],
   "source": [
    "dict(zip(star_value, counts/len(y)))"
   ]
  },
  {
   "cell_type": "markdown",
   "metadata": {},
   "source": [
    "Imbalanced dataset!\n",
    "We'd like to split the ratings as follows:\n",
    "- 1,2 and 3 will be considered negative\n",
    "- 4 and 5 will be considered positive\n",
    "\n",
    "The main reason why we'd like to proceed as follows is that, on Amazon, the most restrictive filter is the \"4 star +\" one and is used for filtering the returned results: a given vendor would like to have her/his products shown after this phase."
   ]
  },
  {
   "cell_type": "code",
   "execution_count": 12,
   "metadata": {},
   "outputs": [],
   "source": [
    "def int2sent(n):\n",
    "    if n >= 4:\n",
    "        return \"positive\"\n",
    "    if n <= 3:\n",
    "        return \"negative\""
   ]
  },
  {
   "cell_type": "code",
   "execution_count": 13,
   "metadata": {},
   "outputs": [],
   "source": [
    "sentiment_is_positive = y > 3"
   ]
  },
  {
   "cell_type": "code",
   "execution_count": 14,
   "metadata": {},
   "outputs": [
    {
     "data": {
      "text/plain": [
       "{False: 236886, True: 890786}"
      ]
     },
     "execution_count": 14,
     "metadata": {},
     "output_type": "execute_result"
    }
   ],
   "source": [
    "sentiment_categories, counts = np.unique(sentiment_is_positive, return_counts=True)\n",
    "dict(zip(sentiment_categories, counts))"
   ]
  },
  {
   "cell_type": "code",
   "execution_count": 15,
   "metadata": {},
   "outputs": [
    {
     "data": {
      "text/plain": [
       "{False: 0.2100664022871899, True: 0.7899335977128101}"
      ]
     },
     "execution_count": 15,
     "metadata": {},
     "output_type": "execute_result"
    }
   ],
   "source": [
    "dict(zip(sentiment_categories, counts/len(sentiment_is_positive)))"
   ]
  },
  {
   "cell_type": "markdown",
   "metadata": {},
   "source": [
    "# Text Preprocessing"
   ]
  },
  {
   "cell_type": "code",
   "execution_count": 16,
   "metadata": {},
   "outputs": [],
   "source": [
    "from sklearn.model_selection import train_test_split\n",
    "from sklearn.feature_extraction.text import TfidfVectorizer, CountVectorizer"
   ]
  },
  {
   "cell_type": "markdown",
   "metadata": {},
   "source": [
    "## Train-test split"
   ]
  },
  {
   "cell_type": "code",
   "execution_count": 17,
   "metadata": {},
   "outputs": [],
   "source": [
    "X_train, X_test, y_train, y_test = train_test_split(X, sentiment_is_positive, test_size=0.33, random_state=42)"
   ]
  },
  {
   "cell_type": "code",
   "execution_count": 18,
   "metadata": {},
   "outputs": [
    {
     "data": {
      "text/plain": [
       "'this case is nice well-made and fits snugly on the phone  i purchased this case along with another brand that was 100% tpu material  while i can see that this case is very scratch resistant i think i prefer a case that is 100% tpu because of improved grip and non-slip properties  the hard polycarbonate material on the back of this case will let the phone slide on a smooth surface like a table  i just prefer a case that has more of a \"grippy\" back so that the phone doesn\\'t slide on a smooth surface  but that\\'s just my preference'"
      ]
     },
     "execution_count": 18,
     "metadata": {},
     "output_type": "execute_result"
    }
   ],
   "source": [
    "X_train[0]"
   ]
  },
  {
   "cell_type": "code",
   "execution_count": 19,
   "metadata": {},
   "outputs": [
    {
     "data": {
      "text/plain": [
       "True"
      ]
     },
     "execution_count": 19,
     "metadata": {},
     "output_type": "execute_result"
    }
   ],
   "source": [
    "y_train[0]"
   ]
  },
  {
   "cell_type": "markdown",
   "metadata": {},
   "source": [
    "## Tokenization"
   ]
  },
  {
   "cell_type": "code",
   "execution_count": 21,
   "metadata": {},
   "outputs": [],
   "source": [
    "from nltk.tokenize import word_tokenize\n",
    "def tokenize_reviews(reviews):\n",
    "    tokenized_reviews = [word_tokenize(review) for review in reviews]\n",
    "    return tokenized_reviews"
   ]
  },
  {
   "cell_type": "markdown",
   "metadata": {},
   "source": [
    "Let's test the function:"
   ]
  },
  {
   "cell_type": "code",
   "execution_count": 23,
   "metadata": {},
   "outputs": [
    {
     "data": {
      "text/plain": [
       "'this case is nice well-made and fits snugly on the phone  i purchased this case along with another brand that was 100% tpu material  while i can see that this case is very scratch resistant i think i prefer a case that is 100% tpu because of improved grip and non-slip properties  the hard polycarbonate material on the back of this case will let the phone slide on a smooth surface like a table  i just prefer a case that has more of a \"grippy\" back so that the phone doesn\\'t slide on a smooth surface  but that\\'s just my preference'"
      ]
     },
     "execution_count": 23,
     "metadata": {},
     "output_type": "execute_result"
    }
   ],
   "source": [
    "X_train[0]"
   ]
  },
  {
   "cell_type": "code",
   "execution_count": 31,
   "metadata": {},
   "outputs": [
    {
     "data": {
      "text/plain": [
       "['this',\n",
       " 'case',\n",
       " 'is',\n",
       " 'nice',\n",
       " 'well-made',\n",
       " 'and',\n",
       " 'fits',\n",
       " 'snugly',\n",
       " 'on',\n",
       " 'the',\n",
       " 'phone',\n",
       " 'i',\n",
       " 'purchased',\n",
       " 'this',\n",
       " 'case',\n",
       " 'along',\n",
       " 'with',\n",
       " 'another',\n",
       " 'brand',\n",
       " 'that',\n",
       " 'was',\n",
       " '100',\n",
       " '%',\n",
       " 'tpu',\n",
       " 'material',\n",
       " 'while',\n",
       " 'i',\n",
       " 'can',\n",
       " 'see',\n",
       " 'that',\n",
       " 'this',\n",
       " 'case',\n",
       " 'is',\n",
       " 'very',\n",
       " 'scratch',\n",
       " 'resistant',\n",
       " 'i',\n",
       " 'think',\n",
       " 'i',\n",
       " 'prefer',\n",
       " 'a',\n",
       " 'case',\n",
       " 'that',\n",
       " 'is',\n",
       " '100',\n",
       " '%',\n",
       " 'tpu',\n",
       " 'because',\n",
       " 'of',\n",
       " 'improved',\n",
       " 'grip',\n",
       " 'and',\n",
       " 'non-slip',\n",
       " 'properties',\n",
       " 'the',\n",
       " 'hard',\n",
       " 'polycarbonate',\n",
       " 'material',\n",
       " 'on',\n",
       " 'the',\n",
       " 'back',\n",
       " 'of',\n",
       " 'this',\n",
       " 'case',\n",
       " 'will',\n",
       " 'let',\n",
       " 'the',\n",
       " 'phone',\n",
       " 'slide',\n",
       " 'on',\n",
       " 'a',\n",
       " 'smooth',\n",
       " 'surface',\n",
       " 'like',\n",
       " 'a',\n",
       " 'table',\n",
       " 'i',\n",
       " 'just',\n",
       " 'prefer',\n",
       " 'a',\n",
       " 'case',\n",
       " 'that',\n",
       " 'has',\n",
       " 'more',\n",
       " 'of',\n",
       " 'a',\n",
       " '``',\n",
       " 'grippy',\n",
       " \"''\",\n",
       " 'back',\n",
       " 'so',\n",
       " 'that',\n",
       " 'the',\n",
       " 'phone',\n",
       " 'does',\n",
       " \"n't\",\n",
       " 'slide',\n",
       " 'on',\n",
       " 'a',\n",
       " 'smooth',\n",
       " 'surface',\n",
       " 'but',\n",
       " 'that',\n",
       " \"'s\",\n",
       " 'just',\n",
       " 'my',\n",
       " 'preference']"
      ]
     },
     "execution_count": 31,
     "metadata": {},
     "output_type": "execute_result"
    }
   ],
   "source": [
    "tokenized_review_test = tokenize_reviews([X_train[0]])[0]\n",
    "tokenized_review_test"
   ]
  },
  {
   "cell_type": "code",
   "execution_count": 32,
   "metadata": {},
   "outputs": [],
   "source": [
    "#dump(X_train_tokenized, 'X_train_tokenized.joblib')\n",
    "#dump(X_test_tokenized, 'X_test_tokenized.joblib')"
   ]
  },
  {
   "cell_type": "markdown",
   "metadata": {},
   "source": [
    "## Stop words removal"
   ]
  },
  {
   "cell_type": "code",
   "execution_count": 33,
   "metadata": {},
   "outputs": [],
   "source": [
    "from nltk.corpus import stopwords\n",
    "stopws = stopwords.words(\"english\")"
   ]
  },
  {
   "cell_type": "markdown",
   "metadata": {},
   "source": [
    "Some words, however, have an important meaning for our task:"
   ]
  },
  {
   "cell_type": "code",
   "execution_count": 34,
   "metadata": {},
   "outputs": [
    {
     "data": {
      "text/plain": [
       "array(['ain', 'aren', \"aren't\", 'couldn', \"couldn't\", 'didn', \"didn't\",\n",
       "       'doesn', \"doesn't\", 'hadn', \"hadn't\", 'hasn', \"hasn't\", 'haven',\n",
       "       \"haven't\", 'isn', \"isn't\", 'ma', 'mightn', \"mightn't\", 'mustn',\n",
       "       \"mustn't\", 'needn', \"needn't\", 'shan', \"shan't\", 'shouldn',\n",
       "       \"shouldn't\", 'wasn', \"wasn't\", 'weren', \"weren't\", 'won', \"won't\",\n",
       "       'wouldn', \"wouldn't\"], dtype='<U9')"
      ]
     },
     "execution_count": 34,
     "metadata": {},
     "output_type": "execute_result"
    }
   ],
   "source": [
    "np.array(stopws[-36:])"
   ]
  },
  {
   "cell_type": "code",
   "execution_count": 35,
   "metadata": {},
   "outputs": [],
   "source": [
    "stopws = stopws[:-36]"
   ]
  },
  {
   "cell_type": "markdown",
   "metadata": {},
   "source": [
    "Other words with a useful meaning:"
   ]
  },
  {
   "cell_type": "code",
   "execution_count": 36,
   "metadata": {},
   "outputs": [],
   "source": [
    "words2save = [\"but\", \"while\", \"against\", \"not\", \"only\", \"very\", 'don', \"don't\"]"
   ]
  },
  {
   "cell_type": "markdown",
   "metadata": {},
   "source": [
    "Let's now create a function that removes certain stop words from a given text"
   ]
  },
  {
   "cell_type": "code",
   "execution_count": 37,
   "metadata": {},
   "outputs": [],
   "source": [
    "def remove_stop_words(reviews):\n",
    "    stopws = stopwords.words(\"english\")\n",
    "    #Exclude stop words with negation\n",
    "    stopws = stopws[:-36]\n",
    "    #Let's also keep the following words:\n",
    "    words2save = [\"but\", \"while\", \"against\", \"not\", \"only\", \"very\", 'don', \"don't\"]\n",
    "    for w in words2save:\n",
    "        stopws.remove(w)\n",
    "    cleaned_reviews = []\n",
    "    for review in reviews:\n",
    "        cleaned_review = [word for word in review if word not in stopws]\n",
    "        cleaned_reviews.append(cleaned_review)\n",
    "    return cleaned_reviews"
   ]
  },
  {
   "cell_type": "markdown",
   "metadata": {},
   "source": [
    "Let's now test the function:"
   ]
  },
  {
   "cell_type": "code",
   "execution_count": 38,
   "metadata": {},
   "outputs": [
    {
     "data": {
      "text/plain": [
       "['this',\n",
       " 'case',\n",
       " 'is',\n",
       " 'nice',\n",
       " 'well-made',\n",
       " 'and',\n",
       " 'fits',\n",
       " 'snugly',\n",
       " 'on',\n",
       " 'the',\n",
       " 'phone',\n",
       " 'i',\n",
       " 'purchased',\n",
       " 'this',\n",
       " 'case',\n",
       " 'along',\n",
       " 'with',\n",
       " 'another',\n",
       " 'brand',\n",
       " 'that',\n",
       " 'was',\n",
       " '100',\n",
       " '%',\n",
       " 'tpu',\n",
       " 'material',\n",
       " 'while',\n",
       " 'i',\n",
       " 'can',\n",
       " 'see',\n",
       " 'that',\n",
       " 'this',\n",
       " 'case',\n",
       " 'is',\n",
       " 'very',\n",
       " 'scratch',\n",
       " 'resistant',\n",
       " 'i',\n",
       " 'think',\n",
       " 'i',\n",
       " 'prefer',\n",
       " 'a',\n",
       " 'case',\n",
       " 'that',\n",
       " 'is',\n",
       " '100',\n",
       " '%',\n",
       " 'tpu',\n",
       " 'because',\n",
       " 'of',\n",
       " 'improved',\n",
       " 'grip',\n",
       " 'and',\n",
       " 'non-slip',\n",
       " 'properties',\n",
       " 'the',\n",
       " 'hard',\n",
       " 'polycarbonate',\n",
       " 'material',\n",
       " 'on',\n",
       " 'the',\n",
       " 'back',\n",
       " 'of',\n",
       " 'this',\n",
       " 'case',\n",
       " 'will',\n",
       " 'let',\n",
       " 'the',\n",
       " 'phone',\n",
       " 'slide',\n",
       " 'on',\n",
       " 'a',\n",
       " 'smooth',\n",
       " 'surface',\n",
       " 'like',\n",
       " 'a',\n",
       " 'table',\n",
       " 'i',\n",
       " 'just',\n",
       " 'prefer',\n",
       " 'a',\n",
       " 'case',\n",
       " 'that',\n",
       " 'has',\n",
       " 'more',\n",
       " 'of',\n",
       " 'a',\n",
       " '``',\n",
       " 'grippy',\n",
       " \"''\",\n",
       " 'back',\n",
       " 'so',\n",
       " 'that',\n",
       " 'the',\n",
       " 'phone',\n",
       " 'does',\n",
       " \"n't\",\n",
       " 'slide',\n",
       " 'on',\n",
       " 'a',\n",
       " 'smooth',\n",
       " 'surface',\n",
       " 'but',\n",
       " 'that',\n",
       " \"'s\",\n",
       " 'just',\n",
       " 'my',\n",
       " 'preference']"
      ]
     },
     "execution_count": 38,
     "metadata": {},
     "output_type": "execute_result"
    }
   ],
   "source": [
    "tokenized_review_test"
   ]
  },
  {
   "cell_type": "code",
   "execution_count": 43,
   "metadata": {},
   "outputs": [
    {
     "data": {
      "text/plain": [
       "['case',\n",
       " 'nice',\n",
       " 'well-made',\n",
       " 'fits',\n",
       " 'snugly',\n",
       " 'phone',\n",
       " 'purchased',\n",
       " 'case',\n",
       " 'along',\n",
       " 'another',\n",
       " 'brand',\n",
       " '100',\n",
       " '%',\n",
       " 'tpu',\n",
       " 'material',\n",
       " 'while',\n",
       " 'see',\n",
       " 'case',\n",
       " 'very',\n",
       " 'scratch',\n",
       " 'resistant',\n",
       " 'think',\n",
       " 'prefer',\n",
       " 'case',\n",
       " '100',\n",
       " '%',\n",
       " 'tpu',\n",
       " 'improved',\n",
       " 'grip',\n",
       " 'non-slip',\n",
       " 'properties',\n",
       " 'hard',\n",
       " 'polycarbonate',\n",
       " 'material',\n",
       " 'back',\n",
       " 'case',\n",
       " 'let',\n",
       " 'phone',\n",
       " 'slide',\n",
       " 'smooth',\n",
       " 'surface',\n",
       " 'like',\n",
       " 'table',\n",
       " 'prefer',\n",
       " 'case',\n",
       " '``',\n",
       " 'grippy',\n",
       " \"''\",\n",
       " 'back',\n",
       " 'phone',\n",
       " \"n't\",\n",
       " 'slide',\n",
       " 'smooth',\n",
       " 'surface',\n",
       " 'but',\n",
       " \"'s\",\n",
       " 'preference']"
      ]
     },
     "execution_count": 43,
     "metadata": {},
     "output_type": "execute_result"
    }
   ],
   "source": [
    "cleaned_review_test = remove_stop_words([tokenized_review_test])[0]\n",
    "cleaned_review_test"
   ]
  },
  {
   "cell_type": "markdown",
   "metadata": {},
   "source": [
    "## Stemming\n",
    "Because it is necessary to install Visual C++ before installing the package 'pyStemmer' via pip https://support.microsoft.com/it-it/help/2977003/the-latest-supported-visual-c-downloads I will use nltk library even though it is less efficient"
   ]
  },
  {
   "cell_type": "code",
   "execution_count": 50,
   "metadata": {},
   "outputs": [],
   "source": [
    "from nltk.stem import PorterStemmer, LancasterStemmer\n",
    "def stem_reviews(reviews, stemmer_name=\"Porter\"):\n",
    "    if stemmer_name == \"Porter\":\n",
    "        stemmer = PorterStemmer()\n",
    "    elif stemmer_name == \"Lancaster\":\n",
    "        stemmer = LancasterStemmer()\n",
    "    else:\n",
    "        raise SystemError\n",
    "    stemmed_reviews = []\n",
    "    for review in reviews:\n",
    "        stemmed_reviews.append([stemmer.stem(word) for word in review])\n",
    "    return stemmed_reviews"
   ]
  },
  {
   "cell_type": "markdown",
   "metadata": {},
   "source": [
    "Once again let's test the function:"
   ]
  },
  {
   "cell_type": "code",
   "execution_count": 51,
   "metadata": {},
   "outputs": [
    {
     "data": {
      "text/plain": [
       "['case',\n",
       " 'nice',\n",
       " 'well-made',\n",
       " 'fits',\n",
       " 'snugly',\n",
       " 'phone',\n",
       " 'purchased',\n",
       " 'case',\n",
       " 'along',\n",
       " 'another',\n",
       " 'brand',\n",
       " '100',\n",
       " '%',\n",
       " 'tpu',\n",
       " 'material',\n",
       " 'while',\n",
       " 'see',\n",
       " 'case',\n",
       " 'very',\n",
       " 'scratch',\n",
       " 'resistant',\n",
       " 'think',\n",
       " 'prefer',\n",
       " 'case',\n",
       " '100',\n",
       " '%',\n",
       " 'tpu',\n",
       " 'improved',\n",
       " 'grip',\n",
       " 'non-slip',\n",
       " 'properties',\n",
       " 'hard',\n",
       " 'polycarbonate',\n",
       " 'material',\n",
       " 'back',\n",
       " 'case',\n",
       " 'let',\n",
       " 'phone',\n",
       " 'slide',\n",
       " 'smooth',\n",
       " 'surface',\n",
       " 'like',\n",
       " 'table',\n",
       " 'prefer',\n",
       " 'case',\n",
       " '``',\n",
       " 'grippy',\n",
       " \"''\",\n",
       " 'back',\n",
       " 'phone',\n",
       " \"n't\",\n",
       " 'slide',\n",
       " 'smooth',\n",
       " 'surface',\n",
       " 'but',\n",
       " \"'s\",\n",
       " 'preference']"
      ]
     },
     "execution_count": 51,
     "metadata": {},
     "output_type": "execute_result"
    }
   ],
   "source": [
    "cleaned_review_test"
   ]
  },
  {
   "cell_type": "markdown",
   "metadata": {},
   "source": [
    "This is the result using the Porter Stemmer"
   ]
  },
  {
   "cell_type": "code",
   "execution_count": 52,
   "metadata": {},
   "outputs": [
    {
     "data": {
      "text/plain": [
       "['case',\n",
       " 'nice',\n",
       " 'well-mad',\n",
       " 'fit',\n",
       " 'snugli',\n",
       " 'phone',\n",
       " 'purchas',\n",
       " 'case',\n",
       " 'along',\n",
       " 'anoth',\n",
       " 'brand',\n",
       " '100',\n",
       " '%',\n",
       " 'tpu',\n",
       " 'materi',\n",
       " 'while',\n",
       " 'see',\n",
       " 'case',\n",
       " 'veri',\n",
       " 'scratch',\n",
       " 'resist',\n",
       " 'think',\n",
       " 'prefer',\n",
       " 'case',\n",
       " '100',\n",
       " '%',\n",
       " 'tpu',\n",
       " 'improv',\n",
       " 'grip',\n",
       " 'non-slip',\n",
       " 'properti',\n",
       " 'hard',\n",
       " 'polycarbon',\n",
       " 'materi',\n",
       " 'back',\n",
       " 'case',\n",
       " 'let',\n",
       " 'phone',\n",
       " 'slide',\n",
       " 'smooth',\n",
       " 'surfac',\n",
       " 'like',\n",
       " 'tabl',\n",
       " 'prefer',\n",
       " 'case',\n",
       " '``',\n",
       " 'grippi',\n",
       " \"''\",\n",
       " 'back',\n",
       " 'phone',\n",
       " \"n't\",\n",
       " 'slide',\n",
       " 'smooth',\n",
       " 'surfac',\n",
       " 'but',\n",
       " \"'s\",\n",
       " 'prefer']"
      ]
     },
     "execution_count": 52,
     "metadata": {},
     "output_type": "execute_result"
    }
   ],
   "source": [
    "porter_test = stem_reviews([cleaned_review_test])[0]\n",
    "porter_test"
   ]
  },
  {
   "cell_type": "markdown",
   "metadata": {},
   "source": [
    "Instead, if the Lancaster stemmer is chosen this is the result:"
   ]
  },
  {
   "cell_type": "code",
   "execution_count": 53,
   "metadata": {},
   "outputs": [
    {
     "data": {
      "text/plain": [
       "['cas',\n",
       " 'nic',\n",
       " 'well-made',\n",
       " 'fit',\n",
       " 'snug',\n",
       " 'phon',\n",
       " 'purchas',\n",
       " 'cas',\n",
       " 'along',\n",
       " 'anoth',\n",
       " 'brand',\n",
       " '100',\n",
       " '%',\n",
       " 'tpu',\n",
       " 'mat',\n",
       " 'whil',\n",
       " 'see',\n",
       " 'cas',\n",
       " 'very',\n",
       " 'scratch',\n",
       " 'resist',\n",
       " 'think',\n",
       " 'pref',\n",
       " 'cas',\n",
       " '100',\n",
       " '%',\n",
       " 'tpu',\n",
       " 'improv',\n",
       " 'grip',\n",
       " 'non-slip',\n",
       " 'property',\n",
       " 'hard',\n",
       " 'polycarbon',\n",
       " 'mat',\n",
       " 'back',\n",
       " 'cas',\n",
       " 'let',\n",
       " 'phon',\n",
       " 'slid',\n",
       " 'smoo',\n",
       " 'surfac',\n",
       " 'lik',\n",
       " 'tabl',\n",
       " 'pref',\n",
       " 'cas',\n",
       " '``',\n",
       " 'grippy',\n",
       " \"''\",\n",
       " 'back',\n",
       " 'phon',\n",
       " \"n't\",\n",
       " 'slid',\n",
       " 'smoo',\n",
       " 'surfac',\n",
       " 'but',\n",
       " \"'s\",\n",
       " 'pref']"
      ]
     },
     "execution_count": 53,
     "metadata": {},
     "output_type": "execute_result"
    }
   ],
   "source": [
    "lancaster_test = stem_reviews([cleaned_review_test], stemmer_name='Lancaster')[0]\n",
    "lancaster_test"
   ]
  },
  {
   "cell_type": "markdown",
   "metadata": {},
   "source": [
    "## TF-IDF\n",
    "For computing TF-IDF matrix we need to rebuild the sentences: each review is a list of words while a string is needed."
   ]
  },
  {
   "cell_type": "code",
   "execution_count": 78,
   "metadata": {},
   "outputs": [],
   "source": [
    "def rebuild_reviews(reviews):\n",
    "    rebuilt_reviews = []\n",
    "    for review in reviews:\n",
    "        rebuilt_reviews.append(\" \".join(review))\n",
    "    return rebuilt_reviews"
   ]
  },
  {
   "cell_type": "markdown",
   "metadata": {},
   "source": [
    "Usual test for checking if everything works as expected"
   ]
  },
  {
   "cell_type": "code",
   "execution_count": 79,
   "metadata": {},
   "outputs": [
    {
     "data": {
      "text/plain": [
       "['cas',\n",
       " 'nic',\n",
       " 'well-made',\n",
       " 'fit',\n",
       " 'snug',\n",
       " 'phon',\n",
       " 'purchas',\n",
       " 'cas',\n",
       " 'along',\n",
       " 'anoth',\n",
       " 'brand',\n",
       " '100',\n",
       " '%',\n",
       " 'tpu',\n",
       " 'mat',\n",
       " 'whil',\n",
       " 'see',\n",
       " 'cas',\n",
       " 'very',\n",
       " 'scratch',\n",
       " 'resist',\n",
       " 'think',\n",
       " 'pref',\n",
       " 'cas',\n",
       " '100',\n",
       " '%',\n",
       " 'tpu',\n",
       " 'improv',\n",
       " 'grip',\n",
       " 'non-slip',\n",
       " 'property',\n",
       " 'hard',\n",
       " 'polycarbon',\n",
       " 'mat',\n",
       " 'back',\n",
       " 'cas',\n",
       " 'let',\n",
       " 'phon',\n",
       " 'slid',\n",
       " 'smoo',\n",
       " 'surfac',\n",
       " 'lik',\n",
       " 'tabl',\n",
       " 'pref',\n",
       " 'cas',\n",
       " '``',\n",
       " 'grippy',\n",
       " \"''\",\n",
       " 'back',\n",
       " 'phon',\n",
       " \"n't\",\n",
       " 'slid',\n",
       " 'smoo',\n",
       " 'surfac',\n",
       " 'but',\n",
       " \"'s\",\n",
       " 'pref']"
      ]
     },
     "execution_count": 79,
     "metadata": {},
     "output_type": "execute_result"
    }
   ],
   "source": [
    "lancaster_test"
   ]
  },
  {
   "cell_type": "code",
   "execution_count": 80,
   "metadata": {},
   "outputs": [
    {
     "data": {
      "text/plain": [
       "[\"cas nic well-made fit snug phon purchas cas along anoth brand 100 % tpu mat whil see cas very scratch resist think pref cas 100 % tpu improv grip non-slip property hard polycarbon mat back cas let phon slid smoo surfac lik tabl pref cas `` grippy '' back phon n't slid smoo surfac but 's pref\"]"
      ]
     },
     "execution_count": 80,
     "metadata": {},
     "output_type": "execute_result"
    }
   ],
   "source": [
    "rebuild_reviews([lancaster_test])"
   ]
  },
  {
   "cell_type": "markdown",
   "metadata": {},
   "source": [
    "## Compute TF-IDF matrix\n",
    "For avoiding a high number of features the following two constraints will be set:\n",
    "- A term should have a frequency >= 5 in the entire corpus\n",
    "- Only best 50 000 features are kept"
   ]
  },
  {
   "cell_type": "code",
   "execution_count": 98,
   "metadata": {},
   "outputs": [],
   "source": [
    "from sklearn.feature_extraction.text import TfidfVectorizer\n",
    "def create_tf_idf_matrix(X_train, X_test, min_doc_freq = 5, max_feat = 50000):\n",
    "    tfidf_vect = TfidfVectorizer(min_df= min_doc_freq, max_features = max_feat)\n",
    "    X_train_tfidf = tfidf_vect.fit_transform(X_train)\n",
    "    X_test_tfidf = tfidf_vect.transform(X_test)\n",
    "    return tfidf_vect, X_train_tfidf, X_test_tfidf"
   ]
  },
  {
   "cell_type": "code",
   "execution_count": 99,
   "metadata": {},
   "outputs": [
    {
     "data": {
      "text/plain": [
       "\"perhaps i received a faulty band but mine lasted less than 48 hours and caused my smartwatch to fall of twice the first time it fell off was at home and i noticed it because the watch fell on the hardwood floor making a noise the second time i was in class teaching and it fell on carpet which i wouldn't have noticed if my student hadn't pointed it out\\nthis band is a lovely color and looked great with the silver samsung gear s2 s smartwatch it is very smooth and comfortable i noticed it wasn't exactly flush against the sides of the watch from the beginning but it was so minute i didn't mind it worked perfectly the first day and a half the third day i had it is when it fell off i don't know why it no longer stayed on it looks the same on the ends yet one side pops right off it was very easy to put on and the sizing was great i did not sleep with it on and i didn't do anything that put unnecessary stress on it if there weren't so many other bands to choose just like this one i probably would have asked for a replacement but instead i returned it\\ni wish this band would have worked out\\n\\n5/13/16 update i have increased my star rating from 2 to 3 because the seller responded so kindly to my review and offered to replace it once i try out the replacement i will be re-evaluating\""
      ]
     },
     "execution_count": 99,
     "metadata": {},
     "output_type": "execute_result"
    }
   ],
   "source": [
    "X_train_sample = X_train[[1,5]]\n",
    "X_train_sample[0]"
   ]
  },
  {
   "cell_type": "code",
   "execution_count": 100,
   "metadata": {},
   "outputs": [
    {
     "data": {
      "text/plain": [
       "\"honestly when i got this i tossed the headphones as i already have very nice headphones for my phone and i did not purchase this for that anyway  i use the square card reader to take payments on the go for my business but since upgrading to a new heavy duty case i have had to resort to 'removing' the outer case in order to use the card reader  this was very inconvenient so i started my hunt for an extension  i found this and yes - at least for my phone (samsung galaxy s2) it works perfectly with my square reader\""
      ]
     },
     "execution_count": 100,
     "metadata": {},
     "output_type": "execute_result"
    }
   ],
   "source": [
    "X_train_sample[1]"
   ]
  },
  {
   "cell_type": "code",
   "execution_count": 101,
   "metadata": {},
   "outputs": [
    {
     "data": {
      "text/plain": [
       "'perfect fit'"
      ]
     },
     "execution_count": 101,
     "metadata": {},
     "output_type": "execute_result"
    }
   ],
   "source": [
    "X_test_sample = X_test[[1,5]]\n",
    "X_test_sample[0]"
   ]
  },
  {
   "cell_type": "code",
   "execution_count": 102,
   "metadata": {},
   "outputs": [
    {
     "data": {
      "text/plain": [
       "'<a data-hook=\"product-link-linked\" class=\"a-link-normal\" href=\"/blu-pure-xl-smartphone-4g-lte-gsm-unlocked-64gb-3gb-ram-grey/dp/b01612pvb8/ref=cm_cr_arp_d_rvw_txtie=utf8\">blu pure xl smartphone - 4g lte gsm unlocked - 64gb +3gb ram - grey</a>the blu pure xl is amazing very fast speed and amazing screen detail the camera it amazing but does make pictures very bright low light is fantastic and focus is fast and sharp you get way more than what you pay for\\n\\nspeakers the dual stereo speakers are loud and clear i have to turn the phone down in order to make my ringer not be heard by the neighbors\\n\\nscreen screen is full 1440 and the refresh rate is high end while watching videos you\\'ll be able to see pores on faces just fine and very fluid movement\\n\\n1 handed ability the built-in keyboard is great but swipe prediction is very pore this does have very good one handed support but i recommend replacing the keyboard app with something that has better prediction if you\\'re a swipe user\\n\\nnetwork although this phone has lte bands built in the older bands that most companies offer in little to smaller areas are not supported this phone is made with the newer bands that most companies are upgrading towers to provide so if someone does get this phone and the newer band is not in your area you\\'ll have either h+ or 4g (refer below) not to worry all the cell companies are working on the upgrades and the lte bands will become available in your area soon refer to your provider for further information as of now lte is supported on this phone in most cities towns  and urban areas depending on service i recommend a service sunning on at&t towers until t-mobile finishes upgrades on towers lte is very limited and may continue to be limited due to no support for band 12 (although there is band 4 which is t-mobiles dominate)\\n\\nnote this phone was said to be getting marshmallow but for now we have a stock version of lollipop no set date has been announced for the update\\n\\n1 e = edge/gsm when getting this sign you are getting the weakest signal for your phone but are still getting non-roaming signal for general calls and text i advise if this is your areas mane signal strength you have a wi-fi signal available for the data internet connection\\n\\n2 g = 2g/gsm when the g is showing you are getting remedial signal but still pretty strong calls and text\\'s will be flawless and you will be able to do general internet surfing but you will not be loading any hd videos or have perfect connection to online only game\\'s with this i recommend a wi-fi signal in your house if you plan on using the internet in these areas\\n\\n3 h = 3g-/hspa this signal is classified as 3g but runs a little slower or faster depending on how close you are to the main tower if you\\'re getting a good amount of bars with signal will do flawless calls text\\'s and you\\'ll be able to able to surf the internet and load videos at a max of 480p (320 resolution is recommend for best result)\\n\\n4 3g = 3g+/gsm/hspa this is the full 3g speed and will be flawless with calls text\\'s and be able to stream video like netflix and hulu (recommended 480 resolution) play online games and surf the internet fast and easy\\n\\n5 h+ = 4g-/gsm/hspa+ this is the signal that most first generation 4g phones use perfect for all light movie watchers and small business people flawless calls text\\'s and the internet is speedy h+ although fast has been known to be faulty in a lot of area\\'s and was quickly replaced if you\\'ve got this signal it\\'s still 4g but it\\'s kind of like the egde version of 4g for best results stay in one place when in use as service changes rapidly while moving from place to place example using this speed while driving would not be reliable\\n\\n6 4g = 4g/gsm/hspa+ this is the 4g signal that was most used from 2010 to 2012 4g phones use such as the galaxy s series (sept for the s4) although this is a very fast and reliable it\\'s not as fast as lte in most areas but for the average person whom just watched movies and plays online games on his/her phone this signal is more than enough to give anyone a crisp fast feel and load hd movies (720p recommended but not limited to)\\n\\n7 4g lte = 4g+/gsm/lte this is the current signal most used it is lighting fast and is the most reliable for non-stop videos gaming and downloading\\n\\ndisclaimer about blu phones most blu phones are made to have a long shelf like as they are not ready to sell from a store as such the battery has never had a full charge i recommend before turning the phone on to charge it for a full 8 to 12 hours and not to unplug it even if it says full if you turn the phones on before they are charged fully you risk losing battery memory and suffering pore battery life\\n\\nnotice most blu phones to not auto populate access point names (apn) and in turn when someone puts in the sim card the service seems to not work or some people will start having issues with picture messaging google search your provider for correct apn settings and install them in the phone yourself this is an issue with most unlocked phones and is very easy to fix'"
      ]
     },
     "execution_count": 102,
     "metadata": {},
     "output_type": "execute_result"
    }
   ],
   "source": [
    "X_test_sample[1]"
   ]
  },
  {
   "cell_type": "code",
   "execution_count": 103,
   "metadata": {},
   "outputs": [],
   "source": [
    "tfidf_vect, X_train_tfidf, X_test_tfidf = create_tf_idf_matrix(X_train_sample, X_test_sample, min_doc_freq=1)"
   ]
  },
  {
   "cell_type": "code",
   "execution_count": 105,
   "metadata": {},
   "outputs": [
    {
     "data": {
      "text/plain": [
       "178"
      ]
     },
     "execution_count": 105,
     "metadata": {},
     "output_type": "execute_result"
    }
   ],
   "source": [
    "len(tfidf_vect.get_feature_names())"
   ]
  },
  {
   "cell_type": "code",
   "execution_count": 106,
   "metadata": {},
   "outputs": [
    {
     "name": "stdout",
     "output_type": "stream",
     "text": [
      "  (0, 105)\t0.040311144197764756\n",
      "  (0, 115)\t0.040311144197764756\n",
      "  (0, 39)\t0.040311144197764756\n",
      "  (0, 12)\t0.12093343259329425\n",
      "  (0, 18)\t0.08604513331254271\n",
      "  (0, 84)\t0.040311144197764756\n",
      "  (0, 73)\t0.040311144197764756\n",
      "  (0, 75)\t0.040311144197764756\n",
      "  (0, 146)\t0.040311144197764756\n",
      "  (0, 2)\t0.040311144197764756\n",
      "  (0, 61)\t0.040311144197764756\n",
      "  (0, 6)\t0.25813539993762813\n",
      "  (0, 22)\t0.040311144197764756\n",
      "  (0, 86)\t0.11472684441672362\n",
      "  (0, 135)\t0.08062228839552951\n",
      "  (0, 153)\t0.17209026662508542\n",
      "  (0, 38)\t0.040311144197764756\n",
      "  (0, 93)\t0.08062228839552951\n",
      "  (0, 156)\t0.040311144197764756\n",
      "  (0, 148)\t0.43022566656271355\n",
      "  (0, 41)\t0.08062228839552951\n",
      "  (0, 152)\t0.08062228839552951\n",
      "  (0, 69)\t0.4875890887710754\n",
      "  (0, 40)\t0.16124457679105902\n",
      "  (0, 94)\t0.12093343259329425\n",
      "  :\t:\n",
      "  (1, 114)\t0.25640170450071137\n",
      "  (1, 144)\t0.08546723483357047\n",
      "  (1, 103)\t0.08546723483357047\n",
      "  (1, 49)\t0.08546723483357047\n",
      "  (1, 17)\t0.08546723483357047\n",
      "  (1, 132)\t0.08546723483357047\n",
      "  (1, 159)\t0.08546723483357047\n",
      "  (1, 87)\t0.08546723483357047\n",
      "  (1, 58)\t0.08546723483357047\n",
      "  (1, 32)\t0.08546723483357047\n",
      "  (1, 21)\t0.17093446966714093\n",
      "  (1, 119)\t0.08546723483357047\n",
      "  (1, 116)\t0.08546723483357047\n",
      "  (1, 102)\t0.08546723483357047\n",
      "  (1, 99)\t0.08546723483357047\n",
      "  (1, 65)\t0.08546723483357047\n",
      "  (1, 140)\t0.08546723483357047\n",
      "  (1, 62)\t0.08546723483357047\n",
      "  (1, 5)\t0.08546723483357047\n",
      "  (1, 37)\t0.08546723483357047\n",
      "  (1, 45)\t0.08546723483357047\n",
      "  (1, 176)\t0.08546723483357047\n",
      "  (1, 74)\t0.08546723483357047\n",
      "  (1, 47)\t0.08546723483357047\n",
      "  (1, 173)\t0.08546723483357047\n"
     ]
    }
   ],
   "source": [
    "print(X_train_tfidf)"
   ]
  },
  {
   "cell_type": "code",
   "execution_count": 107,
   "metadata": {},
   "outputs": [
    {
     "name": "stdout",
     "output_type": "stream",
     "text": [
      "  (1, 174)\t0.016140172660558772\n",
      "  (1, 171)\t0.08038706046284601\n",
      "  (1, 169)\t0.11298120862391142\n",
      "  (1, 167)\t0.016140172660558772\n",
      "  (1, 166)\t0.04593546312162629\n",
      "  (1, 162)\t0.03445159734121972\n",
      "  (1, 161)\t0.09187092624325258\n",
      "  (1, 160)\t0.04842051798167632\n",
      "  (1, 159)\t0.016140172660558772\n",
      "  (1, 158)\t0.016140172660558772\n",
      "  (1, 153)\t0.3330321076317906\n",
      "  (1, 151)\t0.21819344982772487\n",
      "  (1, 149)\t0.016140172660558772\n",
      "  (1, 148)\t0.43638689965544974\n",
      "  (1, 147)\t0.057419328902032864\n",
      "  (1, 146)\t0.032280345321117544\n",
      "  (1, 137)\t0.011483865780406572\n",
      "  (1, 113)\t0.032280345321117544\n",
      "  (1, 106)\t0.16140172660558774\n",
      "  (1, 99)\t0.016140172660558772\n",
      "  (1, 98)\t0.032280345321117544\n",
      "  (1, 96)\t0.1263225235844723\n",
      "  (1, 93)\t0.11298120862391142\n",
      "  (1, 91)\t0.13780638936487888\n",
      "  (1, 89)\t0.032280345321117544\n",
      "  :\t:\n",
      "  (1, 64)\t0.18374185248650515\n",
      "  (1, 63)\t0.12912138128447018\n",
      "  (1, 61)\t0.016140172660558772\n",
      "  (1, 56)\t0.08038706046284601\n",
      "  (1, 52)\t0.011483865780406572\n",
      "  (1, 51)\t0.016140172660558772\n",
      "  (1, 50)\t0.016140172660558772\n",
      "  (1, 47)\t0.016140172660558772\n",
      "  (1, 46)\t0.04842051798167632\n",
      "  (1, 44)\t0.18374185248650515\n",
      "  (1, 41)\t0.016140172660558772\n",
      "  (1, 39)\t0.016140172660558772\n",
      "  (1, 33)\t0.032280345321117544\n",
      "  (1, 30)\t0.032280345321117544\n",
      "  (1, 24)\t0.016140172660558772\n",
      "  (1, 19)\t0.016140172660558772\n",
      "  (1, 18)\t0.1263225235844723\n",
      "  (1, 17)\t0.016140172660558772\n",
      "  (1, 14)\t0.19368207192670528\n",
      "  (1, 13)\t0.06456069064223509\n",
      "  (1, 12)\t0.04842051798167632\n",
      "  (1, 11)\t0.022967731560813144\n",
      "  (1, 9)\t0.12912138128447018\n",
      "  (1, 6)\t0.3789675707534169\n",
      "  (1, 5)\t0.016140172660558772\n"
     ]
    }
   ],
   "source": [
    "print(X_test_tfidf)"
   ]
  },
  {
   "cell_type": "markdown",
   "metadata": {},
   "source": [
    "## Merge all preprocessing functions"
   ]
  },
  {
   "cell_type": "code",
   "execution_count": 111,
   "metadata": {},
   "outputs": [],
   "source": [
    "def preprocess_reviews(X_train,\n",
    "                       X_test,\n",
    "                       apply_tokenization=True,\n",
    "                       apply_stop_words_removal=True,\n",
    "                       apply_stemming=True,\n",
    "                       stemmer = \"Porter\"):\n",
    "    if apply_tokenization:\n",
    "        X_train = tokenize_reviews(X_train)\n",
    "        X_test = tokenize_reviews(X_test)\n",
    "        print(\"Tokenization completed!\")\n",
    "    if apply_stop_words_removal:\n",
    "        X_train = remove_stop_words(X_train)\n",
    "        X_test = remove_stop_words(X_test)\n",
    "        print(\"Stop words removal completed!\")\n",
    "    if apply_stemming:\n",
    "        X_train = stem_reviews(X_train, stemmer)\n",
    "        X_test = stem_reviews(X_test, stemmer)\n",
    "        print(\"Stemming completed!\")\n",
    "    X_train = rebuild_reviews(X_train)\n",
    "    X_test = rebuild_reviews(X_test)\n",
    "    tfidf_vect, X_train, X_test = create_tf_idf_matrix(X_train, X_test)\n",
    "    return tfidf_vect, X_train, X_test"
   ]
  },
  {
   "cell_type": "markdown",
   "metadata": {},
   "source": [
    "# Classifiers\n",
    "## Multinomial Naive-Bayes\n",
    "### Porter"
   ]
  },
  {
   "cell_type": "code",
   "execution_count": 112,
   "metadata": {},
   "outputs": [
    {
     "name": "stdout",
     "output_type": "stream",
     "text": [
      "Tokenization completed!\n",
      "Stop words removal completed!\n",
      "Stemming completed!\n"
     ]
    },
    {
     "data": {
      "text/plain": [
       "MultinomialNB(alpha=1.0, class_prior=None, fit_prior=True)"
      ]
     },
     "execution_count": 112,
     "metadata": {},
     "output_type": "execute_result"
    }
   ],
   "source": [
    "from sklearn.naive_bayes import MultinomialNB\n",
    "clf = MultinomialNB()\n",
    "tfidf_vect, X_train_tfidf_ps, X_test_tfidf_ps = preprocess_reviews(X_train, X_test)\n",
    "clf.fit(X_train_tfidf_ps, y_train)"
   ]
  },
  {
   "cell_type": "markdown",
   "metadata": {},
   "source": [
    "### Evaluate performances"
   ]
  },
  {
   "cell_type": "code",
   "execution_count": 113,
   "metadata": {},
   "outputs": [],
   "source": [
    "from sklearn.metrics import precision_recall_curve, auc, confusion_matrix, f1_score, fbeta_score, precision_score, recall_score"
   ]
  },
  {
   "cell_type": "code",
   "execution_count": 114,
   "metadata": {},
   "outputs": [],
   "source": [
    "train_score = clf.score(X_train_tfidf_ps, y_train) # Train Accuracy\n",
    "test_score = clf.score(X_test_tfidf_ps, y_test)    # Test Accuracy\n",
    "print(train_score)\n",
    "print(test_score)"
   ]
  },
  {
   "cell_type": "code",
   "execution_count": 117,
   "metadata": {},
   "outputs": [],
   "source": [
    "predictions = clf.predict(X_test_tfidf_ps)\n",
    "prec = precision_score(y_test, predictions) # Precision\n",
    "rec = recall_score(y_test, predictions) # Recall\n",
    "f1 = f1_score(y_test, predictions) # F1\n",
    "f2 = fbeta_score(y_test, predictions, 2) # F2\n",
    "cm = confusion_matrix(y_test, predictions)"
   ]
  },
  {
   "cell_type": "code",
   "execution_count": 118,
   "metadata": {},
   "outputs": [
    {
     "data": {
      "text/plain": [
       "array([[ 23393,  54831],\n",
       "       [  4213, 289695]], dtype=int64)"
      ]
     },
     "execution_count": 118,
     "metadata": {},
     "output_type": "execute_result"
    }
   ],
   "source": [
    "cm"
   ]
  },
  {
   "cell_type": "code",
   "execution_count": 119,
   "metadata": {},
   "outputs": [],
   "source": [
    "proba = clf.predict_proba(X_test_tfidf_ps)\n",
    "precision, recall, pr_thresholds = precision_recall_curve(y_test, proba[:,1])\n",
    "auc_score = auc(recall, precision)\n",
    "scores_strings = [\"Train Accuracy\", \"Test Accuracy\", \"Test Precision\",\n",
    "                  \"Test Recall\", \"F1\", \"F2\", \"P/R AUC\"]\n",
    "scores = [train_score, test_score, prec, rec, f1, f2, auc_score]\n",
    "print((\"{:20s} {:.5f}\\n\"*7)[:-1].format(*itertools.chain(*zip(scores_strings, scores))))"
   ]
  },
  {
   "cell_type": "code",
   "execution_count": 122,
   "metadata": {},
   "outputs": [
    {
     "data": {
      "image/png": "[encoded data removed]",
      "text/plain": [
       "<Figure size 432x288 with 1 Axes>"
      ]
     },
     "metadata": {},
     "output_type": "display_data"
    }
   ],
   "source": [
    "plt.plot(recall, precision, label='Precision-Recall curve')\n",
    "plt.xlabel('Recall')\n",
    "plt.ylabel('Precision')\n",
    "plt.ylim([0.0, 1.05])\n",
    "plt.xlim([0.0, 1.0])\n",
    "plt.title('Precision-Recall Curve: AUC=%0.2f' % auc_score)\n",
    "plt.legend(loc=\"lower left\")\n",
    "plt.show()"
   ]
  },
  {
   "cell_type": "code",
   "execution_count": 123,
   "metadata": {},
   "outputs": [
    {
     "name": "stdout",
     "output_type": "stream",
     "text": [
      "             precision    recall  f1-score   support\n",
      "\n",
      "      False       0.85      0.30      0.44     78224\n",
      "       True       0.84      0.99      0.91    293908\n",
      "\n",
      "avg / total       0.84      0.84      0.81    372132\n",
      "\n"
     ]
    }
   ],
   "source": [
    "print(classification_report(y_test,predictions))"
   ]
  },
  {
   "cell_type": "markdown",
   "metadata": {},
   "source": [
    "### Lancaster"
   ]
  },
  {
   "cell_type": "code",
   "execution_count": 125,
   "metadata": {},
   "outputs": [
    {
     "name": "stdout",
     "output_type": "stream",
     "text": [
      "Tokenization completed!\n",
      "Stop words removal completed!\n",
      "Stemming completed!\n"
     ]
    },
    {
     "data": {
      "text/plain": [
       "MultinomialNB(alpha=1.0, class_prior=None, fit_prior=True)"
      ]
     },
     "execution_count": 125,
     "metadata": {},
     "output_type": "execute_result"
    }
   ],
   "source": [
    "clf = MultinomialNB()\n",
    "tfidf_vect, X_train_tfidf_ls, X_test_tfidf_ls = preprocess_reviews(X_train, X_test, stemmer='Lancaster')\n",
    "clf.fit(X_train_tfidf_ls, y_train)"
   ]
  },
  {
   "cell_type": "code",
   "execution_count": 126,
   "metadata": {},
   "outputs": [],
   "source": [
    "train_score = clf.score(X_train_tfidf_ls, y_train) # Train Accuracy\n",
    "test_score = clf.score(X_test_tfidf_ls, y_test)    # Test Accuracy\n",
    "print(train_score)\n",
    "print(test_score)"
   ]
  },
  {
   "cell_type": "code",
   "execution_count": 129,
   "metadata": {},
   "outputs": [],
   "source": [
    "predictions = clf.predict(X_test_tfidf_ls)\n",
    "prec = precision_score(y_test, predictions) # Precision\n",
    "rec = recall_score(y_test, predictions) # Recall\n",
    "f1 = f1_score(y_test, predictions) # F1\n",
    "f2 = fbeta_score(y_test, predictions, 2) # F2\n",
    "cm = confusion_matrix(y_test, predictions)\n",
    "proba = clf.predict_proba(X_test_tfidf_ls)\n",
    "precision, recall, pr_thresholds = precision_recall_curve(y_test, proba[:,1])\n",
    "auc_score = auc(recall, precision)\n",
    "scores_strings = [\"Train Accuracy\", \"Test Accuracy\", \"Test Precision\",\n",
    "                  \"Test Recall\", \"F1\", \"F2\", \"P/R AUC\"]\n",
    "scores = [train_score, test_score, prec, rec, f1, f2, auc_score]\n",
    "print((\"{:20s} {:.5f}\\n\"*7)[:-1].format(*itertools.chain(*zip(scores_strings, scores))))"
   ]
  },
  {
   "cell_type": "code",
   "execution_count": 130,
   "metadata": {},
   "outputs": [],
   "source": [
    "cm"
   ]
  },
  {
   "cell_type": "code",
   "execution_count": 132,
   "metadata": {},
   "outputs": [
    {
     "data": {
      "image/png": "[encoded data removed]",
      "text/plain": [
       "<Figure size 432x288 with 1 Axes>"
      ]
     },
     "metadata": {},
     "output_type": "display_data"
    }
   ],
   "source": [
    "plt.plot(recall, precision, label='Precision-Recall curve')\n",
    "plt.xlabel('Recall')\n",
    "plt.ylabel('Precision')\n",
    "plt.ylim([0.0, 1.05])\n",
    "plt.xlim([0.0, 1.0])\n",
    "plt.title('Precision-Recall Curve: AUC=%0.2f' % auc_score)\n",
    "plt.legend(loc=\"lower left\")\n",
    "plt.show()"
   ]
  },
  {
   "cell_type": "code",
   "execution_count": 133,
   "metadata": {},
   "outputs": [
    {
     "name": "stdout",
     "output_type": "stream",
     "text": [
      "             precision    recall  f1-score   support\n",
      "\n",
      "      False       0.85      0.28      0.42     78224\n",
      "       True       0.84      0.99      0.91    293908\n",
      "\n",
      "avg / total       0.84      0.84      0.80    372132\n",
      "\n"
     ]
    }
   ],
   "source": [
    "print(classification_report(y_test,predictions))"
   ]
  },
  {
   "cell_type": "markdown",
   "metadata": {},
   "source": [
    "## Random forest\n",
    "### Porter"
   ]
  },
  {
   "cell_type": "code",
   "execution_count": 134,
   "metadata": {},
   "outputs": [
    {
     "name": "stdout",
     "output_type": "stream",
     "text": [
      "building tree 1 of 50building tree 2 of 50building tree 3 of 50\n",
      "building tree 4 of 50\n",
      "\n",
      "\n",
      "building tree 5 of 50\n",
      "building tree 6 of 50\n",
      "building tree 7 of 50\n",
      "building tree 8 of 50\n",
      "building tree 9 of 50\n",
      "building tree 10 of 50\n",
      "building tree 11 of 50\n",
      "building tree 12 of 50\n",
      "building tree 13 of 50\n",
      "building tree 14 of 50\n",
      "building tree 15 of 50\n",
      "building tree 16 of 50\n",
      "building tree 17 of 50\n",
      "building tree 18 of 50\n",
      "building tree 19 of 50\n",
      "building tree 20 of 50\n",
      "building tree 21 of 50\n",
      "building tree 22 of 50\n",
      "building tree 23 of 50\n",
      "building tree 24 of 50\n",
      "building tree 25 of 50\n",
      "building tree 26 of 50\n",
      "building tree 27 of 50\n",
      "building tree 28 of 50\n",
      "building tree 29 of 50\n",
      "building tree 30 of 50\n",
      "building tree 31 of 50\n",
      "building tree 32 of 50\n",
      "building tree 33 of 50\n",
      "building tree 34 of 50\n",
      "building tree 35 of 50\n",
      "building tree 36 of 50\n"
     ]
    },
    {
     "name": "stderr",
     "output_type": "stream",
     "text": [
      "[Parallel(n_jobs=-1)]: Done  33 tasks      | elapsed: 25.8min\n"
     ]
    },
    {
     "name": "stdout",
     "output_type": "stream",
     "text": [
      "building tree 37 of 50\n",
      "building tree 38 of 50\n",
      "building tree 39 of 50\n",
      "building tree 40 of 50\n",
      "building tree 41 of 50\n",
      "building tree 42 of 50\n",
      "building tree 43 of 50\n",
      "building tree 44 of 50\n",
      "building tree 45 of 50\n",
      "building tree 46 of 50\n",
      "building tree 47 of 50\n",
      "building tree 48 of 50\n",
      "building tree 49 of 50\n",
      "building tree 50 of 50\n"
     ]
    },
    {
     "name": "stderr",
     "output_type": "stream",
     "text": [
      "[Parallel(n_jobs=-1)]: Done  50 out of  50 | elapsed: 35.4min finished\n"
     ]
    },
    {
     "data": {
      "text/plain": [
       "RandomForestClassifier(bootstrap=True, class_weight=None, criterion='gini',\n",
       "            max_depth=None, max_features='auto', max_leaf_nodes=None,\n",
       "            min_impurity_decrease=0.0, min_impurity_split=None,\n",
       "            min_samples_leaf=1, min_samples_split=2,\n",
       "            min_weight_fraction_leaf=0.0, n_estimators=50, n_jobs=-1,\n",
       "            oob_score=False, random_state=42, verbose=2, warm_start=False)"
      ]
     },
     "execution_count": 134,
     "metadata": {},
     "output_type": "execute_result"
    }
   ],
   "source": [
    "from sklearn.ensemble import RandomForestClassifier\n",
    "\n",
    "clf = RandomForestClassifier(n_estimators=50, random_state=42, n_jobs=-1, verbose=2)\n",
    "clf.fit(X_train_tfidf_ps, y_train) # it takes around 30 minutes"
   ]
  },
  {
   "cell_type": "code",
   "execution_count": 135,
   "metadata": {},
   "outputs": [
    {
     "name": "stderr",
     "output_type": "stream",
     "text": [
      "[Parallel(n_jobs=4)]: Done  33 tasks      | elapsed:    8.0s\n",
      "[Parallel(n_jobs=4)]: Done  50 out of  50 | elapsed:   11.5s finished\n",
      "[Parallel(n_jobs=4)]: Done  33 tasks      | elapsed:    3.9s\n",
      "[Parallel(n_jobs=4)]: Done  50 out of  50 | elapsed:    5.7s finished\n"
     ]
    }
   ],
   "source": [
    "train_score = clf.score(X_train_tfidf_ps, y_train) # Train Accuracy\n",
    "test_score = clf.score(X_test_tfidf_ps, y_test)    # Test Accuracy"
   ]
  },
  {
   "cell_type": "code",
   "execution_count": 136,
   "metadata": {},
   "outputs": [
    {
     "name": "stderr",
     "output_type": "stream",
     "text": [
      "[Parallel(n_jobs=4)]: Done  33 tasks      | elapsed:    4.0s\n",
      "[Parallel(n_jobs=4)]: Done  50 out of  50 | elapsed:    5.9s finished\n"
     ]
    }
   ],
   "source": [
    "predictions = clf.predict(X_test_tfidf_ps)"
   ]
  },
  {
   "cell_type": "code",
   "execution_count": 137,
   "metadata": {},
   "outputs": [
    {
     "name": "stdout",
     "output_type": "stream",
     "text": [
      "             precision    recall  f1-score   support\n",
      "\n",
      "      False       0.85      0.50      0.63     78224\n",
      "       True       0.88      0.98      0.93    293908\n",
      "\n",
      "avg / total       0.87      0.88      0.86    372132\n",
      "\n"
     ]
    }
   ],
   "source": [
    "print(classification_report(y_test,predictions))"
   ]
  },
  {
   "cell_type": "markdown",
   "metadata": {},
   "source": [
    "Results are more encouraging! The problem is that it's way slower than Multinomial NB.\n",
    "## TruncatedSVD\n",
    "The X_train vector has around 20k features: for speeding up the training phase it may be good to use dimensionality reduction methods. Their goal is to preserve \"expressive power\" while reducing dataset dimensionality.\n",
    "Because the TFIDF matrix is a sparse one, one of the best method for performing dimensionality reduction is \"TruncatedSVD\""
   ]
  },
  {
   "cell_type": "code",
   "execution_count": 138,
   "metadata": {},
   "outputs": [],
   "source": [
    "from sklearn.decomposition import TruncatedSVD\n",
    "tsvd = TruncatedSVD(n_components=500, random_state=42)\n",
    "X_train_tfidf_ps_svd = tsvd.fit_transform(X_train_tfidf_ps)\n",
    "X_test_tfidf_ps_svd = tsvd.transform(X_test_tfidf_ps)"
   ]
  },
  {
   "cell_type": "code",
   "execution_count": 139,
   "metadata": {},
   "outputs": [
    {
     "data": {
      "text/plain": [
       "<755540x22003 sparse matrix of type '<class 'numpy.float64'>'\n",
       "\twith 15891127 stored elements in Compressed Sparse Row format>"
      ]
     },
     "execution_count": 139,
     "metadata": {},
     "output_type": "execute_result"
    }
   ],
   "source": [
    "X_train_tfidf_ps"
   ]
  },
  {
   "cell_type": "code",
   "execution_count": 140,
   "metadata": {},
   "outputs": [
    {
     "name": "stdout",
     "output_type": "stream",
     "text": [
      "train with old features:  ()\n",
      "train with new features: (755540, 500)\n"
     ]
    }
   ],
   "source": [
    "print(\"train with old features: \",np.array(X_train_tfidf_ps).shape)\n",
    "print(\"train with new features:\" ,np.array(X_train_tfidf_ps_svd).shape)"
   ]
  },
  {
   "cell_type": "markdown",
   "metadata": {},
   "source": [
    "### Store SVD-transformed dataset"
   ]
  },
  {
   "cell_type": "code",
   "execution_count": 141,
   "metadata": {},
   "outputs": [
    {
     "data": {
      "text/plain": [
       "['X_test_tfidf_ps_svd.joblib']"
      ]
     },
     "execution_count": 141,
     "metadata": {},
     "output_type": "execute_result"
    }
   ],
   "source": [
    "dump(X_train_tfidf_ps_svd, 'X_train_tfidf_ps_svd.joblib')\n",
    "dump(X_test_tfidf_ps_svd, 'X_test_tfidf_ps_svd.joblib')"
   ]
  },
  {
   "cell_type": "markdown",
   "metadata": {},
   "source": [
    "### Classifiers\n",
    "Multinomial NB won't be used for the following reasons: https://stackoverflow.com/questions/24169238/dealing-with-negative-values-in-sklearn-multinomialnb\n",
    "#### Randomforest"
   ]
  },
  {
   "cell_type": "code",
   "execution_count": 142,
   "metadata": {},
   "outputs": [
    {
     "name": "stdout",
     "output_type": "stream",
     "text": [
      "building tree 1 of 50\n",
      "building tree 2 of 50\n",
      "building tree 3 of 50\n",
      "building tree 4 of 50\n",
      "building tree 5 of 50\n",
      "building tree 6 of 50\n",
      "building tree 7 of 50\n",
      "building tree 8 of 50\n",
      "building tree 9 of 50\n",
      "building tree 10 of 50\n",
      "building tree 11 of 50\n",
      "building tree 12 of 50\n",
      "building tree 13 of 50\n",
      "building tree 14 of 50\n",
      "building tree 15 of 50\n",
      "building tree 16 of 50\n",
      "building tree 17 of 50\n",
      "building tree 18 of 50\n",
      "building tree 19 of 50\n",
      "building tree 20 of 50\n",
      "building tree 21 of 50\n",
      "building tree 22 of 50\n",
      "building tree 23 of 50\n",
      "building tree 24 of 50\n",
      "building tree 25 of 50\n",
      "building tree 26 of 50\n",
      "building tree 27 of 50\n",
      "building tree 28 of 50\n",
      "building tree 29 of 50\n",
      "building tree 30 of 50\n",
      "building tree 31 of 50\n",
      "building tree 32 of 50\n",
      "building tree 33 of 50\n",
      "building tree 34 of 50\n",
      "building tree 35 of 50\n",
      "building tree 36 of 50\n"
     ]
    },
    {
     "name": "stderr",
     "output_type": "stream",
     "text": [
      "[Parallel(n_jobs=-1)]: Done  33 tasks      | elapsed:  5.7min\n"
     ]
    },
    {
     "name": "stdout",
     "output_type": "stream",
     "text": [
      "building tree 37 of 50\n",
      "building tree 38 of 50\n",
      "building tree 39 of 50\n",
      "building tree 40 of 50\n",
      "building tree 41 of 50\n",
      "building tree 42 of 50\n",
      "building tree 43 of 50\n",
      "building tree 44 of 50\n",
      "building tree 45 of 50\n",
      "building tree 46 of 50\n",
      "building tree 47 of 50\n",
      "building tree 48 of 50\n",
      "building tree 49 of 50\n",
      "building tree 50 of 50\n"
     ]
    },
    {
     "name": "stderr",
     "output_type": "stream",
     "text": [
      "[Parallel(n_jobs=-1)]: Done  50 out of  50 | elapsed:  8.4min finished\n"
     ]
    },
    {
     "data": {
      "text/plain": [
       "RandomForestClassifier(bootstrap=True, class_weight=None, criterion='gini',\n",
       "            max_depth=None, max_features='auto', max_leaf_nodes=None,\n",
       "            min_impurity_decrease=0.0, min_impurity_split=None,\n",
       "            min_samples_leaf=1, min_samples_split=2,\n",
       "            min_weight_fraction_leaf=0.0, n_estimators=50, n_jobs=-1,\n",
       "            oob_score=False, random_state=42, verbose=2, warm_start=False)"
      ]
     },
     "execution_count": 142,
     "metadata": {},
     "output_type": "execute_result"
    }
   ],
   "source": [
    "from sklearn.naive_bayes import MultinomialNB\n",
    "\n",
    "clf = RandomForestClassifier(n_estimators=50, random_state=42, n_jobs=-1, verbose=2)\n",
    "clf.fit(X_train_tfidf_ps_svd, y_train)"
   ]
  },
  {
   "cell_type": "code",
   "execution_count": 143,
   "metadata": {},
   "outputs": [
    {
     "name": "stderr",
     "output_type": "stream",
     "text": [
      "[Parallel(n_jobs=4)]: Done  33 tasks      | elapsed:    2.7s\n",
      "[Parallel(n_jobs=4)]: Done  50 out of  50 | elapsed:    3.9s finished\n"
     ]
    },
    {
     "name": "stdout",
     "output_type": "stream",
     "text": [
      "             precision    recall  f1-score   support\n",
      "\n",
      "      False       0.82      0.36      0.50     78224\n",
      "       True       0.85      0.98      0.91    293908\n",
      "\n",
      "avg / total       0.85      0.85      0.82    372132\n",
      "\n"
     ]
    }
   ],
   "source": [
    "predictions = clf.predict(X_test_tfidf_ps_svd)\n",
    "print(classification_report(y_test,predictions))"
   ]
  },
  {
   "cell_type": "markdown",
   "metadata": {},
   "source": [
    "### Spell checker\n",
    "It is highly probable that, in long reviews, there is at least one spelling mistakes, therefore a correct the spell errors might lead to better results. For doing so we will use pyspellchecker, which is based on Peter Norvig's blog post about building basic a spell checking algorithm"
   ]
  },
  {
   "cell_type": "code",
   "execution_count": 145,
   "metadata": {},
   "outputs": [],
   "source": [
    "from spellchecker import SpellChecker\n",
    "spell = SpellChecker()"
   ]
  },
  {
   "cell_type": "code",
   "execution_count": 150,
   "metadata": {},
   "outputs": [
    {
     "name": "stdout",
     "output_type": "stream",
     "text": [
      "sunrise\n",
      "afternoon\n",
      "understand\n"
     ]
    }
   ],
   "source": [
    "test_words =  ['sunrise', \"aternoon\", \"adnerstand\"]\n",
    "for word in test_words:\n",
    "    print(spell.correction(word))"
   ]
  },
  {
   "cell_type": "markdown",
   "metadata": {},
   "source": [
    "Let's now wrap it up in a function and test it:"
   ]
  },
  {
   "cell_type": "code",
   "execution_count": 153,
   "metadata": {},
   "outputs": [],
   "source": [
    "def fix_spelling_mistakes(reviews):\n",
    "    spell = SpellChecker()\n",
    "    reviews_with_right_spell = []\n",
    "    for review in reviews:\n",
    "        corrected_review = [spell.correction(word)]\n",
    "        reviews_with_right_spell.append(corrected_review)\n",
    "    return reviews_with_right_spell"
   ]
  },
  {
   "cell_type": "code",
   "execution_count": 154,
   "metadata": {},
   "outputs": [
    {
     "data": {
      "text/plain": [
       "[['understand'], ['understand'], ['understand']]"
      ]
     },
     "execution_count": 154,
     "metadata": {},
     "output_type": "execute_result"
    }
   ],
   "source": [
    "fix_spelling_mistakes(test_words)"
   ]
  },
  {
   "cell_type": "markdown",
   "metadata": {},
   "source": [
    "It works as expected. It is now possible to incorporate it in the preprocessing function defined before"
   ]
  },
  {
   "cell_type": "code",
   "execution_count": 155,
   "metadata": {},
   "outputs": [],
   "source": [
    "def preprocess_reviews(X_train,\n",
    "                       X_test,\n",
    "                       apply_tokenization=True,\n",
    "                       apply_spell_fix=True,\n",
    "                       apply_stop_words_removal=True,\n",
    "                       apply_stemming=True,\n",
    "                       stemmer = \"Porter\"):\n",
    "    if apply_tokenization:\n",
    "        X_train = tokenize_reviews(X_train)\n",
    "        X_test = tokenize_reviews(X_test)\n",
    "        print(\"Tokenization completed!\")\n",
    "    if apply_spell_fix:\n",
    "        X_train = fix_spelling_mistakes(X_train)\n",
    "        X_test = fix_spelling_mistakes(X_test)\n",
    "        print(\"Spell mistakes fixing completed!\")\n",
    "    if apply_stop_words_removal:\n",
    "        X_train = remove_stop_words(X_train)\n",
    "        X_test = remove_stop_words(X_test)\n",
    "        print(\"Stop words removal completed!\")\n",
    "    if apply_stemming:\n",
    "        X_train = stem_reviews(X_train, stemmer)\n",
    "        X_test = stem_reviews(X_test, stemmer)\n",
    "        print(\"Stemming completed!\")\n",
    "    X_train = rebuild_reviews(X_train)\n",
    "    X_test = rebuild_reviews(X_test)\n",
    "    tfidf_vect, X_train, X_test = create_tf_idf_matrix(X_train, X_test)\n",
    "    return tfidf_vect, X_train, X_test"
   ]
  },
  {
   "cell_type": "markdown",
   "metadata": {},
   "source": [
    "### MultinomialNB Classifier"
   ]
  },
  {
   "cell_type": "code",
   "execution_count": null,
   "metadata": {},
   "outputs": [
    {
     "name": "stdout",
     "output_type": "stream",
     "text": [
      "Tokenization completed!\n"
     ]
    }
   ],
   "source": [
    "from sklearn.naive_bayes import MultinomialNB\n",
    "clf = MultinomialNB()\n",
    "tfidf_vect, X_train_tfidf_ps, X_test_tfidf_ps = preprocess_reviews(X_train, X_test)\n",
    "clf.fit(X_train_tfidf_ps, y_train)"
   ]
  },
  {
   "cell_type": "code",
   "execution_count": null,
   "metadata": {},
   "outputs": [],
   "source": [
    "train_score = clf.score(X_train_tfidf_ps, y_train) # Train Accuracy\n",
    "test_score = clf.score(X_test_tfidf_ps, y_test)    # Test Accuracy\n",
    "print(train_score)\n",
    "print(test_score)"
   ]
  },
  {
   "cell_type": "code",
   "execution_count": null,
   "metadata": {},
   "outputs": [],
   "source": [
    "predictions = clf.predict(X_test_tfidf_ps)\n",
    "prec = precision_score(y_test, predictions) # Precision\n",
    "rec = recall_score(y_test, predictions) # Recall\n",
    "f1 = f1_score(y_test, predictions) # F1\n",
    "f2 = fbeta_score(y_test, predictions, 2) # F2\n",
    "cm = confusion_matrix(y_test, predictions)"
   ]
  },
  {
   "cell_type": "code",
   "execution_count": null,
   "metadata": {},
   "outputs": [],
   "source": [
    "cm"
   ]
  },
  {
   "cell_type": "code",
   "execution_count": null,
   "metadata": {},
   "outputs": [],
   "source": [
    "proba = clf.predict_proba(X_test_tfidf_ps)\n",
    "precision, recall, pr_thresholds = precision_recall_curve(y_test, proba[:,1])\n",
    "auc_score = auc(recall, precision)\n",
    "scores_strings = [\"Train Accuracy\", \"Test Accuracy\", \"Test Precision\",\n",
    "                  \"Test Recall\", \"F1\", \"F2\", \"P/R AUC\"]\n",
    "scores = [train_score, test_score, prec, rec, f1, f2, auc_score]\n",
    "print((\"{:20s} {:.5f}\\n\"*7)[:-1].format(*itertools.chain(*zip(scores_strings, scores))))"
   ]
  },
  {
   "cell_type": "code",
   "execution_count": null,
   "metadata": {},
   "outputs": [],
   "source": [
    "plt.plot(recall, precision, label='Precision-Recall curve')\n",
    "plt.xlabel('Recall')\n",
    "plt.ylabel('Precision')\n",
    "plt.ylim([0.0, 1.05])\n",
    "plt.xlim([0.0, 1.0])\n",
    "plt.title('Precision-Recall Curve: AUC=%0.2f' % auc_score)\n",
    "plt.legend(loc=\"lower left\")\n",
    "plt.show()"
   ]
  },
  {
   "cell_type": "code",
   "execution_count": null,
   "metadata": {},
   "outputs": [],
   "source": [
    "print(classification_report(y_test,predictions))"
   ]
  },
  {
   "cell_type": "code",
   "execution_count": null,
   "metadata": {},
   "outputs": [],
   "source": []
  }
 ],
 "metadata": {
  "kernelspec": {
   "display_name": "Python 3",
   "language": "python",
   "name": "python3"
  },
  "language_info": {
   "codemirror_mode": {
    "name": "ipython",
    "version": 3
   },
   "file_extension": ".py",
   "mimetype": "text/x-python",
   "name": "python",
   "nbconvert_exporter": "python",
   "pygments_lexer": "ipython3",
   "version": "3.6.3"
  }
 },
 "nbformat": 4,
 "nbformat_minor": 2
}
