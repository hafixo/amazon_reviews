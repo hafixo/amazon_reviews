{
 "cells": [
  {
   "cell_type": "markdown",
   "metadata": {},
   "source": [
    "# Import libraries"
   ]
  },
  {
   "cell_type": "code",
   "execution_count": 1,
   "metadata": {},
   "outputs": [],
   "source": [
    "import pandas as pd\n",
    "import numpy as np\n",
    "import nltk\n",
    "import itertools\n",
    "import matplotlib.pyplot as plt\n",
    "import time\n",
    "from sklearn.metrics import classification_report"
   ]
  },
  {
   "cell_type": "markdown",
   "metadata": {},
   "source": [
    "# Load dataset"
   ]
  },
  {
   "cell_type": "code",
   "execution_count": 2,
   "metadata": {},
   "outputs": [
    {
     "data": {
      "text/html": [
       "<div>\n",
       "<style scoped>\n",
       "    .dataframe tbody tr th:only-of-type {\n",
       "        vertical-align: middle;\n",
       "    }\n",
       "\n",
       "    .dataframe tbody tr th {\n",
       "        vertical-align: top;\n",
       "    }\n",
       "\n",
       "    .dataframe thead th {\n",
       "        text-align: right;\n",
       "    }\n",
       "</style>\n",
       "<table border=\"1\" class=\"dataframe\">\n",
       "  <thead>\n",
       "    <tr style=\"text-align: right;\">\n",
       "      <th></th>\n",
       "      <th>asin</th>\n",
       "      <th>image</th>\n",
       "      <th>overall</th>\n",
       "      <th>reviewText</th>\n",
       "      <th>reviewTime</th>\n",
       "      <th>reviewerID</th>\n",
       "      <th>reviewerName</th>\n",
       "      <th>style</th>\n",
       "      <th>summary</th>\n",
       "      <th>unixReviewTime</th>\n",
       "      <th>verified</th>\n",
       "      <th>vote</th>\n",
       "    </tr>\n",
       "  </thead>\n",
       "  <tbody>\n",
       "    <tr>\n",
       "      <th>0</th>\n",
       "      <td>7508492919</td>\n",
       "      <td>NaN</td>\n",
       "      <td>5</td>\n",
       "      <td>Looks even better in person. Be careful to not...</td>\n",
       "      <td>08 4, 2014</td>\n",
       "      <td>A24E3SXTC62LJI</td>\n",
       "      <td>Claudia Valdivia</td>\n",
       "      <td>{'Color:': ' Bling'}</td>\n",
       "      <td>Can't stop won't stop looking at it</td>\n",
       "      <td>1407110400</td>\n",
       "      <td>True</td>\n",
       "      <td>NaN</td>\n",
       "    </tr>\n",
       "    <tr>\n",
       "      <th>1</th>\n",
       "      <td>7508492919</td>\n",
       "      <td>NaN</td>\n",
       "      <td>5</td>\n",
       "      <td>When you don't want to spend a whole lot of ca...</td>\n",
       "      <td>02 12, 2014</td>\n",
       "      <td>A269FLZCB4GIPV</td>\n",
       "      <td>sarah ponce</td>\n",
       "      <td>NaN</td>\n",
       "      <td>1</td>\n",
       "      <td>1392163200</td>\n",
       "      <td>True</td>\n",
       "      <td>NaN</td>\n",
       "    </tr>\n",
       "    <tr>\n",
       "      <th>2</th>\n",
       "      <td>7508492919</td>\n",
       "      <td>NaN</td>\n",
       "      <td>3</td>\n",
       "      <td>so the case came on time, i love the design. I...</td>\n",
       "      <td>02 8, 2014</td>\n",
       "      <td>AB6CHQWHZW4TV</td>\n",
       "      <td>Kai</td>\n",
       "      <td>NaN</td>\n",
       "      <td>Its okay</td>\n",
       "      <td>1391817600</td>\n",
       "      <td>True</td>\n",
       "      <td>NaN</td>\n",
       "    </tr>\n",
       "    <tr>\n",
       "      <th>3</th>\n",
       "      <td>7508492919</td>\n",
       "      <td>NaN</td>\n",
       "      <td>2</td>\n",
       "      <td>DON'T CARE FOR IT.  GAVE IT AS A GIFT AND THEY...</td>\n",
       "      <td>02 4, 2014</td>\n",
       "      <td>A1M117A53LEI8</td>\n",
       "      <td>Sharon Williams</td>\n",
       "      <td>NaN</td>\n",
       "      <td>CASE</td>\n",
       "      <td>1391472000</td>\n",
       "      <td>True</td>\n",
       "      <td>NaN</td>\n",
       "    </tr>\n",
       "    <tr>\n",
       "      <th>4</th>\n",
       "      <td>7508492919</td>\n",
       "      <td>NaN</td>\n",
       "      <td>4</td>\n",
       "      <td>I liked it because it was cute, but the studs ...</td>\n",
       "      <td>02 3, 2014</td>\n",
       "      <td>A272DUT8M88ZS8</td>\n",
       "      <td>Bella Rodriguez</td>\n",
       "      <td>NaN</td>\n",
       "      <td>Cute!</td>\n",
       "      <td>1391385600</td>\n",
       "      <td>True</td>\n",
       "      <td>NaN</td>\n",
       "    </tr>\n",
       "  </tbody>\n",
       "</table>\n",
       "</div>"
      ],
      "text/plain": [
       "         asin image  overall  \\\n",
       "0  7508492919   NaN        5   \n",
       "1  7508492919   NaN        5   \n",
       "2  7508492919   NaN        3   \n",
       "3  7508492919   NaN        2   \n",
       "4  7508492919   NaN        4   \n",
       "\n",
       "                                          reviewText   reviewTime  \\\n",
       "0  Looks even better in person. Be careful to not...   08 4, 2014   \n",
       "1  When you don't want to spend a whole lot of ca...  02 12, 2014   \n",
       "2  so the case came on time, i love the design. I...   02 8, 2014   \n",
       "3  DON'T CARE FOR IT.  GAVE IT AS A GIFT AND THEY...   02 4, 2014   \n",
       "4  I liked it because it was cute, but the studs ...   02 3, 2014   \n",
       "\n",
       "       reviewerID      reviewerName                 style  \\\n",
       "0  A24E3SXTC62LJI  Claudia Valdivia  {'Color:': ' Bling'}   \n",
       "1  A269FLZCB4GIPV       sarah ponce                   NaN   \n",
       "2   AB6CHQWHZW4TV               Kai                   NaN   \n",
       "3   A1M117A53LEI8   Sharon Williams                   NaN   \n",
       "4  A272DUT8M88ZS8   Bella Rodriguez                   NaN   \n",
       "\n",
       "                               summary  unixReviewTime  verified vote  \n",
       "0  Can't stop won't stop looking at it      1407110400      True  NaN  \n",
       "1                                    1      1392163200      True  NaN  \n",
       "2                             Its okay      1391817600      True  NaN  \n",
       "3                                 CASE      1391472000      True  NaN  \n",
       "4                                Cute!      1391385600      True  NaN  "
      ]
     },
     "execution_count": 2,
     "metadata": {},
     "output_type": "execute_result"
    }
   ],
   "source": [
    "data = \"dataset/Cell_Phones_and_Accessories_5.json.gz\"\n",
    "df = pd.read_json(data, lines = True, compression = \"gzip\")\n",
    "df.head()"
   ]
  },
  {
   "cell_type": "code",
   "execution_count": 3,
   "metadata": {},
   "outputs": [
    {
     "data": {
      "text/plain": [
       "Index(['asin', 'image', 'overall', 'reviewText', 'reviewTime', 'reviewerID',\n",
       "       'reviewerName', 'style', 'summary', 'unixReviewTime', 'verified',\n",
       "       'vote'],\n",
       "      dtype='object')"
      ]
     },
     "execution_count": 3,
     "metadata": {},
     "output_type": "execute_result"
    }
   ],
   "source": [
    "df.columns"
   ]
  },
  {
   "cell_type": "markdown",
   "metadata": {},
   "source": [
    "How many reviews are verified?"
   ]
  },
  {
   "cell_type": "code",
   "execution_count": 4,
   "metadata": {},
   "outputs": [
    {
     "data": {
      "text/plain": [
       "verified\n",
       "False    141113\n",
       "True     987324\n",
       "Name: unixReviewTime, dtype: int64"
      ]
     },
     "execution_count": 4,
     "metadata": {},
     "output_type": "execute_result"
    }
   ],
   "source": [
    "df.groupby('verified')['unixReviewTime'].count()"
   ]
  },
  {
   "cell_type": "markdown",
   "metadata": {},
   "source": [
    "#### Open point: how do we address it? (If we want to do it, of course :) )\n",
    "# Filtering the dataset\n",
    "The first operation we will perform is the removal of punctuation characters and lowercase all letters: these operation will be useful for reducing the number of features"
   ]
  },
  {
   "cell_type": "code",
   "execution_count": 5,
   "metadata": {},
   "outputs": [],
   "source": [
    "df['reviewText'] = df['reviewText'].str.replace('[.,;:;!?]+', '')"
   ]
  },
  {
   "cell_type": "code",
   "execution_count": 6,
   "metadata": {},
   "outputs": [],
   "source": [
    "df['reviewText'] = df['reviewText'].str.lower()"
   ]
  },
  {
   "cell_type": "code",
   "execution_count": 7,
   "metadata": {},
   "outputs": [],
   "source": [
    "X = df.reviewText[df.reviewText.notnull()].values\n",
    "y = df.overall[df.reviewText.notnull()].values"
   ]
  },
  {
   "cell_type": "code",
   "execution_count": 8,
   "metadata": {},
   "outputs": [
    {
     "data": {
      "text/plain": [
       "(1127672,)"
      ]
     },
     "execution_count": 8,
     "metadata": {},
     "output_type": "execute_result"
    }
   ],
   "source": [
    "X.shape"
   ]
  },
  {
   "cell_type": "code",
   "execution_count": 9,
   "metadata": {},
   "outputs": [
    {
     "data": {
      "text/plain": [
       "(1127672,)"
      ]
     },
     "execution_count": 9,
     "metadata": {},
     "output_type": "execute_result"
    }
   ],
   "source": [
    "y.shape"
   ]
  },
  {
   "cell_type": "markdown",
   "metadata": {},
   "source": [
    "How are the values split?"
   ]
  },
  {
   "cell_type": "code",
   "execution_count": 10,
   "metadata": {},
   "outputs": [
    {
     "data": {
      "text/plain": [
       "{1: 81506, 2: 57166, 3: 98214, 4: 184351, 5: 706435}"
      ]
     },
     "execution_count": 10,
     "metadata": {},
     "output_type": "execute_result"
    }
   ],
   "source": [
    "star_value, counts = np.unique(y, return_counts=True)\n",
    "dict(zip(star_value, counts))"
   ]
  },
  {
   "cell_type": "code",
   "execution_count": 11,
   "metadata": {},
   "outputs": [
    {
     "data": {
      "text/plain": [
       "{1: 0.07227810923743784,\n",
       " 2: 0.05069381876999695,\n",
       " 3: 0.08709447427975511,\n",
       " 4: 0.16347927411516824,\n",
       " 5: 0.6264543235976419}"
      ]
     },
     "execution_count": 11,
     "metadata": {},
     "output_type": "execute_result"
    }
   ],
   "source": [
    "dict(zip(star_value, counts/len(y)))"
   ]
  },
  {
   "cell_type": "markdown",
   "metadata": {},
   "source": [
    "Imbalanced dataset!\n",
    "We'd like to split the ratings as follows:\n",
    "- 1,2 and 3 will be considered negative\n",
    "- 4 and 5 will be considered positive\n",
    "\n",
    "The main reason why we'd like to proceed as follows is that, on Amazon, the most restrictive filter is the \"4 star +\" one and is used for filtering the returned results: a given vendor would like to have her/his products shown after this phase."
   ]
  },
  {
   "cell_type": "code",
   "execution_count": 12,
   "metadata": {},
   "outputs": [],
   "source": [
    "def int2sent(n):\n",
    "    if n >= 4:\n",
    "        return \"positive\"\n",
    "    if n <= 3:\n",
    "        return \"negative\""
   ]
  },
  {
   "cell_type": "code",
   "execution_count": 13,
   "metadata": {},
   "outputs": [
    {
     "data": {
      "text/plain": [
       "'\\nvectInt2sent = np.vectorize(int2sent)\\nysent = vectInt2sent(y)\\nfor c in np.unique(ysent):\\n    print(\"{:10s} {}\".format(c, np.sum(ysent==c)/len(ysent)))\\n'"
      ]
     },
     "execution_count": 13,
     "metadata": {},
     "output_type": "execute_result"
    }
   ],
   "source": [
    "\"\"\"\n",
    "vectInt2sent = np.vectorize(int2sent)\n",
    "ysent = vectInt2sent(y)\n",
    "for c in np.unique(ysent):\n",
    "    print(\"{:10s} {}\".format(c, np.sum(ysent==c)/len(ysent)))\n",
    "\"\"\""
   ]
  },
  {
   "cell_type": "code",
   "execution_count": 14,
   "metadata": {},
   "outputs": [],
   "source": [
    "sentiment_is_positive = y > 3"
   ]
  },
  {
   "cell_type": "code",
   "execution_count": 15,
   "metadata": {},
   "outputs": [
    {
     "data": {
      "text/plain": [
       "{False: 236886, True: 890786}"
      ]
     },
     "execution_count": 15,
     "metadata": {},
     "output_type": "execute_result"
    }
   ],
   "source": [
    "sentiment_categories, counts = np.unique(sentiment_is_positive, return_counts=True)\n",
    "dict(zip(sentiment_categories, counts))"
   ]
  },
  {
   "cell_type": "code",
   "execution_count": 16,
   "metadata": {},
   "outputs": [
    {
     "data": {
      "text/plain": [
       "{False: 0.2100664022871899, True: 0.7899335977128101}"
      ]
     },
     "execution_count": 16,
     "metadata": {},
     "output_type": "execute_result"
    }
   ],
   "source": [
    "dict(zip(sentiment_categories, counts/len(sentiment_is_positive)))"
   ]
  },
  {
   "cell_type": "markdown",
   "metadata": {},
   "source": [
    "# Text Preprocessing"
   ]
  },
  {
   "cell_type": "code",
   "execution_count": 17,
   "metadata": {},
   "outputs": [],
   "source": [
    "from sklearn.model_selection import train_test_split\n",
    "from sklearn.feature_extraction.text import TfidfVectorizer, CountVectorizer"
   ]
  },
  {
   "cell_type": "markdown",
   "metadata": {},
   "source": [
    "## Train-test split"
   ]
  },
  {
   "cell_type": "code",
   "execution_count": 18,
   "metadata": {},
   "outputs": [],
   "source": [
    "X_train, X_test, y_train, y_test = train_test_split(X, sentiment_is_positive, test_size=0.33, random_state=42)"
   ]
  },
  {
   "cell_type": "code",
   "execution_count": 19,
   "metadata": {},
   "outputs": [
    {
     "data": {
      "text/plain": [
       "'this case is nice well-made and fits snugly on the phone  i purchased this case along with another brand that was 100% tpu material  while i can see that this case is very scratch resistant i think i prefer a case that is 100% tpu because of improved grip and non-slip properties  the hard polycarbonate material on the back of this case will let the phone slide on a smooth surface like a table  i just prefer a case that has more of a \"grippy\" back so that the phone doesn\\'t slide on a smooth surface  but that\\'s just my preference'"
      ]
     },
     "execution_count": 19,
     "metadata": {},
     "output_type": "execute_result"
    }
   ],
   "source": [
    "X_train[0]"
   ]
  },
  {
   "cell_type": "code",
   "execution_count": 20,
   "metadata": {},
   "outputs": [
    {
     "data": {
      "text/plain": [
       "True"
      ]
     },
     "execution_count": 20,
     "metadata": {},
     "output_type": "execute_result"
    }
   ],
   "source": [
    "y_train[0]"
   ]
  },
  {
   "cell_type": "markdown",
   "metadata": {},
   "source": [
    "## Tokenization"
   ]
  },
  {
   "cell_type": "code",
   "execution_count": 21,
   "metadata": {},
   "outputs": [],
   "source": [
    "from nltk.tokenize import word_tokenize"
   ]
  },
  {
   "cell_type": "code",
   "execution_count": 22,
   "metadata": {},
   "outputs": [],
   "source": [
    "X_train_tokenized = [word_tokenize(sentence) for sentence in X_train]"
   ]
  },
  {
   "cell_type": "code",
   "execution_count": 23,
   "metadata": {},
   "outputs": [],
   "source": [
    "X_test_tokenized = [word_tokenize(sentence) for sentence in X_test]"
   ]
  },
  {
   "cell_type": "code",
   "execution_count": 24,
   "metadata": {},
   "outputs": [
    {
     "data": {
      "text/plain": [
       "'this case is nice well-made and fits snugly on the phone  i purchased this case along with another brand that was 100% tpu material  while i can see that this case is very scratch resistant i think i prefer a case that is 100% tpu because of improved grip and non-slip properties  the hard polycarbonate material on the back of this case will let the phone slide on a smooth surface like a table  i just prefer a case that has more of a \"grippy\" back so that the phone doesn\\'t slide on a smooth surface  but that\\'s just my preference'"
      ]
     },
     "execution_count": 24,
     "metadata": {},
     "output_type": "execute_result"
    }
   ],
   "source": [
    "X_train[0]"
   ]
  },
  {
   "cell_type": "code",
   "execution_count": 25,
   "metadata": {},
   "outputs": [
    {
     "data": {
      "text/plain": [
       "['this',\n",
       " 'case',\n",
       " 'is',\n",
       " 'nice',\n",
       " 'well-made',\n",
       " 'and',\n",
       " 'fits',\n",
       " 'snugly',\n",
       " 'on',\n",
       " 'the',\n",
       " 'phone',\n",
       " 'i',\n",
       " 'purchased',\n",
       " 'this',\n",
       " 'case',\n",
       " 'along',\n",
       " 'with',\n",
       " 'another',\n",
       " 'brand',\n",
       " 'that',\n",
       " 'was',\n",
       " '100',\n",
       " '%',\n",
       " 'tpu',\n",
       " 'material',\n",
       " 'while',\n",
       " 'i',\n",
       " 'can',\n",
       " 'see',\n",
       " 'that',\n",
       " 'this',\n",
       " 'case',\n",
       " 'is',\n",
       " 'very',\n",
       " 'scratch',\n",
       " 'resistant',\n",
       " 'i',\n",
       " 'think',\n",
       " 'i',\n",
       " 'prefer',\n",
       " 'a',\n",
       " 'case',\n",
       " 'that',\n",
       " 'is',\n",
       " '100',\n",
       " '%',\n",
       " 'tpu',\n",
       " 'because',\n",
       " 'of',\n",
       " 'improved',\n",
       " 'grip',\n",
       " 'and',\n",
       " 'non-slip',\n",
       " 'properties',\n",
       " 'the',\n",
       " 'hard',\n",
       " 'polycarbonate',\n",
       " 'material',\n",
       " 'on',\n",
       " 'the',\n",
       " 'back',\n",
       " 'of',\n",
       " 'this',\n",
       " 'case',\n",
       " 'will',\n",
       " 'let',\n",
       " 'the',\n",
       " 'phone',\n",
       " 'slide',\n",
       " 'on',\n",
       " 'a',\n",
       " 'smooth',\n",
       " 'surface',\n",
       " 'like',\n",
       " 'a',\n",
       " 'table',\n",
       " 'i',\n",
       " 'just',\n",
       " 'prefer',\n",
       " 'a',\n",
       " 'case',\n",
       " 'that',\n",
       " 'has',\n",
       " 'more',\n",
       " 'of',\n",
       " 'a',\n",
       " '``',\n",
       " 'grippy',\n",
       " \"''\",\n",
       " 'back',\n",
       " 'so',\n",
       " 'that',\n",
       " 'the',\n",
       " 'phone',\n",
       " 'does',\n",
       " \"n't\",\n",
       " 'slide',\n",
       " 'on',\n",
       " 'a',\n",
       " 'smooth',\n",
       " 'surface',\n",
       " 'but',\n",
       " 'that',\n",
       " \"'s\",\n",
       " 'just',\n",
       " 'my',\n",
       " 'preference']"
      ]
     },
     "execution_count": 25,
     "metadata": {},
     "output_type": "execute_result"
    }
   ],
   "source": [
    "X_train_tokenized[0]"
   ]
  },
  {
   "cell_type": "code",
   "execution_count": 26,
   "metadata": {},
   "outputs": [],
   "source": [
    "from joblib import dump, load"
   ]
  },
  {
   "cell_type": "code",
   "execution_count": 27,
   "metadata": {},
   "outputs": [],
   "source": [
    "#dump(X_train_tokenized, 'X_train_tokenized.joblib')\n",
    "#dump(X_test_tokenized, 'X_test_tokenized.joblib')"
   ]
  },
  {
   "cell_type": "code",
   "execution_count": 28,
   "metadata": {},
   "outputs": [
    {
     "data": {
      "text/plain": [
       "755540"
      ]
     },
     "execution_count": 28,
     "metadata": {},
     "output_type": "execute_result"
    }
   ],
   "source": [
    "len(X_train_tokenized)"
   ]
  },
  {
   "cell_type": "markdown",
   "metadata": {},
   "source": [
    "## Stemming\n",
    "Because it is necessary to install Visual C++ before installing the package 'pyStemmer' via pip https://support.microsoft.com/it-it/help/2977003/the-latest-supported-visual-c-downloads I will use nltk library even though it is less efficient\n",
    "### PorterStemmer"
   ]
  },
  {
   "cell_type": "code",
   "execution_count": 29,
   "metadata": {},
   "outputs": [],
   "source": [
    "from nltk.stem import PorterStemmer\n",
    "ps = PorterStemmer()"
   ]
  },
  {
   "cell_type": "code",
   "execution_count": 30,
   "metadata": {},
   "outputs": [],
   "source": [
    "X_train_tokenized_stemmed_ps = []\n",
    "for sentence in X_train_tokenized:\n",
    "    X_train_tokenized_stemmed_ps.append([ps.stem(word) for word in sentence])"
   ]
  },
  {
   "cell_type": "code",
   "execution_count": 31,
   "metadata": {},
   "outputs": [
    {
     "data": {
      "text/plain": [
       "['thi',\n",
       " 'case',\n",
       " 'is',\n",
       " 'nice',\n",
       " 'well-mad',\n",
       " 'and',\n",
       " 'fit',\n",
       " 'snugli',\n",
       " 'on',\n",
       " 'the',\n",
       " 'phone',\n",
       " 'i',\n",
       " 'purchas',\n",
       " 'thi',\n",
       " 'case',\n",
       " 'along',\n",
       " 'with',\n",
       " 'anoth',\n",
       " 'brand',\n",
       " 'that',\n",
       " 'wa',\n",
       " '100',\n",
       " '%',\n",
       " 'tpu',\n",
       " 'materi',\n",
       " 'while',\n",
       " 'i',\n",
       " 'can',\n",
       " 'see',\n",
       " 'that',\n",
       " 'thi',\n",
       " 'case',\n",
       " 'is',\n",
       " 'veri',\n",
       " 'scratch',\n",
       " 'resist',\n",
       " 'i',\n",
       " 'think',\n",
       " 'i',\n",
       " 'prefer',\n",
       " 'a',\n",
       " 'case',\n",
       " 'that',\n",
       " 'is',\n",
       " '100',\n",
       " '%',\n",
       " 'tpu',\n",
       " 'becaus',\n",
       " 'of',\n",
       " 'improv',\n",
       " 'grip',\n",
       " 'and',\n",
       " 'non-slip',\n",
       " 'properti',\n",
       " 'the',\n",
       " 'hard',\n",
       " 'polycarbon',\n",
       " 'materi',\n",
       " 'on',\n",
       " 'the',\n",
       " 'back',\n",
       " 'of',\n",
       " 'thi',\n",
       " 'case',\n",
       " 'will',\n",
       " 'let',\n",
       " 'the',\n",
       " 'phone',\n",
       " 'slide',\n",
       " 'on',\n",
       " 'a',\n",
       " 'smooth',\n",
       " 'surfac',\n",
       " 'like',\n",
       " 'a',\n",
       " 'tabl',\n",
       " 'i',\n",
       " 'just',\n",
       " 'prefer',\n",
       " 'a',\n",
       " 'case',\n",
       " 'that',\n",
       " 'ha',\n",
       " 'more',\n",
       " 'of',\n",
       " 'a',\n",
       " '``',\n",
       " 'grippi',\n",
       " \"''\",\n",
       " 'back',\n",
       " 'so',\n",
       " 'that',\n",
       " 'the',\n",
       " 'phone',\n",
       " 'doe',\n",
       " \"n't\",\n",
       " 'slide',\n",
       " 'on',\n",
       " 'a',\n",
       " 'smooth',\n",
       " 'surfac',\n",
       " 'but',\n",
       " 'that',\n",
       " \"'s\",\n",
       " 'just',\n",
       " 'my',\n",
       " 'prefer']"
      ]
     },
     "execution_count": 31,
     "metadata": {},
     "output_type": "execute_result"
    }
   ],
   "source": [
    "X_train_tokenized_stemmed_ps[0]"
   ]
  },
  {
   "cell_type": "code",
   "execution_count": 32,
   "metadata": {},
   "outputs": [],
   "source": [
    "X_test_tokenized_stemmed_ps = []\n",
    "for sentence in X_test_tokenized:\n",
    "    X_test_tokenized_stemmed_ps.append([ps.stem(word) for word in sentence])"
   ]
  },
  {
   "cell_type": "markdown",
   "metadata": {},
   "source": [
    "### Lancaster stemmer"
   ]
  },
  {
   "cell_type": "code",
   "execution_count": 33,
   "metadata": {},
   "outputs": [],
   "source": [
    "from nltk.stem import LancasterStemmer\n",
    "ls_stemmer = LancasterStemmer()"
   ]
  },
  {
   "cell_type": "code",
   "execution_count": 34,
   "metadata": {},
   "outputs": [],
   "source": [
    "X_train_tokenized_stemmed_ls = []\n",
    "for sentence in X_train_tokenized:\n",
    "    X_train_tokenized_stemmed_ls.append([ls_stemmer.stem(word) for word in sentence])"
   ]
  },
  {
   "cell_type": "code",
   "execution_count": 35,
   "metadata": {},
   "outputs": [],
   "source": [
    "X_test_tokenized_stemmed_ls = []\n",
    "for sentence in X_test_tokenized:\n",
    "    X_test_tokenized_stemmed_ls.append([ls_stemmer.stem(word) for word in sentence])"
   ]
  },
  {
   "cell_type": "markdown",
   "metadata": {},
   "source": [
    "## TF-IDF\n",
    "For computing TF-IDF matrix we need to rebuild the sentences. Let's do it:"
   ]
  },
  {
   "cell_type": "markdown",
   "metadata": {},
   "source": [
    "### Porter stemmer"
   ]
  },
  {
   "cell_type": "code",
   "execution_count": 36,
   "metadata": {},
   "outputs": [
    {
     "data": {
      "text/plain": [
       "\"thi case is nice well-mad and fit snugli on the phone i purchas thi case along with anoth brand that wa 100 % tpu materi while i can see that thi case is veri scratch resist i think i prefer a case that is 100 % tpu becaus of improv grip and non-slip properti the hard polycarbon materi on the back of thi case will let the phone slide on a smooth surfac like a tabl i just prefer a case that ha more of a `` grippi '' back so that the phone doe n't slide on a smooth surfac but that 's just my prefer\""
      ]
     },
     "execution_count": 36,
     "metadata": {},
     "output_type": "execute_result"
    }
   ],
   "source": [
    "X_train_tokenized_ps_sent = []\n",
    "for sentence in X_train_tokenized_stemmed_ps:\n",
    "    X_train_tokenized_ps_sent.append(\" \".join(sentence))\n",
    "X_train_tokenized_ps_sent[0]"
   ]
  },
  {
   "cell_type": "code",
   "execution_count": 37,
   "metadata": {},
   "outputs": [],
   "source": [
    "X_test_tokenized_ps_sent = []\n",
    "for sentence in X_test_tokenized_stemmed_ps:\n",
    "    X_test_tokenized_ps_sent.append(\" \".join(sentence))"
   ]
  },
  {
   "cell_type": "markdown",
   "metadata": {},
   "source": [
    "### LancasterStemmer"
   ]
  },
  {
   "cell_type": "code",
   "execution_count": 40,
   "metadata": {},
   "outputs": [
    {
     "data": {
      "text/plain": [
       "\"thi cas is nic well-made and fit snug on the phon i purchas thi cas along with anoth brand that was 100 % tpu mat whil i can see that thi cas is very scratch resist i think i pref a cas that is 100 % tpu becaus of improv grip and non-slip property the hard polycarbon mat on the back of thi cas wil let the phon slid on a smoo surfac lik a tabl i just pref a cas that has mor of a `` grippy '' back so that the phon doe n't slid on a smoo surfac but that 's just my pref\""
      ]
     },
     "execution_count": 40,
     "metadata": {},
     "output_type": "execute_result"
    }
   ],
   "source": [
    "X_train_tokenized_ls_sent = []\n",
    "for sentence in X_train_tokenized_stemmed_ls:\n",
    "    X_train_tokenized_ls_sent.append(\" \".join(sentence))\n",
    "X_train_tokenized_ls_sent[0]"
   ]
  },
  {
   "cell_type": "code",
   "execution_count": 41,
   "metadata": {},
   "outputs": [],
   "source": [
    "X_test_tokenized_ls_sent = []\n",
    "for sentence in X_test_tokenized_stemmed_ls:\n",
    "    X_test_tokenized_ls_sent.append(\" \".join(sentence))"
   ]
  },
  {
   "cell_type": "markdown",
   "metadata": {},
   "source": [
    "## Compute TF-IDF matrix\n",
    "For avoiding a high number of features I will set the following two constrainst:\n",
    "- A term should have a frequency >= 5 in the entire corpus\n",
    "- The best 50 000 features are kept\n",
    "\n",
    "### Porter stemmer"
   ]
  },
  {
   "cell_type": "code",
   "execution_count": 42,
   "metadata": {},
   "outputs": [],
   "source": [
    "from sklearn.feature_extraction.text import TfidfVectorizer\n",
    "tfidf_vect_ps = TfidfVectorizer(stop_words='english', min_df= 5, max_features = 50000)\n",
    "X_train_tfidf_ps = tfidf_vect_ps.fit_transform(X_train_tokenized_ps_sent)"
   ]
  },
  {
   "cell_type": "code",
   "execution_count": 43,
   "metadata": {},
   "outputs": [
    {
     "name": "stdout",
     "output_type": "stream",
     "text": [
      "  (0, 19215)\t0.17290276362086485\n",
      "  (0, 4244)\t0.30565518658691787\n",
      "  (0, 13172)\t0.07140875398966193\n",
      "  (0, 11874)\t0.16730176521204945\n",
      "  (0, 7922)\t0.06293765351428794\n",
      "  (0, 17771)\t0.14764036309134135\n",
      "  (0, 14475)\t0.14148608379827002\n",
      "  (0, 15495)\t0.08540166872381717\n",
      "  (0, 2459)\t0.09552543095217728\n",
      "  (0, 3730)\t0.10892441946063029\n",
      "  (0, 20840)\t0.058859521459941146\n",
      "  (0, 85)\t0.23912801925190572\n",
      "  (0, 19604)\t0.2738745227658776\n",
      "  (0, 12071)\t0.22034211271670573\n",
      "  (0, 20607)\t0.05824827179164364\n",
      "  (0, 16894)\t0.09900335695471729\n",
      "  (0, 16211)\t0.1341376055341389\n",
      "  (0, 19247)\t0.09660090436263118\n",
      "  (0, 15049)\t0.3795742798360569\n",
      "  (0, 3250)\t0.08024785635003766\n",
      "  (0, 10102)\t0.13492756079486148\n",
      "  (0, 9041)\t0.10689969362917563\n",
      "  (0, 13272)\t0.1330029236010536\n",
      "  (0, 17602)\t0.11804286397093974\n",
      "  (0, 15327)\t0.19759228376977667\n",
      "  :\t:\n",
      "  (755535, 6163)\t0.27127353189712117\n",
      "  (755535, 7089)\t0.37326453500286055\n",
      "  (755535, 8859)\t0.29941111209803173\n",
      "  (755535, 20421)\t0.2106218653483153\n",
      "  (755535, 7858)\t0.35151038399452944\n",
      "  (755535, 5397)\t0.30115614158934867\n",
      "  (755535, 9536)\t0.4290241724483186\n",
      "  (755535, 9824)\t0.4406530535415908\n",
      "  (755536, 4244)\t0.16192224664097676\n",
      "  (755536, 7922)\t0.20004907560985027\n",
      "  (755536, 11492)\t0.1947802943156454\n",
      "  (755536, 6470)\t0.2153850297939841\n",
      "  (755536, 11939)\t0.25240524400763836\n",
      "  (755536, 15596)\t0.25206098281403577\n",
      "  (755536, 15349)\t0.21301315222069456\n",
      "  (755536, 8734)\t0.4371212983305407\n",
      "  (755536, 15399)\t0.314299012211367\n",
      "  (755536, 2299)\t0.3239880505764693\n",
      "  (755536, 18040)\t0.40819746467353435\n",
      "  (755536, 1959)\t0.33964894285886993\n",
      "  (755537, 7389)\t1.0\n",
      "  (755538, 20607)\t0.5068420506685861\n",
      "  (755538, 15596)\t0.6900319793354354\n",
      "  (755538, 8797)\t0.5166884972287304\n",
      "  (755539, 7386)\t1.0\n"
     ]
    }
   ],
   "source": [
    "print(X_train_tfidf_ps)"
   ]
  },
  {
   "cell_type": "code",
   "execution_count": 44,
   "metadata": {},
   "outputs": [
    {
     "data": {
      "text/plain": [
       "['tfidf_vect_ps.joblib']"
      ]
     },
     "execution_count": 44,
     "metadata": {},
     "output_type": "execute_result"
    }
   ],
   "source": [
    "dump(tfidf_vect_ps, 'tfidf_vect_ps.joblib')"
   ]
  },
  {
   "cell_type": "code",
   "execution_count": 45,
   "metadata": {},
   "outputs": [],
   "source": [
    "X_test_tfidf_ps = tfidf_vect_ps.transform(X_test_tokenized_ps_sent)"
   ]
  },
  {
   "cell_type": "code",
   "execution_count": 46,
   "metadata": {},
   "outputs": [
    {
     "data": {
      "text/plain": [
       "21763"
      ]
     },
     "execution_count": 46,
     "metadata": {},
     "output_type": "execute_result"
    }
   ],
   "source": [
    "len(tfidf_vect_ps.get_feature_names())"
   ]
  },
  {
   "cell_type": "markdown",
   "metadata": {},
   "source": [
    "### Lancaster stemmer"
   ]
  },
  {
   "cell_type": "code",
   "execution_count": 47,
   "metadata": {},
   "outputs": [],
   "source": [
    "from sklearn.feature_extraction.text import TfidfVectorizer\n",
    "tfidf_vect_ls = TfidfVectorizer(stop_words='english', min_df= 5, max_features = 50000)\n",
    "X_train_tfidf_ls = tfidf_vect_ls.fit_transform(X_train_tokenized_ls_sent)"
   ]
  },
  {
   "cell_type": "code",
   "execution_count": 48,
   "metadata": {},
   "outputs": [
    {
     "data": {
      "text/plain": [
       "['tfidf_vect_ls.joblib']"
      ]
     },
     "execution_count": 48,
     "metadata": {},
     "output_type": "execute_result"
    }
   ],
   "source": [
    "dump(tfidf_vect_ls, 'tfidf_vect_ls.joblib')"
   ]
  },
  {
   "cell_type": "code",
   "execution_count": 49,
   "metadata": {},
   "outputs": [],
   "source": [
    "X_test_tfidf_ls = tfidf_vect_ls.transform(X_test_tokenized_ls_sent)"
   ]
  },
  {
   "cell_type": "code",
   "execution_count": 50,
   "metadata": {},
   "outputs": [
    {
     "data": {
      "text/plain": [
       "20136"
      ]
     },
     "execution_count": 50,
     "metadata": {},
     "output_type": "execute_result"
    }
   ],
   "source": [
    "len(tfidf_vect_ls.get_feature_names())"
   ]
  },
  {
   "cell_type": "markdown",
   "metadata": {},
   "source": [
    "### Store stemmed dataset"
   ]
  },
  {
   "cell_type": "code",
   "execution_count": 51,
   "metadata": {},
   "outputs": [
    {
     "data": {
      "text/plain": [
       "['X_test_tfidf_ps.joblib']"
      ]
     },
     "execution_count": 51,
     "metadata": {},
     "output_type": "execute_result"
    }
   ],
   "source": [
    "dump(X_train_tfidf_ps, 'X_train_tfidf_ps.joblib')\n",
    "dump(X_test_tfidf_ps, 'X_test_tfidf_ps.joblib')"
   ]
  },
  {
   "cell_type": "code",
   "execution_count": 52,
   "metadata": {},
   "outputs": [
    {
     "data": {
      "text/plain": [
       "['X_test_tfidf_ls.joblib']"
      ]
     },
     "execution_count": 52,
     "metadata": {},
     "output_type": "execute_result"
    }
   ],
   "source": [
    "dump(X_train_tfidf_ls, 'X_train_tfidf_ls.joblib')\n",
    "dump(X_test_tfidf_ls, 'X_test_tfidf_ls.joblib')"
   ]
  },
  {
   "cell_type": "markdown",
   "metadata": {},
   "source": [
    "# Classifiers\n",
    "## Multinomial Naive-Bayes\n",
    "### Porter"
   ]
  },
  {
   "cell_type": "code",
   "execution_count": 53,
   "metadata": {},
   "outputs": [
    {
     "data": {
      "text/plain": [
       "MultinomialNB(alpha=1.0, class_prior=None, fit_prior=True)"
      ]
     },
     "execution_count": 53,
     "metadata": {},
     "output_type": "execute_result"
    }
   ],
   "source": [
    "from sklearn.naive_bayes import MultinomialNB\n",
    "clf = MultinomialNB()\n",
    "clf.fit(X_train_tfidf_ps, y_train)"
   ]
  },
  {
   "cell_type": "markdown",
   "metadata": {},
   "source": [
    "### Evaluate performances"
   ]
  },
  {
   "cell_type": "code",
   "execution_count": 54,
   "metadata": {},
   "outputs": [],
   "source": [
    "from sklearn.metrics import precision_recall_curve, auc, confusion_matrix, f1_score, fbeta_score, precision_score, recall_score"
   ]
  },
  {
   "cell_type": "code",
   "execution_count": 55,
   "metadata": {},
   "outputs": [],
   "source": [
    "train_score = clf.score(X_train_tfidf_ps, y_train) # Train Accuracy\n",
    "test_score = clf.score(X_test_tfidf_ps, y_test)    # Test Accuracy"
   ]
  },
  {
   "cell_type": "code",
   "execution_count": 56,
   "metadata": {},
   "outputs": [
    {
     "name": "stdout",
     "output_type": "stream",
     "text": [
      "0.8437303120946608\n"
     ]
    }
   ],
   "source": [
    "print(train_score)"
   ]
  },
  {
   "cell_type": "code",
   "execution_count": 57,
   "metadata": {},
   "outputs": [
    {
     "name": "stdout",
     "output_type": "stream",
     "text": [
      "0.8405915105392711\n"
     ]
    }
   ],
   "source": [
    "print(test_score)"
   ]
  },
  {
   "cell_type": "code",
   "execution_count": 58,
   "metadata": {},
   "outputs": [],
   "source": [
    "predictions = clf.predict(X_test_tfidf_ps)\n",
    "prec = precision_score(y_test, predictions) # Precision\n",
    "rec = recall_score(y_test, predictions) # Recall\n",
    "f1 = f1_score(y_test, predictions) # F1\n",
    "f2 = fbeta_score(y_test, predictions, 2) # F2\n",
    "cm = confusion_matrix(y_test, predictions)"
   ]
  },
  {
   "cell_type": "code",
   "execution_count": 59,
   "metadata": {},
   "outputs": [
    {
     "data": {
      "text/plain": [
       "array([[ 23153,  55071],\n",
       "       [  4250, 289658]], dtype=int64)"
      ]
     },
     "execution_count": 59,
     "metadata": {},
     "output_type": "execute_result"
    }
   ],
   "source": [
    "cm"
   ]
  },
  {
   "cell_type": "code",
   "execution_count": 60,
   "metadata": {},
   "outputs": [],
   "source": [
    "proba = clf.predict_proba(X_test_tfidf_ps)\n",
    "precision, recall, pr_thresholds = precision_recall_curve(y_test, proba[:,1])"
   ]
  },
  {
   "cell_type": "code",
   "execution_count": 61,
   "metadata": {},
   "outputs": [],
   "source": [
    "auc_score = auc(recall, precision)"
   ]
  },
  {
   "cell_type": "code",
   "execution_count": 62,
   "metadata": {},
   "outputs": [
    {
     "name": "stdout",
     "output_type": "stream",
     "text": [
      "Train Accuracy       0.84373\n",
      "Test Accuracy        0.84059\n",
      "Test Precision       0.84025\n",
      "Test Recall          0.98554\n",
      "F1                   0.90711\n",
      "F2                   0.95260\n",
      "P/R AUC              0.96567\n"
     ]
    }
   ],
   "source": [
    "scores_strings = [\"Train Accuracy\", \"Test Accuracy\", \"Test Precision\",\n",
    "                  \"Test Recall\", \"F1\", \"F2\", \"P/R AUC\"]\n",
    "scores = [train_score, test_score, prec, rec, f1, f2, auc_score]\n",
    "print((\"{:20s} {:.5f}\\n\"*7)[:-1].format(*itertools.chain(*zip(scores_strings, scores))))"
   ]
  },
  {
   "cell_type": "code",
   "execution_count": 63,
   "metadata": {},
   "outputs": [
    {
     "data": {
      "image/png": "[encoded data removed]",
      "text/plain": [
       "<Figure size 432x288 with 1 Axes>"
      ]
     },
     "metadata": {},
     "output_type": "display_data"
    }
   ],
   "source": [
    "plt.plot(recall, precision, label='Precision-Recall curve')\n",
    "plt.xlabel('Recall')\n",
    "plt.ylabel('Precision')\n",
    "plt.ylim([0.0, 1.05])\n",
    "plt.xlim([0.0, 1.0])\n",
    "plt.title('Precision-Recall Curve: AUC=%0.2f' % auc_score)\n",
    "plt.legend(loc=\"lower left\")\n",
    "plt.show()"
   ]
  },
  {
   "cell_type": "code",
   "execution_count": 64,
   "metadata": {},
   "outputs": [
    {
     "data": {
      "text/plain": [
       "'             precision    recall  f1-score   support\\n\\n      False       0.84      0.30      0.44     78224\\n       True       0.84      0.99      0.91    293908\\n\\navg / total       0.84      0.84      0.81    372132\\n'"
      ]
     },
     "execution_count": 64,
     "metadata": {},
     "output_type": "execute_result"
    }
   ],
   "source": [
    "classification_report(y_test,predictions)"
   ]
  },
  {
   "cell_type": "markdown",
   "metadata": {},
   "source": [
    "### Lancaster"
   ]
  },
  {
   "cell_type": "code",
   "execution_count": 65,
   "metadata": {},
   "outputs": [
    {
     "data": {
      "text/plain": [
       "MultinomialNB(alpha=1.0, class_prior=None, fit_prior=True)"
      ]
     },
     "execution_count": 65,
     "metadata": {},
     "output_type": "execute_result"
    }
   ],
   "source": [
    "clf = MultinomialNB()\n",
    "clf.fit(X_train_tfidf_ls, y_train)"
   ]
  },
  {
   "cell_type": "code",
   "execution_count": 66,
   "metadata": {},
   "outputs": [],
   "source": [
    "train_score = clf.score(X_train_tfidf_ls, y_train) # Train Accuracy\n",
    "test_score = clf.score(X_test_tfidf_ls, y_test)    # Test Accuracy"
   ]
  },
  {
   "cell_type": "code",
   "execution_count": 67,
   "metadata": {},
   "outputs": [
    {
     "data": {
      "text/plain": [
       "0.8416337983429071"
      ]
     },
     "execution_count": 67,
     "metadata": {},
     "output_type": "execute_result"
    }
   ],
   "source": [
    "train_score"
   ]
  },
  {
   "cell_type": "code",
   "execution_count": 68,
   "metadata": {},
   "outputs": [
    {
     "data": {
      "text/plain": [
       "0.8389415583717605"
      ]
     },
     "execution_count": 68,
     "metadata": {},
     "output_type": "execute_result"
    }
   ],
   "source": [
    "test_score"
   ]
  },
  {
   "cell_type": "code",
   "execution_count": 69,
   "metadata": {},
   "outputs": [],
   "source": [
    "predictions = clf.predict(X_test_tfidf_ls)\n",
    "prec = precision_score(y_test, predictions) # Precision\n",
    "rec = recall_score(y_test, predictions) # Recall\n",
    "f1 = f1_score(y_test, predictions) # F1\n",
    "f2 = fbeta_score(y_test, predictions, 2) # F2\n",
    "cm = confusion_matrix(y_test, predictions)\n",
    "proba = clf.predict_proba(X_test_tfidf_ls)\n",
    "precision, recall, pr_thresholds = precision_recall_curve(y_test, proba[:,1])"
   ]
  },
  {
   "cell_type": "code",
   "execution_count": 70,
   "metadata": {},
   "outputs": [],
   "source": [
    "auc_score = auc(recall, precision)"
   ]
  },
  {
   "cell_type": "code",
   "execution_count": 71,
   "metadata": {},
   "outputs": [
    {
     "name": "stdout",
     "output_type": "stream",
     "text": [
      "Train Accuracy       0.84163\n",
      "Test Accuracy        0.83894\n",
      "Test Precision       0.83795\n",
      "Test Recall          0.98694\n",
      "F1                   0.90636\n",
      "F2                   0.95305\n",
      "P/R AUC              0.96463\n"
     ]
    }
   ],
   "source": [
    "scores_strings = [\"Train Accuracy\", \"Test Accuracy\", \"Test Precision\",\n",
    "                  \"Test Recall\", \"F1\", \"F2\", \"P/R AUC\"]\n",
    "scores = [train_score, test_score, prec, rec, f1, f2, auc_score]\n",
    "print((\"{:20s} {:.5f}\\n\"*7)[:-1].format(*itertools.chain(*zip(scores_strings, scores))))"
   ]
  },
  {
   "cell_type": "code",
   "execution_count": 72,
   "metadata": {},
   "outputs": [
    {
     "data": {
      "image/png": "[encoded data removed]",
      "text/plain": [
       "<Figure size 432x288 with 1 Axes>"
      ]
     },
     "metadata": {},
     "output_type": "display_data"
    }
   ],
   "source": [
    "plt.plot(recall, precision, label='Precision-Recall curve')\n",
    "plt.xlabel('Recall')\n",
    "plt.ylabel('Precision')\n",
    "plt.ylim([0.0, 1.05])\n",
    "plt.xlim([0.0, 1.0])\n",
    "plt.title('Precision-Recall Curve: AUC=%0.2f' % auc_score)\n",
    "plt.legend(loc=\"lower left\")\n",
    "plt.show()"
   ]
  },
  {
   "cell_type": "code",
   "execution_count": 73,
   "metadata": {},
   "outputs": [
    {
     "name": "stdout",
     "output_type": "stream",
     "text": [
      "             precision    recall  f1-score   support\n",
      "\n",
      "      False       0.85      0.28      0.42     78224\n",
      "       True       0.84      0.99      0.91    293908\n",
      "\n",
      "avg / total       0.84      0.84      0.81    372132\n",
      "\n"
     ]
    }
   ],
   "source": [
    "print(classification_report(y_test,predictions))"
   ]
  },
  {
   "cell_type": "markdown",
   "metadata": {},
   "source": [
    "## Random forest\n",
    "### Porter"
   ]
  },
  {
   "cell_type": "code",
   "execution_count": 74,
   "metadata": {},
   "outputs": [
    {
     "name": "stdout",
     "output_type": "stream",
     "text": [
      "building tree 1 of 50\n",
      "building tree 2 of 50\n",
      "building tree 3 of 50\n",
      "building tree 4 of 50\n",
      "building tree 5 of 50\n",
      "building tree 6 of 50\n",
      "building tree 7 of 50\n",
      "building tree 8 of 50\n",
      "building tree 9 of 50\n",
      "building tree 10 of 50\n",
      "building tree 11 of 50\n",
      "building tree 12 of 50\n",
      "building tree 13 of 50\n",
      "building tree 14 of 50\n",
      "building tree 15 of 50\n",
      "building tree 16 of 50\n",
      "building tree 17 of 50\n",
      "building tree 18 of 50\n",
      "building tree 19 of 50\n",
      "building tree 20 of 50\n",
      "building tree 21 of 50\n",
      "building tree 22 of 50\n",
      "building tree 23 of 50\n",
      "building tree 24 of 50\n",
      "building tree 25 of 50\n",
      "building tree 26 of 50\n",
      "building tree 27 of 50\n",
      "building tree 28 of 50\n",
      "building tree 29 of 50\n",
      "building tree 30 of 50\n",
      "building tree 31 of 50\n",
      "building tree 32 of 50\n",
      "building tree 33 of 50\n",
      "building tree 34 of 50\n",
      "building tree 35 of 50\n",
      "building tree 36 of 50\n"
     ]
    },
    {
     "name": "stderr",
     "output_type": "stream",
     "text": [
      "[Parallel(n_jobs=-1)]: Done  33 tasks      | elapsed: 23.6min\n"
     ]
    },
    {
     "name": "stdout",
     "output_type": "stream",
     "text": [
      "building tree 37 of 50\n",
      "building tree 38 of 50\n",
      "building tree 39 of 50\n",
      "building tree 40 of 50\n",
      "building tree 41 of 50\n",
      "building tree 42 of 50\n",
      "building tree 43 of 50\n",
      "building tree 44 of 50\n",
      "building tree 45 of 50\n",
      "building tree 46 of 50\n",
      "building tree 47 of 50\n",
      "building tree 48 of 50\n",
      "building tree 49 of 50\n",
      "building tree 50 of 50\n"
     ]
    },
    {
     "name": "stderr",
     "output_type": "stream",
     "text": [
      "[Parallel(n_jobs=-1)]: Done  50 out of  50 | elapsed: 33.4min finished\n"
     ]
    },
    {
     "data": {
      "text/plain": [
       "RandomForestClassifier(bootstrap=True, class_weight=None, criterion='gini',\n",
       "            max_depth=None, max_features='auto', max_leaf_nodes=None,\n",
       "            min_impurity_decrease=0.0, min_impurity_split=None,\n",
       "            min_samples_leaf=1, min_samples_split=2,\n",
       "            min_weight_fraction_leaf=0.0, n_estimators=50, n_jobs=-1,\n",
       "            oob_score=False, random_state=42, verbose=2, warm_start=False)"
      ]
     },
     "execution_count": 74,
     "metadata": {},
     "output_type": "execute_result"
    }
   ],
   "source": [
    "from sklearn.ensemble import RandomForestClassifier\n",
    "\n",
    "clf = RandomForestClassifier(n_estimators=50, random_state=42, n_jobs=-1, verbose=2)\n",
    "clf.fit(X_train_tfidf_ps, y_train) # it takes around 30 minutes"
   ]
  },
  {
   "cell_type": "code",
   "execution_count": 75,
   "metadata": {},
   "outputs": [
    {
     "name": "stderr",
     "output_type": "stream",
     "text": [
      "[Parallel(n_jobs=4)]: Done  33 tasks      | elapsed:    8.0s\n",
      "[Parallel(n_jobs=4)]: Done  50 out of  50 | elapsed:   11.5s finished\n",
      "[Parallel(n_jobs=4)]: Done  33 tasks      | elapsed:    3.9s\n",
      "[Parallel(n_jobs=4)]: Done  50 out of  50 | elapsed:    5.7s finished\n"
     ]
    }
   ],
   "source": [
    "train_score = clf.score(X_train_tfidf_ps, y_train) # Train Accuracy\n",
    "test_score = clf.score(X_test_tfidf_ps, y_test)    # Test Accuracy"
   ]
  },
  {
   "cell_type": "code",
   "execution_count": 76,
   "metadata": {},
   "outputs": [
    {
     "name": "stderr",
     "output_type": "stream",
     "text": [
      "[Parallel(n_jobs=4)]: Done  33 tasks      | elapsed:    3.9s\n",
      "[Parallel(n_jobs=4)]: Done  50 out of  50 | elapsed:    5.7s finished\n"
     ]
    }
   ],
   "source": [
    "predictions = clf.predict(X_test_tfidf_ps)"
   ]
  },
  {
   "cell_type": "code",
   "execution_count": 77,
   "metadata": {},
   "outputs": [
    {
     "name": "stdout",
     "output_type": "stream",
     "text": [
      "             precision    recall  f1-score   support\n",
      "\n",
      "      False       0.83      0.49      0.62     78224\n",
      "       True       0.88      0.97      0.92    293908\n",
      "\n",
      "avg / total       0.87      0.87      0.86    372132\n",
      "\n"
     ]
    }
   ],
   "source": [
    "print(classification_report(y_test,predictions))"
   ]
  },
  {
   "cell_type": "markdown",
   "metadata": {},
   "source": [
    "Results are more encouraging! The problem is that it's way slower than Multinomial NB.\n",
    "## TruncatedSVD\n",
    "The X_train vector has around 20k features: for speeding up the training phase it may be good to use dimensionality reduction methods. Their goal is to preserve \"expressive power\" while reducing dataset dimensionality.\n",
    "Because the TFIDF matrix is a sparse one, one of the best method for performing dimensionality reduction is \"TruncatedSVD\""
   ]
  },
  {
   "cell_type": "code",
   "execution_count": 78,
   "metadata": {},
   "outputs": [],
   "source": [
    "from sklearn.decomposition import TruncatedSVD\n",
    "tsvd = TruncatedSVD(n_components=500, random_state=42)\n",
    "X_train_tfidf_ps_pca = tsvd.fit_transform(X_train_tfidf_ps)\n",
    "X_test_tfidf_ps_pca = tsvd.transform(X_test_tfidf_ps)"
   ]
  },
  {
   "cell_type": "code",
   "execution_count": 79,
   "metadata": {},
   "outputs": [
    {
     "data": {
      "text/plain": [
       "<755540x21763 sparse matrix of type '<class 'numpy.float64'>'\n",
       "\twith 14537542 stored elements in Compressed Sparse Row format>"
      ]
     },
     "execution_count": 79,
     "metadata": {},
     "output_type": "execute_result"
    }
   ],
   "source": [
    "X_train_tfidf_ps"
   ]
  },
  {
   "cell_type": "code",
   "execution_count": 80,
   "metadata": {},
   "outputs": [
    {
     "name": "stdout",
     "output_type": "stream",
     "text": [
      "train with old features:  ()\n",
      "train with new features: (755540, 500)\n"
     ]
    }
   ],
   "source": [
    "print(\"train with old features: \",np.array(X_train_tfidf_ps).shape)\n",
    "print(\"train with new features:\" ,np.array(X_train_tfidf_ps_pca).shape)"
   ]
  },
  {
   "cell_type": "markdown",
   "metadata": {},
   "source": [
    "### Store SVD-transformed dataset"
   ]
  },
  {
   "cell_type": "code",
   "execution_count": 81,
   "metadata": {},
   "outputs": [
    {
     "data": {
      "text/plain": [
       "['X_test_tfidf_ps_pca.joblib']"
      ]
     },
     "execution_count": 81,
     "metadata": {},
     "output_type": "execute_result"
    }
   ],
   "source": [
    "dump(X_train_tfidf_ps_pca, 'X_train_tfidf_ps_pca.joblib')\n",
    "dump(X_test_tfidf_ps_pca, 'X_test_tfidf_ps_pca.joblib')"
   ]
  },
  {
   "cell_type": "markdown",
   "metadata": {},
   "source": [
    "### Classifiers\n",
    "Multinomial NB won't be used for the following reasons: https://stackoverflow.com/questions/24169238/dealing-with-negative-values-in-sklearn-multinomialnb\n",
    "#### Randomforest"
   ]
  },
  {
   "cell_type": "code",
   "execution_count": 82,
   "metadata": {},
   "outputs": [
    {
     "name": "stdout",
     "output_type": "stream",
     "text": [
      "building tree 1 of 50building tree 2 of 50\n",
      "building tree 3 of 50\n",
      "building tree 4 of 50\n",
      "\n",
      "building tree 5 of 50\n",
      "building tree 6 of 50\n",
      "building tree 7 of 50\n",
      "building tree 8 of 50\n",
      "building tree 9 of 50\n",
      "building tree 10 of 50\n",
      "building tree 11 of 50\n",
      "building tree 12 of 50\n",
      "building tree 13 of 50\n",
      "building tree 14 of 50\n",
      "building tree 15 of 50\n",
      "building tree 16 of 50\n",
      "building tree 17 of 50\n",
      "building tree 18 of 50\n",
      "building tree 19 of 50\n",
      "building tree 20 of 50\n",
      "building tree 21 of 50\n",
      "building tree 22 of 50\n",
      "building tree 23 of 50\n",
      "building tree 24 of 50\n",
      "building tree 25 of 50\n",
      "building tree 26 of 50\n",
      "building tree 27 of 50\n",
      "building tree 28 of 50\n",
      "building tree 29 of 50\n",
      "building tree 30 of 50\n",
      "building tree 31 of 50\n",
      "building tree 32 of 50\n",
      "building tree 33 of 50\n",
      "building tree 34 of 50\n",
      "building tree 35 of 50\n",
      "building tree 36 of 50\n"
     ]
    },
    {
     "name": "stderr",
     "output_type": "stream",
     "text": [
      "[Parallel(n_jobs=-1)]: Done  33 tasks      | elapsed:  5.7min\n"
     ]
    },
    {
     "name": "stdout",
     "output_type": "stream",
     "text": [
      "building tree 37 of 50\n",
      "building tree 38 of 50\n",
      "building tree 39 of 50\n",
      "building tree 40 of 50\n",
      "building tree 41 of 50\n",
      "building tree 42 of 50\n",
      "building tree 43 of 50\n",
      "building tree 44 of 50\n",
      "building tree 45 of 50\n",
      "building tree 46 of 50\n",
      "building tree 47 of 50\n",
      "building tree 48 of 50\n",
      "building tree 49 of 50\n",
      "building tree 50 of 50\n"
     ]
    },
    {
     "name": "stderr",
     "output_type": "stream",
     "text": [
      "[Parallel(n_jobs=-1)]: Done  50 out of  50 | elapsed:  8.3min finished\n"
     ]
    },
    {
     "data": {
      "text/plain": [
       "RandomForestClassifier(bootstrap=True, class_weight=None, criterion='gini',\n",
       "            max_depth=None, max_features='auto', max_leaf_nodes=None,\n",
       "            min_impurity_decrease=0.0, min_impurity_split=None,\n",
       "            min_samples_leaf=1, min_samples_split=2,\n",
       "            min_weight_fraction_leaf=0.0, n_estimators=50, n_jobs=-1,\n",
       "            oob_score=False, random_state=42, verbose=2, warm_start=False)"
      ]
     },
     "execution_count": 82,
     "metadata": {},
     "output_type": "execute_result"
    }
   ],
   "source": [
    "from sklearn.naive_bayes import MultinomialNB\n",
    "\n",
    "clf = RandomForestClassifier(n_estimators=50, random_state=42, n_jobs=-1, verbose=2)\n",
    "clf.fit(X_train_tfidf_ps_pca, y_train)"
   ]
  },
  {
   "cell_type": "code",
   "execution_count": 83,
   "metadata": {},
   "outputs": [
    {
     "name": "stderr",
     "output_type": "stream",
     "text": [
      "[Parallel(n_jobs=4)]: Done  33 tasks      | elapsed:    2.8s\n"
     ]
    },
    {
     "name": "stdout",
     "output_type": "stream",
     "text": [
      "             precision    recall  f1-score   support\n",
      "\n",
      "      False       0.82      0.32      0.46     78224\n",
      "       True       0.85      0.98      0.91    293908\n",
      "\n",
      "avg / total       0.84      0.84      0.81    372132\n",
      "\n"
     ]
    },
    {
     "name": "stderr",
     "output_type": "stream",
     "text": [
      "[Parallel(n_jobs=4)]: Done  50 out of  50 | elapsed:    4.1s finished\n"
     ]
    }
   ],
   "source": [
    "predictions = clf.predict(X_test_tfidf_ps_pca)\n",
    "print(classification_report(y_test,predictions))"
   ]
  }
 ],
 "metadata": {
  "kernelspec": {
   "display_name": "Python 3",
   "language": "python",
   "name": "python3"
  },
  "language_info": {
   "codemirror_mode": {
    "name": "ipython",
    "version": 3
   },
   "file_extension": ".py",
   "mimetype": "text/x-python",
   "name": "python",
   "nbconvert_exporter": "python",
   "pygments_lexer": "ipython3",
   "version": "3.6.3"
  }
 },
 "nbformat": 4,
 "nbformat_minor": 2
}
