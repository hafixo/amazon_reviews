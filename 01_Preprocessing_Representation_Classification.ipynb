{
 "cells": [
  {
   "cell_type": "markdown",
   "metadata": {},
   "source": [
    "## Imports"
   ]
  },
  {
   "cell_type": "code",
   "execution_count": 1,
   "metadata": {},
   "outputs": [
    {
     "name": "stderr",
     "output_type": "stream",
     "text": [
      "[nltk_data] Downloading package punkt to\n",
      "[nltk_data]     C:\\Users\\Khaled\\AppData\\Roaming\\nltk_data...\n",
      "[nltk_data]   Package punkt is already up-to-date!\n",
      "[nltk_data] Downloading package stopwords to\n",
      "[nltk_data]     C:\\Users\\Khaled\\AppData\\Roaming\\nltk_data...\n",
      "[nltk_data]   Package stopwords is already up-to-date!\n"
     ]
    }
   ],
   "source": [
    "import itertools\n",
    "import json\n",
    "import matplotlib.pyplot as plt\n",
    "import nltk\n",
    "nltk.download('punkt')\n",
    "nltk.download('stopwords')\n",
    "import numpy as np\n",
    "import pandas as pd\n",
    "import re\n",
    "from sklearn.metrics import classification_report\n",
    "from sklearn.feature_extraction.text import TfidfVectorizer\n",
    "from spellchecker import SpellChecker\n",
    "from joblib import dump, load"
   ]
  },
  {
   "cell_type": "code",
   "execution_count": 2,
   "metadata": {},
   "outputs": [],
   "source": [
    "import time\n",
    "import datetime"
   ]
  },
  {
   "cell_type": "code",
   "execution_count": 3,
   "metadata": {},
   "outputs": [],
   "source": [
    "# Beep when notebook stops running code\n",
    "import winsound\n",
    "def beep(reps=1, duration=500, freq=440, sleep=1):\n",
    "    for _ in range(reps - 1):\n",
    "        winsound.Beep(freq, duration)\n",
    "        time.sleep(sleep)\n",
    "    winsound.Beep(freq, duration)"
   ]
  },
  {
   "cell_type": "markdown",
   "metadata": {},
   "source": [
    "## Data"
   ]
  },
  {
   "cell_type": "markdown",
   "metadata": {},
   "source": [
    "Load the cleaned reviews:"
   ]
  },
  {
   "cell_type": "code",
   "execution_count": 4,
   "metadata": {
    "scrolled": true
   },
   "outputs": [
    {
     "name": "stdout",
     "output_type": "stream",
     "text": [
      "Wall time: 9.45 s\n"
     ]
    }
   ],
   "source": [
    "%%time\n",
    "data = \"dataset/preprocessed_dataset.csv\"\n",
    "df = pd.read_csv(data)\n",
    "df = df[df.reviewTextPreprocessed.notna()]\n",
    "df.head()"
   ]
  },
  {
   "cell_type": "code",
   "execution_count": 5,
   "metadata": {
    "scrolled": true
   },
   "outputs": [
    {
     "data": {
      "text/plain": [
       "(3941926, 3)"
      ]
     },
     "execution_count": 5,
     "metadata": {},
     "output_type": "execute_result"
    }
   ],
   "source": [
    "df.shape"
   ]
  },
  {
   "cell_type": "markdown",
   "metadata": {},
   "source": [
    "See proportion of positive ($>3$) and critical ($\\leq 3$) reviews:"
   ]
  },
  {
   "cell_type": "code",
   "execution_count": 6,
   "metadata": {},
   "outputs": [],
   "source": [
    "df[\"positive\"] = df.overall > 3"
   ]
  },
  {
   "cell_type": "code",
   "execution_count": 7,
   "metadata": {},
   "outputs": [
    {
     "data": {
      "text/plain": [
       "positive\n",
       "False     625479\n",
       "True     3316447\n",
       "dtype: int64"
      ]
     },
     "execution_count": 7,
     "metadata": {},
     "output_type": "execute_result"
    }
   ],
   "source": [
    "df.groupby(\"positive\").size()"
   ]
  },
  {
   "cell_type": "code",
   "execution_count": 8,
   "metadata": {
    "scrolled": true
   },
   "outputs": [
    {
     "data": {
      "text/plain": [
       "positive\n",
       "False    0.158673\n",
       "True     0.841327\n",
       "dtype: float64"
      ]
     },
     "execution_count": 8,
     "metadata": {},
     "output_type": "execute_result"
    }
   ],
   "source": [
    "df.groupby(\"positive\").size()/(df.shape[0])"
   ]
  },
  {
   "cell_type": "markdown",
   "metadata": {},
   "source": [
    "The class to predict is highly unbalanced. We can sample in order to have a balanced class:"
   ]
  },
  {
   "cell_type": "code",
   "execution_count": 9,
   "metadata": {},
   "outputs": [],
   "source": [
    "sample_size = 500000 # needs to be less than the number of observations in the minority class\n",
    "sample_df = df.groupby('positive').apply(lambda x: x.sample(sample_size))"
   ]
  },
  {
   "cell_type": "code",
   "execution_count": 10,
   "metadata": {},
   "outputs": [],
   "source": [
    "sample_df = sample_df.reset_index(level=0, drop=True) # remove outer level of multiindex"
   ]
  },
  {
   "cell_type": "code",
   "execution_count": 11,
   "metadata": {},
   "outputs": [
    {
     "data": {
      "text/plain": [
       "positive\n",
       "False    500000\n",
       "True     500000\n",
       "dtype: int64"
      ]
     },
     "execution_count": 11,
     "metadata": {},
     "output_type": "execute_result"
    }
   ],
   "source": [
    "sample_df.groupby(\"positive\").size()"
   ]
  },
  {
   "cell_type": "markdown",
   "metadata": {},
   "source": [
    "#### Choice: Unbalanced or Balanced Classes"
   ]
  },
  {
   "cell_type": "markdown",
   "metadata": {},
   "source": [
    "Definition of unbalanced `X` and `y` (class to predict). The classification with this choice should be better at predicting sentiment on the reviews from the Amazon dataset."
   ]
  },
  {
   "cell_type": "code",
   "execution_count": 12,
   "metadata": {},
   "outputs": [],
   "source": [
    "# X = df.reviewTextPreprocessed.values\n",
    "# y = df.positive.values"
   ]
  },
  {
   "cell_type": "markdown",
   "metadata": {},
   "source": [
    "Definition of balanced `X` and `y` (class to predict). The classification with this choice should be better at predicting sentiment on tweets (which might not be unbalanced in the same way as this dataset)."
   ]
  },
  {
   "cell_type": "code",
   "execution_count": 13,
   "metadata": {},
   "outputs": [],
   "source": [
    "X = sample_df.reviewTextPreprocessed.values\n",
    "y = sample_df.positive.values"
   ]
  },
  {
   "cell_type": "markdown",
   "metadata": {},
   "source": [
    "## Order of operations from now on:"
   ]
  },
  {
   "cell_type": "markdown",
   "metadata": {},
   "source": [
    "First of all, we define a list of stopwords."
   ]
  },
  {
   "cell_type": "markdown",
   "metadata": {},
   "source": [
    "The next step is the preprocessing needed to obtain a suitable representation of the reviews, which are:\n",
    "\n",
    "- Tokenization\n",
    "- Spelling correction\n",
    "- Stop words removal\n",
    "- Stemming"
   ]
  },
  {
   "cell_type": "markdown",
   "metadata": {},
   "source": [
    "After these operations, the reviews are going to be passed to a vectorizer in order to obtain the final representation for the classifiers."
   ]
  },
  {
   "cell_type": "markdown",
   "metadata": {},
   "source": [
    "Stemming can be achieved using two different libraries: NLTK and PyStemmer. PyStemmer is faster, but needs Visual C++ Build Tools installed. Please choose the relevant code you prefer to run."
   ]
  },
  {
   "cell_type": "markdown",
   "metadata": {},
   "source": [
    "#### Rough execution times:\n",
    "\n",
    "(Execution times might be different from the following, I ran the notebook again afterwards)"
   ]
  },
  {
   "cell_type": "markdown",
   "metadata": {},
   "source": [
    "#### NLTK"
   ]
  },
  {
   "cell_type": "markdown",
   "metadata": {},
   "source": [
    "- Tokenization, 3min 15s\n",
    "- Spell check and correction, 14min 11s (`proprocessor` parameter)\n",
    "- Stop words removal, 1min 6s (`stop_words` parameter)\n",
    "- Stemming, 7min 10s (Porter) 5min 56s (Lancaster)\n",
    "- Vectorization, 58.8 s (Porter), 56.6 s(Lancaster)"
   ]
  },
  {
   "cell_type": "markdown",
   "metadata": {},
   "source": [
    "#### PyStemmer"
   ]
  },
  {
   "cell_type": "markdown",
   "metadata": {},
   "source": [
    "Class that performs\n",
    "\n",
    "- Tokenization\n",
    "- Spell check and correction (parameter `preprocessor`)\n",
    "- Stop words removal (parameter `stop_words`)\n",
    "- Stemming (with `pystemmer`)\n",
    "- Vectorization\n",
    "\n",
    "8min 49s"
   ]
  },
  {
   "cell_type": "markdown",
   "metadata": {},
   "source": [
    "### Definition of the list of Stop-words"
   ]
  },
  {
   "cell_type": "code",
   "execution_count": 14,
   "metadata": {},
   "outputs": [],
   "source": [
    "from nltk.corpus import stopwords\n",
    "stopws = stopwords.words(\"english\")"
   ]
  },
  {
   "cell_type": "markdown",
   "metadata": {},
   "source": [
    "The list of stop words needs to be preprocessed in the same way as the reviews. We define the  dictionaries needed for the preprocessing, as in the previous notebook:"
   ]
  },
  {
   "cell_type": "code",
   "execution_count": 15,
   "metadata": {},
   "outputs": [],
   "source": [
    "emoticon_repl = {\n",
    "    # positive emoticons\n",
    "    r\":-?d+\": \" good \", r\":[- ]?\\)+\": \" good \", r\";-?\\)+\": \" good \", # ;). ;)). ;-), ecc.\n",
    "    r\"\\(+-?:\": \" good \", r\"=\\)+\" : \" good \", r\"\\b<3\\b\" : \" good \",    \n",
    "    # negative emoticons\n",
    "    r\"[\\s\\r\\t\\n]+:/+\": \" bad \", r\":\\\\+\": \" bad \", r\"[\\s\\r\\t\\n]+\\)-?:\": \" bad \",  # ):, )):, )-:, ecc.\n",
    "    r\":-?\\(+\": \" bad \", r\"[\\s\\t\\r\\n]+d+-?:\": \" bad \"\n",
    "}\n",
    "\n",
    "contracted_repl = {\n",
    "    # casi particolari\n",
    "    r\"won\\'t\" : \"will not\", r\"won\\'\" : \"will not\", r\"can\\'t\": \"can not\", r\"shan\\'t\": \"shall not\",\n",
    "    r\"shan\\'\": \"shall not\", r\"ain\\'t\": \"is not\", r\"ain\\'\": \"is not\",\n",
    "    # casi generali\n",
    "    r\"n\\'t\": \" not\", r\"\\'t\": \" not\", r\"n\\'\": \" not\", r\"\\'s\": \" is\", r\"\\'ve\": \" have\", \n",
    "    r\"\\'re\": \" are\", \n",
    "    r\"\\'ll\": \" will\", r\"\\'d\": \" would\",\n",
    "}\n",
    "\n",
    "with open('dataset/slang_subset_manual.json', 'r') as fid:\n",
    "    slang_repl = json.load(fid)"
   ]
  },
  {
   "cell_type": "markdown",
   "metadata": {},
   "source": [
    "Same preprocessing function as in the previous notebook:"
   ]
  },
  {
   "cell_type": "code",
   "execution_count": 16,
   "metadata": {},
   "outputs": [],
   "source": [
    "def preprocess(sent, translate_slang = True):\n",
    "    \n",
    "    sent = sent.lower()\n",
    "    sent = re.sub(r'^<div id=\"video.*>&nbsp;', '', sent) # Video-review part\n",
    "    sent = re.sub('https?://[A-Za-z0-9./]+', '', sent) # URLs\n",
    "    \n",
    "    for k in emoticon_repl:\n",
    "        sent = re.sub(k, emoticon_repl[k], sent)\n",
    "\n",
    "    if translate_slang:\n",
    "        for k in slang_repl:\n",
    "            sent = re.sub(r\"\\b\"+re.escape(k)+r\"\\b\", slang_repl[k], sent)\n",
    "        \n",
    "    for k in contracted_repl:\n",
    "        sent = re.sub(k, contracted_repl[k], sent)\n",
    "    \n",
    "    sent = re.sub('[/]+', ' ', sent) # word1/word2 to word1 word2\n",
    "    sent = re.sub('[^A-Za-z0-9-_ ]+', '', sent)\n",
    "    sent = re.sub('\\b\\d+\\b', '', sent)\n",
    "    \n",
    "    return sent"
   ]
  },
  {
   "cell_type": "code",
   "execution_count": 17,
   "metadata": {},
   "outputs": [],
   "source": [
    "prep_stopws = [preprocess(el) for el in stopws]"
   ]
  },
  {
   "cell_type": "markdown",
   "metadata": {},
   "source": [
    "Words containing \"not\" are important for our tasks"
   ]
  },
  {
   "cell_type": "code",
   "execution_count": 18,
   "metadata": {
    "scrolled": true
   },
   "outputs": [
    {
     "data": {
      "text/plain": [
       "array(['ain', 'aren', 'are not', 'couldn', 'could not', 'didn', 'did not',\n",
       "       'doesn', 'does not', 'hadn', 'had not', 'hasn', 'has not', 'haven',\n",
       "       'have not', 'isn', 'is not', 'ma', 'mightn', 'might not', 'mustn',\n",
       "       'must not', 'needn', 'need not', 'shan', 'shall not', 'shouldn',\n",
       "       'should not', 'wasn', 'was not', 'weren', 'were not', 'won',\n",
       "       'will not', 'wouldn', 'would not'], dtype='<U10')"
      ]
     },
     "execution_count": 18,
     "metadata": {},
     "output_type": "execute_result"
    }
   ],
   "source": [
    "np.array(prep_stopws[-36:])"
   ]
  },
  {
   "cell_type": "code",
   "execution_count": 19,
   "metadata": {},
   "outputs": [],
   "source": [
    "prep_stopws = prep_stopws[:-36]"
   ]
  },
  {
   "cell_type": "markdown",
   "metadata": {},
   "source": [
    "Other words to remove from the stop words:"
   ]
  },
  {
   "cell_type": "code",
   "execution_count": 20,
   "metadata": {},
   "outputs": [],
   "source": [
    "for word in [\"not\", \"very\", \"don\", \"do not\"]:\n",
    "    prep_stopws.remove(word)"
   ]
  },
  {
   "cell_type": "code",
   "execution_count": 21,
   "metadata": {},
   "outputs": [],
   "source": [
    "prep_stopws.extend([\"youse\", \"would\"]) # needed for consistency with spell checker"
   ]
  },
  {
   "cell_type": "markdown",
   "metadata": {},
   "source": [
    "## Tokenization/Spell Correction/StopWordsRemoval/Stemming"
   ]
  },
  {
   "cell_type": "markdown",
   "metadata": {},
   "source": [
    "### NLTK"
   ]
  },
  {
   "cell_type": "code",
   "execution_count": 22,
   "metadata": {},
   "outputs": [],
   "source": [
    "from nltk.tokenize import word_tokenize\n",
    "def tokenize_reviews(reviews):\n",
    "    tokenized_reviews = [word_tokenize(review) for review in reviews]\n",
    "    return tokenized_reviews"
   ]
  },
  {
   "cell_type": "code",
   "execution_count": 23,
   "metadata": {},
   "outputs": [
    {
     "name": "stdout",
     "output_type": "stream",
     "text": [
      "Wall time: 2min 59s\n"
     ]
    }
   ],
   "source": [
    "%%time\n",
    "X_tokenized = tokenize_reviews(X)"
   ]
  },
  {
   "cell_type": "markdown",
   "metadata": {},
   "source": [
    "Spelling correction:"
   ]
  },
  {
   "cell_type": "code",
   "execution_count": 24,
   "metadata": {},
   "outputs": [],
   "source": [
    "def fix_spelling_mistakes(reviews, dist=1):\n",
    "    spell = SpellChecker(distance=dist)\n",
    "    reviews_with_right_spell = []\n",
    "    for review in reviews:\n",
    "        corrected_review = [spell.correction(word) for word in review]\n",
    "        reviews_with_right_spell.append(corrected_review)\n",
    "    return reviews_with_right_spell"
   ]
  },
  {
   "cell_type": "code",
   "execution_count": 25,
   "metadata": {},
   "outputs": [
    {
     "name": "stdout",
     "output_type": "stream",
     "text": [
      "Wall time: 15min 12s\n"
     ]
    }
   ],
   "source": [
    "%%time\n",
    "X_spellchecked = fix_spelling_mistakes(X_tokenized)"
   ]
  },
  {
   "cell_type": "markdown",
   "metadata": {},
   "source": [
    "Stop words removal:"
   ]
  },
  {
   "cell_type": "code",
   "execution_count": 26,
   "metadata": {},
   "outputs": [
    {
     "name": "stdout",
     "output_type": "stream",
     "text": [
      "Wall time: 44.6 s\n"
     ]
    }
   ],
   "source": [
    "%%time\n",
    "X_noStopWords = []\n",
    "for review in X_spellchecked:\n",
    "        cleaned_review = [word for word in review if word not in prep_stopws]\n",
    "        X_noStopWords.append(cleaned_review)"
   ]
  },
  {
   "cell_type": "code",
   "execution_count": 27,
   "metadata": {},
   "outputs": [],
   "source": [
    "from nltk.stem import PorterStemmer, LancasterStemmer"
   ]
  },
  {
   "cell_type": "code",
   "execution_count": 28,
   "metadata": {},
   "outputs": [],
   "source": [
    "def stem_reviews(reviews, stemmer_name=\"Porter\"):\n",
    "    if stemmer_name == \"Porter\":\n",
    "        stemmer = PorterStemmer()\n",
    "    elif stemmer_name == \"Lancaster\":\n",
    "        stemmer = LancasterStemmer()\n",
    "    else:\n",
    "        raise SystemError\n",
    "    stemmed_reviews = []\n",
    "    for review in reviews:\n",
    "        stemmed_reviews.append([stemmer.stem(word) for word in review])\n",
    "    return stemmed_reviews"
   ]
  },
  {
   "cell_type": "code",
   "execution_count": 29,
   "metadata": {},
   "outputs": [
    {
     "name": "stdout",
     "output_type": "stream",
     "text": [
      "Wall time: 5min 56s\n"
     ]
    }
   ],
   "source": [
    "%%time\n",
    "X_Porter = stem_reviews(X_noStopWords, stemmer_name = \"Porter\")"
   ]
  },
  {
   "cell_type": "code",
   "execution_count": 30,
   "metadata": {},
   "outputs": [
    {
     "name": "stdout",
     "output_type": "stream",
     "text": [
      "Wall time: 4min 59s\n"
     ]
    }
   ],
   "source": [
    "%%time\n",
    "X_Lancaster = stem_reviews(X_noStopWords, stemmer_name = \"Lancaster\")"
   ]
  },
  {
   "cell_type": "markdown",
   "metadata": {},
   "source": [
    "### PyStemmer (needs Visual C++ installed)"
   ]
  },
  {
   "cell_type": "markdown",
   "metadata": {},
   "source": [
    "Definition of the class StemmedTdidfVectorized.\n",
    "\n",
    "- `sklearn`'s `TfidfVectorizer` takes care of tokenization, stop-word removal, vectorization\n",
    "- `pystemmer` takes care of stemming."
   ]
  },
  {
   "cell_type": "code",
   "execution_count": 31,
   "metadata": {},
   "outputs": [],
   "source": [
    "import Stemmer\n",
    "english_stemmer = Stemmer.Stemmer('en')"
   ]
  },
  {
   "cell_type": "code",
   "execution_count": 32,
   "metadata": {},
   "outputs": [],
   "source": [
    "class StemmedTfidfVectorizer(TfidfVectorizer):\n",
    "    def build_analyzer(self):\n",
    "        analyzer = super(TfidfVectorizer, self).build_analyzer()\n",
    "        return lambda doc: english_stemmer.stemWords(analyzer(doc))"
   ]
  },
  {
   "cell_type": "markdown",
   "metadata": {},
   "source": [
    "## Train-test split"
   ]
  },
  {
   "cell_type": "code",
   "execution_count": 33,
   "metadata": {},
   "outputs": [],
   "source": [
    "from sklearn.model_selection import train_test_split"
   ]
  },
  {
   "cell_type": "markdown",
   "metadata": {},
   "source": [
    "#### NLTK"
   ]
  },
  {
   "cell_type": "markdown",
   "metadata": {},
   "source": [
    "Here we are train/test splitting the set of reviews that is already tokenized and stemmed, to be passed to TfidfVectorizer for representation."
   ]
  },
  {
   "cell_type": "code",
   "execution_count": 34,
   "metadata": {},
   "outputs": [],
   "source": [
    "X_train_Porter, X_test_Porter, y_train, y_test = train_test_split(X_Porter, y,\n",
    "                                                                  test_size=0.33, random_state=42)\n",
    "X_train_Lancaster, X_test_Lancaster, y_train, y_test = train_test_split(X_Lancaster, y,\n",
    "                                                                        test_size=0.33, random_state=42)"
   ]
  },
  {
   "cell_type": "markdown",
   "metadata": {},
   "source": [
    "#### Pystemmer"
   ]
  },
  {
   "cell_type": "markdown",
   "metadata": {},
   "source": [
    "Here we are train/test splitting the preprocessed set of reviews to be passed to `StemmedTfidfVectorizer` for tokenization+stemming+representation."
   ]
  },
  {
   "cell_type": "code",
   "execution_count": 35,
   "metadata": {},
   "outputs": [],
   "source": [
    "X_train_pystemmer, X_test_pystemmer, y_train, y_test = train_test_split(X, y,\n",
    "                                                                  test_size=0.33, random_state=42)"
   ]
  },
  {
   "cell_type": "markdown",
   "metadata": {},
   "source": [
    "## Text Representation"
   ]
  },
  {
   "cell_type": "markdown",
   "metadata": {},
   "source": [
    "#### NLTK"
   ]
  },
  {
   "cell_type": "code",
   "execution_count": 36,
   "metadata": {},
   "outputs": [],
   "source": [
    "def rebuild_reviews(reviews):\n",
    "    rebuilt_reviews = []\n",
    "    for review in reviews:\n",
    "        rebuilt_reviews.append(\" \".join(review))\n",
    "    return rebuilt_reviews"
   ]
  },
  {
   "cell_type": "code",
   "execution_count": 37,
   "metadata": {},
   "outputs": [],
   "source": [
    "X_train_Porter = rebuild_reviews(X_train_Porter)\n",
    "X_test_Porter = rebuild_reviews(X_test_Porter)\n",
    "X_train_Lancaster = rebuild_reviews(X_train_Lancaster)\n",
    "X_test_Lancaster = rebuild_reviews(X_test_Lancaster)"
   ]
  },
  {
   "cell_type": "code",
   "execution_count": 38,
   "metadata": {},
   "outputs": [
    {
     "name": "stdout",
     "output_type": "stream",
     "text": [
      "Wall time: 40.1 s\n"
     ]
    }
   ],
   "source": [
    "%%time\n",
    "tfidf_vect_Porter = TfidfVectorizer(min_df= 5, max_features = 50000, ngram_range=(1,2))\n",
    "X_train_tfidf_Porter = tfidf_vect_Porter.fit_transform(X_train_Porter)"
   ]
  },
  {
   "cell_type": "code",
   "execution_count": 39,
   "metadata": {},
   "outputs": [
    {
     "name": "stdout",
     "output_type": "stream",
     "text": [
      "Wall time: 10.7 s\n"
     ]
    }
   ],
   "source": [
    "%%time\n",
    "X_test_tfidf_Porter = tfidf_vect_Porter.transform(X_test_Porter)"
   ]
  },
  {
   "cell_type": "code",
   "execution_count": 40,
   "metadata": {},
   "outputs": [
    {
     "name": "stdout",
     "output_type": "stream",
     "text": [
      "Wall time: 38.8 s\n"
     ]
    }
   ],
   "source": [
    "%%time\n",
    "tfidf_vect_Lancaster = TfidfVectorizer(min_df= 5, max_features = 50000, ngram_range=(1,2))\n",
    "X_train_tfidf_Lancaster = tfidf_vect_Lancaster.fit_transform(X_train_Lancaster)"
   ]
  },
  {
   "cell_type": "code",
   "execution_count": 41,
   "metadata": {},
   "outputs": [
    {
     "name": "stdout",
     "output_type": "stream",
     "text": [
      "Wall time: 10.7 s\n"
     ]
    }
   ],
   "source": [
    "%%time\n",
    "X_test_tfidf_Lancaster = tfidf_vect_Lancaster.transform(X_test_Lancaster)"
   ]
  },
  {
   "cell_type": "code",
   "execution_count": 42,
   "metadata": {},
   "outputs": [
    {
     "data": {
      "text/plain": [
       "['joblib_data/tfidf_vect_Lancaster.joblib']"
      ]
     },
     "execution_count": 42,
     "metadata": {},
     "output_type": "execute_result"
    }
   ],
   "source": [
    "dump(tfidf_vect_Porter, 'joblib_data/tfidf_vect_Porter.joblib')\n",
    "dump(tfidf_vect_Lancaster, 'joblib_data/tfidf_vect_Lancaster.joblib')"
   ]
  },
  {
   "cell_type": "markdown",
   "metadata": {},
   "source": [
    "#### Pystemmer"
   ]
  },
  {
   "cell_type": "code",
   "execution_count": 43,
   "metadata": {},
   "outputs": [
    {
     "name": "stdout",
     "output_type": "stream",
     "text": [
      "Wall time: 5min 21s\n"
     ]
    }
   ],
   "source": [
    "%%time\n",
    "spell = SpellChecker(distance=1)\n",
    "tfidf_vect_pystemmer = StemmedTfidfVectorizer(min_df= 5, max_features = 50000, ngram_range=(1,2),\n",
    "                                              preprocessor = spell.correction,\n",
    "                                              stop_words = prep_stopws)\n",
    "X_train_tfidf_pystemmer = tfidf_vect_pystemmer.fit_transform(X_train_pystemmer)"
   ]
  },
  {
   "cell_type": "code",
   "execution_count": 44,
   "metadata": {},
   "outputs": [
    {
     "name": "stdout",
     "output_type": "stream",
     "text": [
      "Wall time: 2min 23s\n"
     ]
    }
   ],
   "source": [
    "%%time\n",
    "X_test_tfidf_pystemmer = tfidf_vect_pystemmer.transform(X_test_pystemmer)"
   ]
  },
  {
   "cell_type": "code",
   "execution_count": 45,
   "metadata": {},
   "outputs": [
    {
     "data": {
      "text/plain": [
       "['joblib_data/tfidf_vect_pystemmer.joblib']"
      ]
     },
     "execution_count": 45,
     "metadata": {},
     "output_type": "execute_result"
    }
   ],
   "source": [
    "dump(tfidf_vect_pystemmer, 'joblib_data/tfidf_vect_pystemmer.joblib') "
   ]
  },
  {
   "cell_type": "code",
   "execution_count": 46,
   "metadata": {},
   "outputs": [],
   "source": [
    "beep()"
   ]
  },
  {
   "cell_type": "markdown",
   "metadata": {},
   "source": [
    "####  No stemming"
   ]
  },
  {
   "cell_type": "code",
   "execution_count": 47,
   "metadata": {},
   "outputs": [],
   "source": [
    "X_train_nostemmer, X_test_nostemmer, y_train, y_test = train_test_split(X, y,\n",
    "                                                                  test_size=0.33, random_state=42)"
   ]
  },
  {
   "cell_type": "code",
   "execution_count": 48,
   "metadata": {},
   "outputs": [
    {
     "name": "stdout",
     "output_type": "stream",
     "text": [
      "Wall time: 4min 17s\n"
     ]
    }
   ],
   "source": [
    "%%time\n",
    "spell = SpellChecker(distance=1)\n",
    "tfidf_vect_nostemmer = TfidfVectorizer(min_df= 5, max_features = 50000, ngram_range=(1,2),\n",
    "                                              preprocessor = spell.correction,\n",
    "                                              stop_words = prep_stopws)\n",
    "X_train_tfidf_nostemmer = tfidf_vect_nostemmer.fit_transform(X_train_nostemmer)"
   ]
  },
  {
   "cell_type": "code",
   "execution_count": 49,
   "metadata": {},
   "outputs": [
    {
     "name": "stdout",
     "output_type": "stream",
     "text": [
      "Wall time: 1min 52s\n"
     ]
    }
   ],
   "source": [
    "%%time\n",
    "X_test_tfidf_nostemmer = tfidf_vect_nostemmer.transform(X_test_nostemmer)"
   ]
  },
  {
   "cell_type": "code",
   "execution_count": 50,
   "metadata": {},
   "outputs": [
    {
     "data": {
      "text/plain": [
       "['joblib_data/tfidf_vect_nostemmer.joblib']"
      ]
     },
     "execution_count": 50,
     "metadata": {},
     "output_type": "execute_result"
    }
   ],
   "source": [
    "dump(tfidf_vect_nostemmer, 'joblib_data/tfidf_vect_nostemmer.joblib') "
   ]
  },
  {
   "cell_type": "code",
   "execution_count": 51,
   "metadata": {},
   "outputs": [],
   "source": [
    "beep()"
   ]
  },
  {
   "cell_type": "markdown",
   "metadata": {},
   "source": [
    "# Classification"
   ]
  },
  {
   "cell_type": "markdown",
   "metadata": {},
   "source": [
    "## NB Classifier"
   ]
  },
  {
   "cell_type": "code",
   "execution_count": 52,
   "metadata": {},
   "outputs": [],
   "source": [
    "from sklearn.naive_bayes import MultinomialNB\n",
    "from sklearn.metrics import precision_recall_curve, auc, confusion_matrix, f1_score, fbeta_score, precision_score, recall_score"
   ]
  },
  {
   "cell_type": "markdown",
   "metadata": {},
   "source": [
    "Accessory functions:"
   ]
  },
  {
   "cell_type": "code",
   "execution_count": 53,
   "metadata": {},
   "outputs": [],
   "source": [
    "def print_top_features(vectorizer, clf, n = 10):\n",
    "    fnames = vectorizer.get_feature_names()\n",
    "    top_pos = np.argsort(clf.coef_[0])[-n:]\n",
    "    top_pos = top_pos[::-1]\n",
    "    print(\"Most discriminative features:\\n\",\n",
    "          \", \".join(fnames[j] for j in top_pos))"
   ]
  },
  {
   "cell_type": "code",
   "execution_count": 55,
   "metadata": {},
   "outputs": [],
   "source": [
    "def score_model(clf, X_train, X_test, y_train, y_test, probabilities = True):\n",
    "    train_score = clf.score(X_train, y_train) # Train Accuracy\n",
    "    test_score = clf.score(X_test, y_test)    # Test Accuracy\n",
    "    \n",
    "    predictions = clf.predict(X_test)\n",
    "\n",
    "    prec = precision_score(y_test, predictions) # Precision\n",
    "    rec = recall_score(y_test, predictions) # Recall\n",
    "    f1 = f1_score(y_test, predictions) # F1\n",
    "    f2 = fbeta_score(y_test, predictions, 2) # F2\n",
    "    cm = confusion_matrix(y_test, predictions)\n",
    "    if probabilities:\n",
    "        proba = clf.predict_proba(X_test)\n",
    "\n",
    "        precision, recall, pr_thresholds = precision_recall_curve(y_test, proba[:,1])\n",
    "\n",
    "        auc_score = auc(recall, precision)\n",
    "\n",
    "        scores_strings = [\"Train Accuracy\", \"Test Accuracy\", \"Test Precision\",\n",
    "                          \"Test Recall\", \"F1\", \"F2\", \"P/R AUC\"]\n",
    "\n",
    "        scores = [train_score, test_score, prec, rec, f1, f2, auc_score]\n",
    "\n",
    "        print((\"{:20s} {:.5f}\\n\"*7)[:-1].format(*itertools.chain(*zip(scores_strings, scores))))\n",
    "\n",
    "        print(classification_report(y_test, predictions, digits=5))\n",
    "\n",
    "        plt.plot(recall, precision, label='Precision-Recall curve')\n",
    "        plt.xlabel('Recall')\n",
    "        plt.ylabel('Precision')\n",
    "        plt.ylim([0.0, 1.05])\n",
    "        plt.xlim([0.0, 1.0])\n",
    "        plt.title('Precision-Recall Curve: AUC=%0.2f' % auc_score)\n",
    "        plt.legend(loc=\"lower left\")\n",
    "        plt.show()\n",
    "    else:\n",
    "        scores_strings = [\"Train Accuracy\", \"Test Accuracy\", \"Test Precision\",\n",
    "                          \"Test Recall\", \"F1\", \"F2\"]\n",
    "\n",
    "        scores = [train_score, test_score, prec, rec, f1, f2]\n",
    "\n",
    "        print((\"{:20s} {:.5f}\\n\"*6)[:-1].format(*itertools.chain(*zip(scores_strings, scores))))\n",
    "\n",
    "        print(classification_report(y_test, predictions, digits=5))"
   ]
  },
  {
   "cell_type": "markdown",
   "metadata": {},
   "source": [
    "###  No Stemmer"
   ]
  },
  {
   "cell_type": "code",
   "execution_count": 56,
   "metadata": {},
   "outputs": [
    {
     "name": "stdout",
     "output_type": "stream",
     "text": [
      "Wall time: 219 ms\n"
     ]
    }
   ],
   "source": [
    "%%time\n",
    "clf = MultinomialNB()\n",
    "clf.fit(X_train_tfidf_nostemmer, y_train)"
   ]
  },
  {
   "cell_type": "code",
   "execution_count": 57,
   "metadata": {},
   "outputs": [
    {
     "name": "stdout",
     "output_type": "stream",
     "text": [
      "Most discriminative features:\n",
      " great, good, love, works, product, very, not, perfect, excellent, nice, like, price, well, fit, works great, easy, case, one, quality, great product, phone, use, best, game, very good, really, worked, awesome, buy, fits, time, perfectly, get, work, install, much, little, used, delicious, looks, good product, taste, better, described, recommend, bought, fast, expected, ok, thanks\n"
     ]
    }
   ],
   "source": [
    "print_top_features(tfidf_vect_nostemmer, clf, 50)"
   ]
  },
  {
   "cell_type": "code",
   "execution_count": 58,
   "metadata": {},
   "outputs": [
    {
     "name": "stdout",
     "output_type": "stream",
     "text": [
      "Wall time: 46.9 ms\n"
     ]
    }
   ],
   "source": [
    "%%time\n",
    "predictions = clf.predict(X_test_tfidf_nostemmer)"
   ]
  },
  {
   "cell_type": "code",
   "execution_count": 59,
   "metadata": {
    "scrolled": false
   },
   "outputs": [
    {
     "name": "stdout",
     "output_type": "stream",
     "text": [
      "Train Accuracy       0.85601\n",
      "Test Accuracy        0.84922\n",
      "Test Precision       0.86423\n",
      "Test Recall          0.82880\n",
      "F1                   0.84614\n",
      "F2                   0.83565\n",
      "P/R AUC              0.92169\n",
      "             precision    recall  f1-score   support\n",
      "\n",
      "      False    0.83539   0.86967   0.85219    164923\n",
      "       True    0.86423   0.82880   0.84614    165077\n",
      "\n",
      "avg / total    0.84982   0.84922   0.84916    330000\n",
      "\n"
     ]
    },
    {
     "data": {
      "image/png": "[encoded data removed]",
      "text/plain": [
       "<Figure size 432x288 with 1 Axes>"
      ]
     },
     "metadata": {},
     "output_type": "display_data"
    },
    {
     "name": "stdout",
     "output_type": "stream",
     "text": [
      "Wall time: 1.06 s\n"
     ]
    }
   ],
   "source": [
    "%%time\n",
    "score_model(clf, X_train_tfidf_nostemmer, X_test_tfidf_nostemmer, y_train, y_test)"
   ]
  },
  {
   "cell_type": "code",
   "execution_count": 60,
   "metadata": {},
   "outputs": [],
   "source": [
    "beep()"
   ]
  },
  {
   "cell_type": "code",
   "execution_count": 61,
   "metadata": {},
   "outputs": [
    {
     "data": {
      "text/plain": [
       "['joblib_data/clf_nb_nostemmer.joblib']"
      ]
     },
     "execution_count": 61,
     "metadata": {},
     "output_type": "execute_result"
    }
   ],
   "source": [
    "dump(clf, 'joblib_data/clf_nb_nostemmer.joblib') "
   ]
  },
  {
   "cell_type": "markdown",
   "metadata": {},
   "source": [
    "### NLTK"
   ]
  },
  {
   "cell_type": "markdown",
   "metadata": {},
   "source": [
    "#### Porter"
   ]
  },
  {
   "cell_type": "code",
   "execution_count": 62,
   "metadata": {},
   "outputs": [
    {
     "name": "stdout",
     "output_type": "stream",
     "text": [
      "Wall time: 271 ms\n"
     ]
    }
   ],
   "source": [
    "%%time\n",
    "clf = MultinomialNB()\n",
    "clf.fit(X_train_tfidf_Porter, y_train)"
   ]
  },
  {
   "cell_type": "code",
   "execution_count": 63,
   "metadata": {},
   "outputs": [
    {
     "name": "stdout",
     "output_type": "stream",
     "text": [
      "Most discriminative features:\n",
      " great, good, work, love, product, veri, not, fit, perfect, work great, excel, nice, use, like, price, well, case, phone, one, easi, look, great product, qualiti, game, instal, thank, tast, best, need, veri good, buy, time, get, awesom, realli, make, recommend, perfectli, expect, much, littl, good product, delici, describ, light, better, replac, fast, ok, bought\n"
     ]
    }
   ],
   "source": [
    "print_top_features(tfidf_vect_Porter, clf, 50)"
   ]
  },
  {
   "cell_type": "code",
   "execution_count": 64,
   "metadata": {},
   "outputs": [
    {
     "name": "stdout",
     "output_type": "stream",
     "text": [
      "Wall time: 78.1 ms\n"
     ]
    }
   ],
   "source": [
    "%%time\n",
    "predictions = clf.predict(X_test_tfidf_Porter)"
   ]
  },
  {
   "cell_type": "code",
   "execution_count": 65,
   "metadata": {
    "scrolled": false
   },
   "outputs": [
    {
     "name": "stdout",
     "output_type": "stream",
     "text": [
      "Train Accuracy       0.85311\n",
      "Test Accuracy        0.84598\n",
      "Test Precision       0.86120\n",
      "Test Recall          0.82508\n",
      "F1                   0.84275\n",
      "F2                   0.83206\n",
      "P/R AUC              0.92011\n",
      "             precision    recall  f1-score   support\n",
      "\n",
      "      False    0.83197   0.86690   0.84907    164923\n",
      "       True    0.86120   0.82508   0.84275    165077\n",
      "\n",
      "avg / total    0.84659   0.84598   0.84591    330000\n",
      "\n"
     ]
    },
    {
     "data": {
      "image/png": "[encoded data removed]",
      "text/plain": [
       "<Figure size 432x288 with 1 Axes>"
      ]
     },
     "metadata": {},
     "output_type": "display_data"
    },
    {
     "name": "stdout",
     "output_type": "stream",
     "text": [
      "Wall time: 1e+03 ms\n"
     ]
    }
   ],
   "source": [
    "%%time\n",
    "score_model(clf, X_train_tfidf_Porter, X_test_tfidf_Porter, y_train, y_test)"
   ]
  },
  {
   "cell_type": "code",
   "execution_count": 66,
   "metadata": {},
   "outputs": [
    {
     "data": {
      "text/plain": [
       "['joblib_data/clf_nb_porter.joblib']"
      ]
     },
     "execution_count": 66,
     "metadata": {},
     "output_type": "execute_result"
    }
   ],
   "source": [
    "dump(clf, 'joblib_data/clf_nb_porter.joblib') "
   ]
  },
  {
   "cell_type": "markdown",
   "metadata": {},
   "source": [
    "#### Lancaster"
   ]
  },
  {
   "cell_type": "code",
   "execution_count": 67,
   "metadata": {},
   "outputs": [
    {
     "name": "stdout",
     "output_type": "stream",
     "text": [
      "Wall time: 203 ms\n"
     ]
    }
   ],
   "source": [
    "%%time\n",
    "clf = MultinomialNB()\n",
    "clf.fit(X_train_tfidf_Lancaster, y_train)"
   ]
  },
  {
   "cell_type": "code",
   "execution_count": 68,
   "metadata": {},
   "outputs": [
    {
     "name": "stdout",
     "output_type": "stream",
     "text": [
      "Most discriminative features:\n",
      " gre, good, work, lov, perfect, produc, very, not, excel, fit, work gre, us, nic, lik, pric, wel, easy, cas, phon, on, look, gre produc, qual, gam, instal, thank, real, tast, best, nee, buy, very good, tim, get, awesom, protect, mak, recommend, expect, charg, much, light, littl, good produc, delicy, describ, fast, car, bet, ev\n"
     ]
    }
   ],
   "source": [
    "print_top_features(tfidf_vect_Lancaster, clf, 50)"
   ]
  },
  {
   "cell_type": "code",
   "execution_count": 69,
   "metadata": {},
   "outputs": [
    {
     "name": "stdout",
     "output_type": "stream",
     "text": [
      "Wall time: 62.5 ms\n"
     ]
    }
   ],
   "source": [
    "%%time\n",
    "predictions = clf.predict(X_test_tfidf_Lancaster)"
   ]
  },
  {
   "cell_type": "code",
   "execution_count": 70,
   "metadata": {
    "scrolled": false
   },
   "outputs": [
    {
     "name": "stdout",
     "output_type": "stream",
     "text": [
      "Train Accuracy       0.85204\n",
      "Test Accuracy        0.84457\n",
      "Test Precision       0.86029\n",
      "Test Recall          0.82293\n",
      "F1                   0.84119\n",
      "F2                   0.83014\n",
      "P/R AUC              0.91884\n",
      "             precision    recall  f1-score   support\n",
      "\n",
      "      False    0.83014   0.86623   0.84781    164923\n",
      "       True    0.86029   0.82293   0.84119    165077\n",
      "\n",
      "avg / total    0.84522   0.84457   0.84450    330000\n",
      "\n"
     ]
    },
    {
     "data": {
      "image/png": "[encoded data removed]",
      "text/plain": [
       "<Figure size 432x288 with 1 Axes>"
      ]
     },
     "metadata": {},
     "output_type": "display_data"
    },
    {
     "name": "stdout",
     "output_type": "stream",
     "text": [
      "Wall time: 1e+03 ms\n"
     ]
    }
   ],
   "source": [
    "%%time\n",
    "score_model(clf, X_train_tfidf_Lancaster, X_test_tfidf_Lancaster, y_train, y_test)"
   ]
  },
  {
   "cell_type": "code",
   "execution_count": 71,
   "metadata": {},
   "outputs": [
    {
     "data": {
      "text/plain": [
       "['joblib_data/clf_nb_lancaster.joblib']"
      ]
     },
     "execution_count": 71,
     "metadata": {},
     "output_type": "execute_result"
    }
   ],
   "source": [
    "dump(clf, 'joblib_data/clf_nb_lancaster.joblib') "
   ]
  },
  {
   "cell_type": "markdown",
   "metadata": {},
   "source": [
    "###  PyStemmer"
   ]
  },
  {
   "cell_type": "code",
   "execution_count": 72,
   "metadata": {},
   "outputs": [
    {
     "name": "stdout",
     "output_type": "stream",
     "text": [
      "Wall time: 203 ms\n"
     ]
    }
   ],
   "source": [
    "%%time\n",
    "clf = MultinomialNB()\n",
    "clf.fit(X_train_tfidf_pystemmer, y_train)"
   ]
  },
  {
   "cell_type": "code",
   "execution_count": 73,
   "metadata": {},
   "outputs": [
    {
     "name": "stdout",
     "output_type": "stream",
     "text": [
      "Most discriminative features:\n",
      " great, good, work, love, perfect, product, veri, not, fit, excel, nice, use, like, price, well, case, works great, one, easi, look, great product, qualiti, phone, game, instal, thank, tast, need, best, buy, time, very good, get, realli, awesom, make, recommend, flavor, expect, much, littl, light, good product, delici, describ, better, replac, fast, bought, ok\n"
     ]
    }
   ],
   "source": [
    "print_top_features(tfidf_vect_pystemmer, clf, 50)"
   ]
  },
  {
   "cell_type": "code",
   "execution_count": 74,
   "metadata": {},
   "outputs": [
    {
     "name": "stdout",
     "output_type": "stream",
     "text": [
      "Wall time: 46.9 ms\n"
     ]
    }
   ],
   "source": [
    "%%time\n",
    "predictions = clf.predict(X_test_tfidf_pystemmer)"
   ]
  },
  {
   "cell_type": "code",
   "execution_count": 75,
   "metadata": {
    "scrolled": false
   },
   "outputs": [
    {
     "name": "stdout",
     "output_type": "stream",
     "text": [
      "Train Accuracy       0.85411\n",
      "Test Accuracy        0.84679\n",
      "Test Precision       0.86221\n",
      "Test Recall          0.82568\n",
      "F1                   0.84355\n",
      "F2                   0.83273\n",
      "P/R AUC              0.92032\n",
      "             precision    recall  f1-score   support\n",
      "\n",
      "      False    0.83261   0.86793   0.84990    164923\n",
      "       True    0.86221   0.82568   0.84355    165077\n",
      "\n",
      "avg / total    0.84742   0.84679   0.84672    330000\n",
      "\n"
     ]
    },
    {
     "data": {
      "image/png": "[encoded data removed]",
      "text/plain": [
       "<Figure size 432x288 with 1 Axes>"
      ]
     },
     "metadata": {},
     "output_type": "display_data"
    },
    {
     "name": "stdout",
     "output_type": "stream",
     "text": [
      "Wall time: 1e+03 ms\n"
     ]
    }
   ],
   "source": [
    "%%time\n",
    "score_model(clf, X_train_tfidf_pystemmer, X_test_tfidf_pystemmer, y_train, y_test)"
   ]
  },
  {
   "cell_type": "code",
   "execution_count": 76,
   "metadata": {},
   "outputs": [
    {
     "data": {
      "text/plain": [
       "['joblib_data/clf_nb_pystemmer.joblib']"
      ]
     },
     "execution_count": 76,
     "metadata": {},
     "output_type": "execute_result"
    }
   ],
   "source": [
    "dump(clf, 'joblib_data/clf_nb_pystemmer.joblib') "
   ]
  },
  {
   "cell_type": "markdown",
   "metadata": {},
   "source": [
    "## Random forest"
   ]
  },
  {
   "cell_type": "code",
   "execution_count": 77,
   "metadata": {},
   "outputs": [],
   "source": [
    "from sklearn.ensemble import RandomForestClassifier"
   ]
  },
  {
   "cell_type": "markdown",
   "metadata": {},
   "source": [
    "### No stemmer"
   ]
  },
  {
   "cell_type": "code",
   "execution_count": 78,
   "metadata": {},
   "outputs": [
    {
     "name": "stdout",
     "output_type": "stream",
     "text": [
      "Wall time: 41min 58s\n"
     ]
    }
   ],
   "source": [
    "%%time\n",
    "clf = RandomForestClassifier(n_estimators=40, random_state=42, n_jobs=-1)\n",
    "clf.fit(X_train_tfidf_nostemmer, y_train)"
   ]
  },
  {
   "cell_type": "code",
   "execution_count": 79,
   "metadata": {},
   "outputs": [
    {
     "name": "stdout",
     "output_type": "stream",
     "text": [
      "Wall time: 6.37 s\n"
     ]
    }
   ],
   "source": [
    "%%time\n",
    "predictions = clf.predict(X_test_tfidf_nostemmer)"
   ]
  },
  {
   "cell_type": "code",
   "execution_count": 82,
   "metadata": {},
   "outputs": [
    {
     "name": "stdout",
     "output_type": "stream",
     "text": [
      "Train Accuracy       0.98463\n",
      "Test Accuracy        0.84545\n",
      "Test Precision       0.87829\n",
      "Test Recall          0.80220\n",
      "F1                   0.83852\n",
      "F2                   0.81634\n",
      "P/R AUC              0.92185\n",
      "             precision    recall  f1-score   support\n",
      "\n",
      "      False    0.81781   0.88874   0.85180    164923\n",
      "       True    0.87829   0.80220   0.83852    165077\n",
      "\n",
      "avg / total    0.84807   0.84545   0.84516    330000\n",
      "\n"
     ]
    },
    {
     "data": {
      "image/png": "[encoded data removed]",
      "text/plain": [
       "<Figure size 432x288 with 1 Axes>"
      ]
     },
     "metadata": {},
     "output_type": "display_data"
    },
    {
     "data": {
      "text/plain": [
       "['joblib_data/clf_random_forest_nostemmer.joblib']"
      ]
     },
     "execution_count": 82,
     "metadata": {},
     "output_type": "execute_result"
    }
   ],
   "source": [
    "score_model(clf, X_train_tfidf_nostemmer, X_test_tfidf_nostemmer, y_train, y_test)\n",
    "dump(clf, \"joblib_data/clf_random_forest_nostemmer.joblib\")"
   ]
  },
  {
   "cell_type": "markdown",
   "metadata": {},
   "source": [
    "### Porter"
   ]
  },
  {
   "cell_type": "code",
   "execution_count": 83,
   "metadata": {},
   "outputs": [
    {
     "name": "stdout",
     "output_type": "stream",
     "text": [
      "Wall time: 42min 27s\n"
     ]
    }
   ],
   "source": [
    "%%time\n",
    "clf = RandomForestClassifier(n_estimators=40, random_state=42, n_jobs=-1)\n",
    "clf.fit(X_train_tfidf_Porter, y_train)"
   ]
  },
  {
   "cell_type": "code",
   "execution_count": 84,
   "metadata": {},
   "outputs": [
    {
     "name": "stdout",
     "output_type": "stream",
     "text": [
      "Wall time: 6.09 s\n"
     ]
    }
   ],
   "source": [
    "%%time\n",
    "predictions = clf.predict(X_test_tfidf_Porter)"
   ]
  },
  {
   "cell_type": "code",
   "execution_count": 85,
   "metadata": {},
   "outputs": [
    {
     "name": "stdout",
     "output_type": "stream",
     "text": [
      "Train Accuracy       0.98455\n",
      "Test Accuracy        0.84542\n",
      "Test Precision       0.88152\n",
      "Test Recall          0.79828\n",
      "F1                   0.83784\n",
      "F2                   0.81365\n",
      "P/R AUC              0.92232\n",
      "             precision    recall  f1-score   support\n",
      "\n",
      "      False    0.81553   0.89260   0.85233    164923\n",
      "       True    0.88152   0.79828   0.83784    165077\n",
      "\n",
      "avg / total    0.84854   0.84542   0.84508    330000\n",
      "\n"
     ]
    },
    {
     "data": {
      "image/png": "[encoded data removed]",
      "text/plain": [
       "<Figure size 432x288 with 1 Axes>"
      ]
     },
     "metadata": {},
     "output_type": "display_data"
    },
    {
     "data": {
      "text/plain": [
       "['joblib_data/clf_random_forest_porter.joblib']"
      ]
     },
     "execution_count": 85,
     "metadata": {},
     "output_type": "execute_result"
    }
   ],
   "source": [
    "score_model(clf, X_train_tfidf_Porter, X_test_tfidf_Porter, y_train, y_test)\n",
    "dump(clf, \"joblib_data/clf_random_forest_porter.joblib\")"
   ]
  },
  {
   "cell_type": "markdown",
   "metadata": {},
   "source": [
    "### Lancaster"
   ]
  },
  {
   "cell_type": "code",
   "execution_count": 86,
   "metadata": {},
   "outputs": [
    {
     "name": "stdout",
     "output_type": "stream",
     "text": [
      "Wall time: 42min 38s\n"
     ]
    }
   ],
   "source": [
    "%%time\n",
    "clf = RandomForestClassifier(n_estimators=40, random_state=42, n_jobs=-1)\n",
    "clf.fit(X_train_tfidf_Lancaster, y_train)"
   ]
  },
  {
   "cell_type": "code",
   "execution_count": 87,
   "metadata": {},
   "outputs": [
    {
     "name": "stdout",
     "output_type": "stream",
     "text": [
      "Wall time: 5.95 s\n"
     ]
    }
   ],
   "source": [
    "%%time\n",
    "predictions = clf.predict(X_test_tfidf_Lancaster)"
   ]
  },
  {
   "cell_type": "code",
   "execution_count": 88,
   "metadata": {},
   "outputs": [
    {
     "name": "stdout",
     "output_type": "stream",
     "text": [
      "Train Accuracy       0.98454\n",
      "Test Accuracy        0.84452\n",
      "Test Precision       0.88293\n",
      "Test Recall          0.79453\n",
      "F1                   0.83640\n",
      "F2                   0.81077\n",
      "P/R AUC              0.92102\n",
      "             precision    recall  f1-score   support\n",
      "\n",
      "      False    0.81307   0.89456   0.85187    164923\n",
      "       True    0.88293   0.79453   0.83640    165077\n",
      "\n",
      "avg / total    0.84802   0.84452   0.84413    330000\n",
      "\n"
     ]
    },
    {
     "data": {
      "image/png": "[encoded data removed]",
      "text/plain": [
       "<Figure size 432x288 with 1 Axes>"
      ]
     },
     "metadata": {},
     "output_type": "display_data"
    },
    {
     "data": {
      "text/plain": [
       "['joblib_data/clf_random_forest_lancaster.joblib']"
      ]
     },
     "execution_count": 88,
     "metadata": {},
     "output_type": "execute_result"
    }
   ],
   "source": [
    "score_model(clf, X_train_tfidf_Lancaster, X_test_tfidf_Lancaster, y_train, y_test)\n",
    "dump(clf, \"joblib_data/clf_random_forest_lancaster.joblib\")"
   ]
  },
  {
   "cell_type": "markdown",
   "metadata": {},
   "source": [
    "### Pystemmer"
   ]
  },
  {
   "cell_type": "code",
   "execution_count": 89,
   "metadata": {},
   "outputs": [
    {
     "name": "stdout",
     "output_type": "stream",
     "text": [
      "Wall time: 41min 35s\n"
     ]
    }
   ],
   "source": [
    "%%time\n",
    "clf = RandomForestClassifier(n_estimators=40, random_state=42, n_jobs=-1)\n",
    "clf.fit(X_train_tfidf_pystemmer, y_train)"
   ]
  },
  {
   "cell_type": "code",
   "execution_count": 90,
   "metadata": {},
   "outputs": [
    {
     "name": "stdout",
     "output_type": "stream",
     "text": [
      "Wall time: 6.17 s\n"
     ]
    }
   ],
   "source": [
    "%%time\n",
    "predictions = clf.predict(X_test_tfidf_pystemmer)"
   ]
  },
  {
   "cell_type": "code",
   "execution_count": 91,
   "metadata": {},
   "outputs": [
    {
     "name": "stdout",
     "output_type": "stream",
     "text": [
      "Train Accuracy       0.98452\n",
      "Test Accuracy        0.84536\n",
      "Test Precision       0.88044\n",
      "Test Recall          0.79941\n",
      "F1                   0.83797\n",
      "F2                   0.81440\n",
      "P/R AUC              0.92237\n",
      "             precision    recall  f1-score   support\n",
      "\n",
      "      False    0.81616   0.89134   0.85210    164923\n",
      "       True    0.88044   0.79941   0.83797    165077\n",
      "\n",
      "avg / total    0.84832   0.84536   0.84503    330000\n",
      "\n"
     ]
    },
    {
     "data": {
      "image/png": "[encoded data removed]",
      "text/plain": [
       "<Figure size 432x288 with 1 Axes>"
      ]
     },
     "metadata": {},
     "output_type": "display_data"
    },
    {
     "data": {
      "text/plain": [
       "['joblib_data/clf_random_forest_pystemmer.joblib']"
      ]
     },
     "execution_count": 91,
     "metadata": {},
     "output_type": "execute_result"
    }
   ],
   "source": [
    "score_model(clf, X_train_tfidf_pystemmer, X_test_tfidf_pystemmer, y_train, y_test)\n",
    "dump(clf, \"joblib_data/clf_random_forest_pystemmer.joblib\")"
   ]
  },
  {
   "cell_type": "markdown",
   "metadata": {},
   "source": [
    "## TruncatedSVD\n",
    "The X_train vector has around 50k features: for speeding up the training phase it may be good to use dimensionality reduction methods. Their goal is to preserve \"expressive power\" while reducing dataset dimensionality.\n",
    "Because the TFIDF matrix is a sparse one, one of the best method for performing dimensionality reduction is \"TruncatedSVD\""
   ]
  },
  {
   "cell_type": "markdown",
   "metadata": {},
   "source": [
    "### No stemmer"
   ]
  },
  {
   "cell_type": "code",
   "execution_count": 92,
   "metadata": {},
   "outputs": [
    {
     "name": "stdout",
     "output_type": "stream",
     "text": [
      "Wall time: 1min 31s\n"
     ]
    }
   ],
   "source": [
    "%%time\n",
    "from sklearn.decomposition import TruncatedSVD\n",
    "tsvd = TruncatedSVD(n_components=200, random_state=42)\n",
    "X_train_tfidf_nostemmer_svd = tsvd.fit_transform(X_train_tfidf_nostemmer)\n",
    "X_test_tfidf_nostemmer_svd = tsvd.transform(X_test_tfidf_nostemmer)"
   ]
  },
  {
   "cell_type": "markdown",
   "metadata": {},
   "source": [
    "### Porter"
   ]
  },
  {
   "cell_type": "code",
   "execution_count": 93,
   "metadata": {},
   "outputs": [
    {
     "name": "stdout",
     "output_type": "stream",
     "text": [
      "Wall time: 1min 32s\n"
     ]
    }
   ],
   "source": [
    "%%time\n",
    "tsvd = TruncatedSVD(n_components=200, random_state=42)\n",
    "X_train_tfidf_Porter_svd = tsvd.fit_transform(X_train_tfidf_Porter)\n",
    "X_test_tfidf_Porter_svd = tsvd.transform(X_test_tfidf_Porter)"
   ]
  },
  {
   "cell_type": "markdown",
   "metadata": {},
   "source": [
    "### Lancaster"
   ]
  },
  {
   "cell_type": "code",
   "execution_count": 94,
   "metadata": {},
   "outputs": [
    {
     "name": "stdout",
     "output_type": "stream",
     "text": [
      "Wall time: 1min 33s\n"
     ]
    }
   ],
   "source": [
    "%%time\n",
    "tsvd = TruncatedSVD(n_components=200, random_state=42)\n",
    "X_train_tfidf_Lancaster_svd = tsvd.fit_transform(X_train_tfidf_Lancaster)\n",
    "X_test_tfidf_Lancaster_svd = tsvd.transform(X_test_tfidf_Lancaster)"
   ]
  },
  {
   "cell_type": "markdown",
   "metadata": {},
   "source": [
    "### Pystemmer"
   ]
  },
  {
   "cell_type": "code",
   "execution_count": 95,
   "metadata": {},
   "outputs": [
    {
     "name": "stdout",
     "output_type": "stream",
     "text": [
      "Wall time: 1min 31s\n"
     ]
    }
   ],
   "source": [
    "%%time\n",
    "tsvd = TruncatedSVD(n_components=200, random_state=42)\n",
    "X_train_tfidf_pystemmer_svd = tsvd.fit_transform(X_train_tfidf_pystemmer)\n",
    "X_test_tfidf_pystemmer_svd = tsvd.transform(X_test_tfidf_pystemmer)"
   ]
  },
  {
   "cell_type": "markdown",
   "metadata": {},
   "source": [
    "#### Store SVD-transformed dataset"
   ]
  },
  {
   "cell_type": "code",
   "execution_count": 96,
   "metadata": {},
   "outputs": [
    {
     "data": {
      "text/plain": [
       "['joblib_data/X_test_tfidf_nostemmer_svd.joblib']"
      ]
     },
     "execution_count": 96,
     "metadata": {},
     "output_type": "execute_result"
    }
   ],
   "source": [
    "dump(X_train_tfidf_nostemmer_svd, 'joblib_data/X_train_tfidf_nostemmer_svd.joblib')\n",
    "dump(X_test_tfidf_nostemmer_svd, 'joblib_data/X_test_tfidf_nostemmer_svd.joblib')"
   ]
  },
  {
   "cell_type": "code",
   "execution_count": 97,
   "metadata": {},
   "outputs": [
    {
     "data": {
      "text/plain": [
       "['joblib_data/X_test_tfidf_Porter_svd.joblib']"
      ]
     },
     "execution_count": 97,
     "metadata": {},
     "output_type": "execute_result"
    }
   ],
   "source": [
    "dump(X_train_tfidf_Porter_svd, 'joblib_data/X_train_tfidf_Porter_svd.joblib')\n",
    "dump(X_test_tfidf_Porter_svd, 'joblib_data/X_test_tfidf_Porter_svd.joblib')"
   ]
  },
  {
   "cell_type": "code",
   "execution_count": 98,
   "metadata": {},
   "outputs": [
    {
     "data": {
      "text/plain": [
       "['joblib_data/X_test_tfidf_Lancaster_svd.joblib']"
      ]
     },
     "execution_count": 98,
     "metadata": {},
     "output_type": "execute_result"
    }
   ],
   "source": [
    "dump(X_train_tfidf_Lancaster_svd, 'joblib_data/X_train_tfidf_Lancaster_svd.joblib')\n",
    "dump(X_test_tfidf_Lancaster_svd, 'joblib_data/X_test_tfidf_Lancaster_svd.joblib')"
   ]
  },
  {
   "cell_type": "code",
   "execution_count": 99,
   "metadata": {},
   "outputs": [
    {
     "data": {
      "text/plain": [
       "['joblib_data/X_test_tfidf_pystemmer_svd.joblib']"
      ]
     },
     "execution_count": 99,
     "metadata": {},
     "output_type": "execute_result"
    }
   ],
   "source": [
    "dump(X_train_tfidf_pystemmer_svd, 'joblib_data/X_train_tfidf_pystemmer_svd.joblib')\n",
    "dump(X_test_tfidf_pystemmer_svd, 'joblib_data/X_test_tfidf_pystemmer_svd.joblib')"
   ]
  },
  {
   "cell_type": "markdown",
   "metadata": {},
   "source": [
    "## Random Forest with TruncatedSVD Dataset"
   ]
  },
  {
   "cell_type": "markdown",
   "metadata": {},
   "source": [
    "### No stemmer"
   ]
  },
  {
   "cell_type": "code",
   "execution_count": 100,
   "metadata": {},
   "outputs": [
    {
     "name": "stdout",
     "output_type": "stream",
     "text": [
      "Wall time: 3min 5s\n"
     ]
    }
   ],
   "source": [
    "%%time\n",
    "clf = RandomForestClassifier(n_estimators=40, random_state=42, n_jobs=-1)\n",
    "clf.fit(X_train_tfidf_nostemmer_svd, y_train)"
   ]
  },
  {
   "cell_type": "code",
   "execution_count": 101,
   "metadata": {},
   "outputs": [
    {
     "name": "stdout",
     "output_type": "stream",
     "text": [
      "Wall time: 2.3 s\n"
     ]
    }
   ],
   "source": [
    "%%time\n",
    "predictions = clf.predict(X_test_tfidf_nostemmer_svd)"
   ]
  },
  {
   "cell_type": "code",
   "execution_count": 102,
   "metadata": {},
   "outputs": [
    {
     "name": "stdout",
     "output_type": "stream",
     "text": [
      "Train Accuracy       0.98464\n",
      "Test Accuracy        0.80865\n",
      "Test Precision       0.82979\n",
      "Test Recall          0.77681\n",
      "F1                   0.80243\n",
      "F2                   0.78686\n",
      "P/R AUC              0.88689\n",
      "             precision    recall  f1-score   support\n",
      "\n",
      "      False    0.79002   0.84051   0.81448    164923\n",
      "       True    0.82979   0.77681   0.80243    165077\n",
      "\n",
      "avg / total    0.80992   0.80865   0.80845    330000\n",
      "\n"
     ]
    },
    {
     "data": {
      "image/png": "[encoded data removed]",
      "text/plain": [
       "<Figure size 432x288 with 1 Axes>"
      ]
     },
     "metadata": {},
     "output_type": "display_data"
    },
    {
     "data": {
      "text/plain": [
       "['joblib_data/clf_random_forest_nostemmer_svd.joblib']"
      ]
     },
     "execution_count": 102,
     "metadata": {},
     "output_type": "execute_result"
    }
   ],
   "source": [
    "score_model(clf, X_train_tfidf_nostemmer_svd, X_test_tfidf_nostemmer_svd, y_train, y_test)\n",
    "dump(clf, \"joblib_data/clf_random_forest_nostemmer_svd.joblib\")"
   ]
  },
  {
   "cell_type": "markdown",
   "metadata": {},
   "source": [
    "### Porter"
   ]
  },
  {
   "cell_type": "code",
   "execution_count": 103,
   "metadata": {},
   "outputs": [
    {
     "name": "stdout",
     "output_type": "stream",
     "text": [
      "Wall time: 3min 9s\n"
     ]
    }
   ],
   "source": [
    "%%time\n",
    "clf = RandomForestClassifier(n_estimators=40, random_state=42, n_jobs=-1)\n",
    "clf.fit(X_train_tfidf_Porter_svd, y_train)"
   ]
  },
  {
   "cell_type": "code",
   "execution_count": 104,
   "metadata": {},
   "outputs": [
    {
     "name": "stdout",
     "output_type": "stream",
     "text": [
      "Wall time: 2.25 s\n"
     ]
    }
   ],
   "source": [
    "%%time\n",
    "predictions = clf.predict(X_test_tfidf_Porter_svd)"
   ]
  },
  {
   "cell_type": "code",
   "execution_count": 105,
   "metadata": {},
   "outputs": [
    {
     "name": "stdout",
     "output_type": "stream",
     "text": [
      "Train Accuracy       0.98458\n",
      "Test Accuracy        0.80826\n",
      "Test Precision       0.83311\n",
      "Test Recall          0.77119\n",
      "F1                   0.80096\n",
      "F2                   0.78283\n",
      "P/R AUC              0.88622\n",
      "             precision    recall  f1-score   support\n",
      "\n",
      "      False    0.78684   0.84537   0.81505    164923\n",
      "       True    0.83311   0.77119   0.80096    165077\n",
      "\n",
      "avg / total    0.80998   0.80826   0.80800    330000\n",
      "\n"
     ]
    },
    {
     "data": {
      "image/png": "[encoded data removed]",
      "text/plain": [
       "<Figure size 432x288 with 1 Axes>"
      ]
     },
     "metadata": {},
     "output_type": "display_data"
    },
    {
     "data": {
      "text/plain": [
       "['joblib_data/clf_random_forest_porter_svd.joblib']"
      ]
     },
     "execution_count": 105,
     "metadata": {},
     "output_type": "execute_result"
    }
   ],
   "source": [
    "score_model(clf, X_train_tfidf_Porter_svd, X_test_tfidf_Porter_svd, y_train, y_test)\n",
    "dump(clf, \"joblib_data/clf_random_forest_porter_svd.joblib\")"
   ]
  },
  {
   "cell_type": "markdown",
   "metadata": {},
   "source": [
    "### Lancaster"
   ]
  },
  {
   "cell_type": "code",
   "execution_count": 106,
   "metadata": {},
   "outputs": [
    {
     "name": "stdout",
     "output_type": "stream",
     "text": [
      "Wall time: 3min 5s\n"
     ]
    }
   ],
   "source": [
    "%%time\n",
    "clf = RandomForestClassifier(n_estimators=40, random_state=42, n_jobs=-1)\n",
    "clf.fit(X_train_tfidf_Lancaster_svd, y_train)"
   ]
  },
  {
   "cell_type": "code",
   "execution_count": 107,
   "metadata": {},
   "outputs": [
    {
     "name": "stdout",
     "output_type": "stream",
     "text": [
      "Wall time: 2.28 s\n"
     ]
    }
   ],
   "source": [
    "%%time\n",
    "predictions = clf.predict(X_test_tfidf_Lancaster_svd)"
   ]
  },
  {
   "cell_type": "code",
   "execution_count": 108,
   "metadata": {},
   "outputs": [
    {
     "name": "stdout",
     "output_type": "stream",
     "text": [
      "Train Accuracy       0.98455\n",
      "Test Accuracy        0.80651\n",
      "Test Precision       0.83221\n",
      "Test Recall          0.76806\n",
      "F1                   0.79885\n",
      "F2                   0.78009\n",
      "P/R AUC              0.88510\n",
      "             precision    recall  f1-score   support\n",
      "\n",
      "      False    0.78447   0.84500   0.81361    164923\n",
      "       True    0.83221   0.76806   0.79885    165077\n",
      "\n",
      "avg / total    0.80835   0.80651   0.80623    330000\n",
      "\n"
     ]
    },
    {
     "data": {
      "image/png": "[encoded data removed]",
      "text/plain": [
       "<Figure size 432x288 with 1 Axes>"
      ]
     },
     "metadata": {},
     "output_type": "display_data"
    },
    {
     "data": {
      "text/plain": [
       "['joblib_data/clf_random_forest_lancaster_svd.joblib']"
      ]
     },
     "execution_count": 108,
     "metadata": {},
     "output_type": "execute_result"
    }
   ],
   "source": [
    "score_model(clf, X_train_tfidf_Lancaster_svd, X_test_tfidf_Lancaster_svd, y_train, y_test)\n",
    "dump(clf, \"joblib_data/clf_random_forest_lancaster_svd.joblib\")"
   ]
  },
  {
   "cell_type": "markdown",
   "metadata": {},
   "source": [
    "### Pystemmer"
   ]
  },
  {
   "cell_type": "code",
   "execution_count": 109,
   "metadata": {},
   "outputs": [
    {
     "name": "stdout",
     "output_type": "stream",
     "text": [
      "Wall time: 3min 6s\n"
     ]
    }
   ],
   "source": [
    "%%time\n",
    "clf = RandomForestClassifier(n_estimators=40, random_state=42, n_jobs=-1)\n",
    "clf.fit(X_train_tfidf_pystemmer_svd, y_train)"
   ]
  },
  {
   "cell_type": "code",
   "execution_count": 110,
   "metadata": {},
   "outputs": [
    {
     "name": "stdout",
     "output_type": "stream",
     "text": [
      "Wall time: 2.3 s\n"
     ]
    }
   ],
   "source": [
    "%%time\n",
    "predictions = clf.predict(X_test_tfidf_pystemmer_svd)"
   ]
  },
  {
   "cell_type": "code",
   "execution_count": 111,
   "metadata": {},
   "outputs": [
    {
     "name": "stdout",
     "output_type": "stream",
     "text": [
      "Train Accuracy       0.98454\n",
      "Test Accuracy        0.80728\n",
      "Test Precision       0.83103\n",
      "Test Recall          0.77163\n",
      "F1                   0.80023\n",
      "F2                   0.78282\n",
      "P/R AUC              0.88648\n",
      "             precision    recall  f1-score   support\n",
      "\n",
      "      False    0.78668   0.84296   0.81384    164923\n",
      "       True    0.83103   0.77163   0.80023    165077\n",
      "\n",
      "avg / total    0.80886   0.80728   0.80703    330000\n",
      "\n"
     ]
    },
    {
     "data": {
      "image/png": "[encoded data removed]",
      "text/plain": [
       "<Figure size 432x288 with 1 Axes>"
      ]
     },
     "metadata": {},
     "output_type": "display_data"
    },
    {
     "data": {
      "text/plain": [
       "['joblib_data/clf_random_forest_pystemmer_svd.joblib']"
      ]
     },
     "execution_count": 111,
     "metadata": {},
     "output_type": "execute_result"
    }
   ],
   "source": [
    "score_model(clf, X_train_tfidf_pystemmer_svd, X_test_tfidf_pystemmer_svd, y_train, y_test)\n",
    "dump(clf, \"joblib_data/clf_random_forest_pystemmer_svd.joblib\")"
   ]
  },
  {
   "cell_type": "markdown",
   "metadata": {},
   "source": [
    "## LinearSVC"
   ]
  },
  {
   "cell_type": "code",
   "execution_count": 112,
   "metadata": {},
   "outputs": [],
   "source": [
    "from sklearn import svm"
   ]
  },
  {
   "cell_type": "markdown",
   "metadata": {},
   "source": [
    "### No_stemmer"
   ]
  },
  {
   "cell_type": "code",
   "execution_count": 113,
   "metadata": {},
   "outputs": [
    {
     "name": "stdout",
     "output_type": "stream",
     "text": [
      "Wall time: 5min 29s\n"
     ]
    }
   ],
   "source": [
    "%%time\n",
    "clf = svm.LinearSVC(random_state=42)\n",
    "clf.fit(X_train_tfidf_nostemmer_svd, y_train)"
   ]
  },
  {
   "cell_type": "code",
   "execution_count": 114,
   "metadata": {},
   "outputs": [
    {
     "name": "stdout",
     "output_type": "stream",
     "text": [
      "Wall time: 125 ms\n"
     ]
    }
   ],
   "source": [
    "%%time\n",
    "predictions = clf.predict(X_test_tfidf_nostemmer_svd)"
   ]
  },
  {
   "cell_type": "code",
   "execution_count": 115,
   "metadata": {},
   "outputs": [
    {
     "name": "stdout",
     "output_type": "stream",
     "text": [
      "Train Accuracy       0.81417\n",
      "Test Accuracy        0.81442\n",
      "Test Precision       0.82533\n",
      "Test Recall          0.79786\n",
      "F1                   0.81136\n",
      "F2                   0.80321\n",
      "             precision    recall  f1-score   support\n",
      "\n",
      "      False    0.80419   0.83099   0.81737    164923\n",
      "       True    0.82533   0.79786   0.81136    165077\n",
      "\n",
      "avg / total    0.81477   0.81442   0.81437    330000\n",
      "\n"
     ]
    },
    {
     "data": {
      "text/plain": [
       "['joblib_data/clf_linearsvc_nostemmer_svd.joblib']"
      ]
     },
     "execution_count": 115,
     "metadata": {},
     "output_type": "execute_result"
    }
   ],
   "source": [
    "score_model(clf, X_train_tfidf_nostemmer_svd, X_test_tfidf_nostemmer_svd, y_train, y_test, probabilities=False)\n",
    "dump(clf, \"joblib_data/clf_linearsvc_nostemmer_svd.joblib\")"
   ]
  },
  {
   "cell_type": "markdown",
   "metadata": {},
   "source": [
    "### Porter"
   ]
  },
  {
   "cell_type": "code",
   "execution_count": 116,
   "metadata": {},
   "outputs": [
    {
     "name": "stdout",
     "output_type": "stream",
     "text": [
      "Wall time: 4min 17s\n"
     ]
    }
   ],
   "source": [
    "%%time\n",
    "clf = svm.LinearSVC(random_state=42)\n",
    "clf.fit(X_train_tfidf_Porter_svd, y_train)"
   ]
  },
  {
   "cell_type": "code",
   "execution_count": 117,
   "metadata": {},
   "outputs": [
    {
     "name": "stdout",
     "output_type": "stream",
     "text": [
      "Wall time: 125 ms\n"
     ]
    }
   ],
   "source": [
    "%%time\n",
    "predictions = clf.predict(X_test_tfidf_Porter_svd)"
   ]
  },
  {
   "cell_type": "code",
   "execution_count": 118,
   "metadata": {},
   "outputs": [
    {
     "name": "stdout",
     "output_type": "stream",
     "text": [
      "Train Accuracy       0.81397\n",
      "Test Accuracy        0.81379\n",
      "Test Precision       0.82199\n",
      "Test Recall          0.80129\n",
      "F1                   0.81151\n",
      "F2                   0.80535\n",
      "             precision    recall  f1-score   support\n",
      "\n",
      "      False    0.80600   0.82631   0.81603    164923\n",
      "       True    0.82199   0.80129   0.81151    165077\n",
      "\n",
      "avg / total    0.81400   0.81379   0.81377    330000\n",
      "\n"
     ]
    },
    {
     "data": {
      "text/plain": [
       "['joblib_data/clf_linearsvc_porter_svd.joblib']"
      ]
     },
     "execution_count": 118,
     "metadata": {},
     "output_type": "execute_result"
    }
   ],
   "source": [
    "score_model(clf, X_train_tfidf_Porter_svd, X_test_tfidf_Porter_svd, y_train, y_test, probabilities=False)\n",
    "dump(clf, \"joblib_data/clf_linearsvc_porter_svd.joblib\")"
   ]
  },
  {
   "cell_type": "markdown",
   "metadata": {},
   "source": [
    "### Lancaster"
   ]
  },
  {
   "cell_type": "code",
   "execution_count": 119,
   "metadata": {},
   "outputs": [
    {
     "name": "stdout",
     "output_type": "stream",
     "text": [
      "Wall time: 4min 34s\n"
     ]
    }
   ],
   "source": [
    "%%time\n",
    "clf = svm.LinearSVC(random_state=42)\n",
    "clf.fit(X_train_tfidf_Lancaster_svd, y_train)"
   ]
  },
  {
   "cell_type": "code",
   "execution_count": 120,
   "metadata": {},
   "outputs": [
    {
     "name": "stdout",
     "output_type": "stream",
     "text": [
      "Wall time: 125 ms\n"
     ]
    }
   ],
   "source": [
    "%%time\n",
    "predictions = clf.predict(X_test_tfidf_Lancaster_svd)"
   ]
  },
  {
   "cell_type": "code",
   "execution_count": 121,
   "metadata": {},
   "outputs": [
    {
     "name": "stdout",
     "output_type": "stream",
     "text": [
      "Train Accuracy       0.81078\n",
      "Test Accuracy        0.81085\n",
      "Test Precision       0.81992\n",
      "Test Recall          0.79688\n",
      "F1                   0.80824\n",
      "F2                   0.80139\n",
      "             precision    recall  f1-score   support\n",
      "\n",
      "      False    0.80226   0.82482   0.81338    164923\n",
      "       True    0.81992   0.79688   0.80824    165077\n",
      "\n",
      "avg / total    0.81109   0.81085   0.81081    330000\n",
      "\n"
     ]
    },
    {
     "data": {
      "text/plain": [
       "['joblib_data/clf_linearsvc_lancaster_svd.joblib']"
      ]
     },
     "execution_count": 121,
     "metadata": {},
     "output_type": "execute_result"
    }
   ],
   "source": [
    "score_model(clf, X_train_tfidf_Lancaster_svd, X_test_tfidf_Lancaster_svd, y_train, y_test, probabilities=False)\n",
    "dump(clf, \"joblib_data/clf_linearsvc_lancaster_svd.joblib\")"
   ]
  },
  {
   "cell_type": "markdown",
   "metadata": {},
   "source": [
    "### Pystemmer"
   ]
  },
  {
   "cell_type": "code",
   "execution_count": 122,
   "metadata": {},
   "outputs": [
    {
     "name": "stdout",
     "output_type": "stream",
     "text": [
      "Wall time: 3min 59s\n"
     ]
    }
   ],
   "source": [
    "%%time\n",
    "clf = svm.LinearSVC(random_state=42)\n",
    "clf.fit(X_train_tfidf_pystemmer_svd, y_train)"
   ]
  },
  {
   "cell_type": "code",
   "execution_count": 123,
   "metadata": {},
   "outputs": [
    {
     "name": "stdout",
     "output_type": "stream",
     "text": [
      "Wall time: 125 ms\n"
     ]
    }
   ],
   "source": [
    "%%time\n",
    "predictions = clf.predict(X_test_tfidf_pystemmer_svd)"
   ]
  },
  {
   "cell_type": "code",
   "execution_count": 124,
   "metadata": {},
   "outputs": [
    {
     "name": "stdout",
     "output_type": "stream",
     "text": [
      "Train Accuracy       0.81059\n",
      "Test Accuracy        0.81131\n",
      "Test Precision       0.82105\n",
      "Test Recall          0.79637\n",
      "F1                   0.80852\n",
      "F2                   0.80118\n",
      "             precision    recall  f1-score   support\n",
      "\n",
      "      False    0.80213   0.82626   0.81402    164923\n",
      "       True    0.82105   0.79637   0.80852    165077\n",
      "\n",
      "avg / total    0.81159   0.81131   0.81127    330000\n",
      "\n"
     ]
    },
    {
     "data": {
      "text/plain": [
       "['joblib_data/clf_linearsvc_pystemmer_svd.joblib']"
      ]
     },
     "execution_count": 124,
     "metadata": {},
     "output_type": "execute_result"
    }
   ],
   "source": [
    "score_model(clf, X_train_tfidf_pystemmer_svd, X_test_tfidf_pystemmer_svd, y_train, y_test, probabilities=False)\n",
    "dump(clf, \"joblib_data/clf_linearsvc_pystemmer_svd.joblib\")"
   ]
  },
  {
   "cell_type": "markdown",
   "metadata": {},
   "source": [
    "## SVC"
   ]
  },
  {
   "cell_type": "markdown",
   "metadata": {},
   "source": [
    "### No stemmer"
   ]
  },
  {
   "cell_type": "code",
   "execution_count": 125,
   "metadata": {},
   "outputs": [],
   "source": [
    "clf = svm.SVC(random_state=42, max_iter=500)"
   ]
  },
  {
   "cell_type": "code",
   "execution_count": null,
   "metadata": {},
   "outputs": [],
   "source": [
    "%%time\n",
    "clf.fit(X_train_tfidf_nostemmer_svd, y_train)"
   ]
  },
  {
   "cell_type": "code",
   "execution_count": null,
   "metadata": {},
   "outputs": [],
   "source": [
    "%%time\n",
    "predictions = clf.predict(X_test_tfidf_nostemmer_svd)"
   ]
  },
  {
   "cell_type": "code",
   "execution_count": null,
   "metadata": {},
   "outputs": [],
   "source": [
    "score_model(clf, X_train_tfidf_nostemmer_svd, X_test_tfidf_nostemmer_svd, y_train, y_test, probabilities=False)\n",
    "dump(clf, \"joblib_data/clf_svc_nostemmer_svd.joblib\")"
   ]
  },
  {
   "cell_type": "markdown",
   "metadata": {},
   "source": [
    "### Porter"
   ]
  },
  {
   "cell_type": "code",
   "execution_count": null,
   "metadata": {},
   "outputs": [],
   "source": [
    "clf = svm.SVC(random_state=42, max_iter=500)"
   ]
  },
  {
   "cell_type": "code",
   "execution_count": null,
   "metadata": {},
   "outputs": [],
   "source": [
    "%%time\n",
    "clf.fit(X_train_tfidf_Porter_svd, y_train)"
   ]
  },
  {
   "cell_type": "code",
   "execution_count": null,
   "metadata": {},
   "outputs": [],
   "source": [
    "%%time\n",
    "predictions = clf.predict(X_test_tfidf_Porter_svd)"
   ]
  },
  {
   "cell_type": "code",
   "execution_count": null,
   "metadata": {},
   "outputs": [],
   "source": [
    "score_model(clf, X_train_tfidf_Porter_svd, X_test_tfidf_Porter_svd, y_train, y_test, probabilities=False)\n",
    "dump(clf, \"joblib_data/clf_svc_porter_svd.joblib\")"
   ]
  },
  {
   "cell_type": "markdown",
   "metadata": {},
   "source": [
    "### Lancaster"
   ]
  },
  {
   "cell_type": "code",
   "execution_count": null,
   "metadata": {},
   "outputs": [],
   "source": [
    "clf = svm.SVC(random_state=42, max_iter=500)"
   ]
  },
  {
   "cell_type": "code",
   "execution_count": null,
   "metadata": {},
   "outputs": [],
   "source": [
    "%%time\n",
    "clf.fit(X_train_tfidf_Lancaster_svd, y_train)"
   ]
  },
  {
   "cell_type": "code",
   "execution_count": null,
   "metadata": {},
   "outputs": [],
   "source": [
    "%%time\n",
    "predictions = clf.predict(X_test_tfidf_Lancaster_svd)"
   ]
  },
  {
   "cell_type": "code",
   "execution_count": null,
   "metadata": {},
   "outputs": [],
   "source": [
    "score_model(clf, X_train_tfidf_Lancaster_svd, X_test_tfidf_Lancaster_svd, y_train, y_test, probabilities=False)\n",
    "dump(clf, \"joblib_data/clf_svc_lancaster_svd.joblib\")"
   ]
  },
  {
   "cell_type": "markdown",
   "metadata": {},
   "source": [
    "### Pystemmer"
   ]
  },
  {
   "cell_type": "code",
   "execution_count": null,
   "metadata": {},
   "outputs": [],
   "source": [
    "clf = svm.SVC(random_state=42, max_iter=500)"
   ]
  },
  {
   "cell_type": "code",
   "execution_count": null,
   "metadata": {},
   "outputs": [],
   "source": [
    "%%time\n",
    "clf.fit(X_train_tfidf_pystemmer_svd, y_train)"
   ]
  },
  {
   "cell_type": "code",
   "execution_count": null,
   "metadata": {},
   "outputs": [],
   "source": [
    "%%time\n",
    "predictions = clf.predict(X_test_tfidf_pystemmer_svd)"
   ]
  },
  {
   "cell_type": "code",
   "execution_count": null,
   "metadata": {},
   "outputs": [],
   "source": [
    "score_model(clf, X_train_tfidf_pystemmer_svd, X_test_tfidf_pystemmer_svd, y_train, y_test, probabilities=False)\n",
    "dump(clf, \"joblib_data/clf_svc_pystemmer_svd.joblib\")"
   ]
  },
  {
   "cell_type": "markdown",
   "metadata": {},
   "source": [
    "## Adaboost\n",
    "### 10 estimators"
   ]
  },
  {
   "cell_type": "code",
   "execution_count": null,
   "metadata": {},
   "outputs": [],
   "source": [
    "from sklearn.ensemble import AdaBoostClassifier"
   ]
  },
  {
   "cell_type": "code",
   "execution_count": null,
   "metadata": {},
   "outputs": [],
   "source": [
    "%%time\n",
    "clf = AdaBoostClassifier(n_estimators=10, random_state=0)\n",
    "clf.fit(X_train_tfidf_Porter_svd, y_train)"
   ]
  },
  {
   "cell_type": "code",
   "execution_count": null,
   "metadata": {},
   "outputs": [],
   "source": [
    "%%time\n",
    "predictions = clf.predict(X_test_tfidf_Porter_svd)\n",
    "score_model(clf, X_train_tfidf_Porter_svd, X_test_tfidf_Porter_svd, y_train, y_test)"
   ]
  },
  {
   "cell_type": "markdown",
   "metadata": {},
   "source": [
    "### 15 estimators"
   ]
  },
  {
   "cell_type": "code",
   "execution_count": null,
   "metadata": {},
   "outputs": [],
   "source": [
    "%%time\n",
    "clf = AdaBoostClassifier(n_estimators=15, random_state=0)\n",
    "clf.fit(X_train_tfidf_Porter_svd, y_train)"
   ]
  },
  {
   "cell_type": "code",
   "execution_count": null,
   "metadata": {},
   "outputs": [],
   "source": [
    "%%time\n",
    "predictions = clf.predict(X_test_tfidf_Porter_svd)\n",
    "score_model(clf, X_train_tfidf_Porter_svd, X_test_tfidf_Porter_svd, y_train, y_test)"
   ]
  },
  {
   "cell_type": "markdown",
   "metadata": {},
   "source": [
    "Increasing the number of estimators lead to an improvement in performances\n",
    "## 20 estimators"
   ]
  },
  {
   "cell_type": "code",
   "execution_count": null,
   "metadata": {},
   "outputs": [],
   "source": [
    "%%time\n",
    "clf = AdaBoostClassifier(n_estimators=20, random_state=0)\n",
    "clf.fit(X_train_tfidf_Porter_svd, y_train)"
   ]
  },
  {
   "cell_type": "code",
   "execution_count": null,
   "metadata": {},
   "outputs": [],
   "source": [
    "%%time\n",
    "predictions = clf.predict(X_test_tfidf_Porter_svd)\n",
    "score_model(clf, X_train_tfidf_Porter_svd, X_test_tfidf_Porter_svd, y_train, y_test)"
   ]
  },
  {
   "cell_type": "markdown",
   "metadata": {},
   "source": [
    "Performances are a bit better. Apparently the best configuration is the \"20 estimators\" one. Let's now build predictive models for all 4 representations."
   ]
  },
  {
   "cell_type": "markdown",
   "metadata": {},
   "source": [
    "## 20 Estimators\n",
    "### No stemming"
   ]
  },
  {
   "cell_type": "code",
   "execution_count": null,
   "metadata": {},
   "outputs": [],
   "source": [
    "%%time\n",
    "clf = AdaBoostClassifier(n_estimators=20, random_state=0)\n",
    "clf.fit(X_train_tfidf_nostemmer_svd, y_train)"
   ]
  },
  {
   "cell_type": "code",
   "execution_count": null,
   "metadata": {},
   "outputs": [],
   "source": [
    "%%time\n",
    "predictions = clf.predict(X_test_tfidf_nostemmer_svd)"
   ]
  },
  {
   "cell_type": "code",
   "execution_count": null,
   "metadata": {},
   "outputs": [],
   "source": [
    "score_model(clf, X_train_tfidf_nostemmer_svd, X_test_tfidf_nostemmer_svd, y_train, y_test)\n",
    "dump(clf, \"joblib_data/clf_adaboost_nostemmer_svd.joblib\")"
   ]
  },
  {
   "cell_type": "markdown",
   "metadata": {},
   "source": [
    "### Porter"
   ]
  },
  {
   "cell_type": "code",
   "execution_count": null,
   "metadata": {},
   "outputs": [],
   "source": [
    "%%time\n",
    "clf = AdaBoostClassifier(n_estimators=20, random_state=0)\n",
    "clf.fit(X_train_tfidf_Porter_svd, y_train)"
   ]
  },
  {
   "cell_type": "code",
   "execution_count": null,
   "metadata": {},
   "outputs": [],
   "source": [
    "%%time\n",
    "predictions = clf.predict(X_test_tfidf_Porter_svd)"
   ]
  },
  {
   "cell_type": "code",
   "execution_count": null,
   "metadata": {},
   "outputs": [],
   "source": [
    "score_model(clf, X_train_tfidf_Porter_svd, X_test_tfidf_Porter_svd, y_train, y_test)\n",
    "dump(clf, \"joblib_data/clf_adaboost_porter_svd.joblib\")"
   ]
  },
  {
   "cell_type": "markdown",
   "metadata": {},
   "source": [
    "### Lancaster"
   ]
  },
  {
   "cell_type": "code",
   "execution_count": null,
   "metadata": {},
   "outputs": [],
   "source": [
    "%%time\n",
    "clf = AdaBoostClassifier(n_estimators=20, random_state=0)\n",
    "clf.fit(X_train_tfidf_Lancaster_svd, y_train)"
   ]
  },
  {
   "cell_type": "code",
   "execution_count": null,
   "metadata": {},
   "outputs": [],
   "source": [
    "%%time\n",
    "predictions = clf.predict(X_test_tfidf_Lancaster_svd)"
   ]
  },
  {
   "cell_type": "code",
   "execution_count": null,
   "metadata": {},
   "outputs": [],
   "source": [
    "score_model(clf, X_train_tfidf_Lancaster_svd, X_test_tfidf_Lancaster_svd, y_train, y_test)\n",
    "dump(clf, \"joblib_data/clf_adaboost_Lancaster_svd.joblib\")"
   ]
  },
  {
   "cell_type": "markdown",
   "metadata": {},
   "source": [
    "### Pystemmer"
   ]
  },
  {
   "cell_type": "code",
   "execution_count": null,
   "metadata": {},
   "outputs": [],
   "source": [
    "%%time\n",
    "clf = AdaBoostClassifier(n_estimators=20, random_state=0)\n",
    "clf.fit(X_train_tfidf_pystemmer_svd, y_train)"
   ]
  },
  {
   "cell_type": "code",
   "execution_count": null,
   "metadata": {},
   "outputs": [],
   "source": [
    "%%time\n",
    "predictions = clf.predict(X_test_tfidf_pystemmer_svd)"
   ]
  },
  {
   "cell_type": "code",
   "execution_count": null,
   "metadata": {},
   "outputs": [],
   "source": [
    "score_model(clf, X_train_tfidf_pystemmer_svd, X_test_tfidf_pystemmer_svd, y_train, y_test)\n",
    "dump(clf, \"joblib_data/clf_adaboost_pystemmer_svd.joblib\")"
   ]
  },
  {
   "cell_type": "markdown",
   "metadata": {},
   "source": [
    "The best vectorizer was the 'No stemmer' one: because of GH constraints I will zip it."
   ]
  },
  {
   "cell_type": "code",
   "execution_count": null,
   "metadata": {},
   "outputs": [],
   "source": [
    "import gzip\n",
    "import shutil\n",
    "with open(\"joblib_data/tfidf_vect_nostemmer.joblib\", 'rb') as f_in, gzip.open(\"joblib_data/tfidf_vect_nostemmer.joblib.zip\", 'wb') as f_out:\n",
    "    shutil.copyfileobj(f_in, f_out)"
   ]
  },
  {
   "cell_type": "code",
   "execution_count": null,
   "metadata": {},
   "outputs": [],
   "source": []
  }
 ],
 "metadata": {
  "kernelspec": {
   "display_name": "Python 3",
   "language": "python",
   "name": "python3"
  },
  "language_info": {
   "codemirror_mode": {
    "name": "ipython",
    "version": 3
   },
   "file_extension": ".py",
   "mimetype": "text/x-python",
   "name": "python",
   "nbconvert_exporter": "python",
   "pygments_lexer": "ipython3",
   "version": "3.6.3"
  }
 },
 "nbformat": 4,
 "nbformat_minor": 2
}
