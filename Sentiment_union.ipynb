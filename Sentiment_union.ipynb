{
 "cells": [
  {
   "cell_type": "markdown",
   "metadata": {},
   "source": [
    "## Imports"
   ]
  },
  {
   "cell_type": "code",
   "execution_count": 1,
   "metadata": {},
   "outputs": [],
   "source": [
    "import itertools\n",
    "import matplotlib.pyplot as plt\n",
    "import nltk\n",
    "import numpy as np\n",
    "import pandas as pd\n",
    "import re\n",
    "from sklearn.metrics import classification_report"
   ]
  },
  {
   "cell_type": "code",
   "execution_count": 2,
   "metadata": {},
   "outputs": [],
   "source": [
    "import time\n",
    "import datetime"
   ]
  },
  {
   "cell_type": "code",
   "execution_count": 3,
   "metadata": {},
   "outputs": [],
   "source": [
    "import winsound\n",
    "def beep(reps=1, duration=500, freq=440, sleep=1):\n",
    "    for _ in range(reps - 1):\n",
    "        winsound.Beep(freq, duration)\n",
    "        time.sleep(sleep)\n",
    "    winsound.Beep(freq, duration)"
   ]
  },
  {
   "cell_type": "markdown",
   "metadata": {},
   "source": [
    "## Data"
   ]
  },
  {
   "cell_type": "code",
   "execution_count": 4,
   "metadata": {
    "scrolled": true
   },
   "outputs": [
    {
     "name": "stdout",
     "output_type": "stream",
     "text": [
      "Wall time: 13.9 s\n"
     ]
    },
    {
     "data": {
      "text/html": [
       "<div>\n",
       "<style scoped>\n",
       "    .dataframe tbody tr th:only-of-type {\n",
       "        vertical-align: middle;\n",
       "    }\n",
       "\n",
       "    .dataframe tbody tr th {\n",
       "        vertical-align: top;\n",
       "    }\n",
       "\n",
       "    .dataframe thead th {\n",
       "        text-align: right;\n",
       "    }\n",
       "</style>\n",
       "<table border=\"1\" class=\"dataframe\">\n",
       "  <thead>\n",
       "    <tr style=\"text-align: right;\">\n",
       "      <th></th>\n",
       "      <th>asin</th>\n",
       "      <th>image</th>\n",
       "      <th>overall</th>\n",
       "      <th>reviewText</th>\n",
       "      <th>reviewTime</th>\n",
       "      <th>reviewerID</th>\n",
       "      <th>reviewerName</th>\n",
       "      <th>style</th>\n",
       "      <th>summary</th>\n",
       "      <th>unixReviewTime</th>\n",
       "      <th>verified</th>\n",
       "      <th>vote</th>\n",
       "    </tr>\n",
       "  </thead>\n",
       "  <tbody>\n",
       "    <tr>\n",
       "      <th>0</th>\n",
       "      <td>7508492919</td>\n",
       "      <td>NaN</td>\n",
       "      <td>5</td>\n",
       "      <td>Looks even better in person. Be careful to not...</td>\n",
       "      <td>08 4, 2014</td>\n",
       "      <td>A24E3SXTC62LJI</td>\n",
       "      <td>Claudia Valdivia</td>\n",
       "      <td>{'Color:': ' Bling'}</td>\n",
       "      <td>Can't stop won't stop looking at it</td>\n",
       "      <td>1407110400</td>\n",
       "      <td>True</td>\n",
       "      <td>NaN</td>\n",
       "    </tr>\n",
       "    <tr>\n",
       "      <th>1</th>\n",
       "      <td>7508492919</td>\n",
       "      <td>NaN</td>\n",
       "      <td>5</td>\n",
       "      <td>When you don't want to spend a whole lot of ca...</td>\n",
       "      <td>02 12, 2014</td>\n",
       "      <td>A269FLZCB4GIPV</td>\n",
       "      <td>sarah ponce</td>\n",
       "      <td>NaN</td>\n",
       "      <td>1</td>\n",
       "      <td>1392163200</td>\n",
       "      <td>True</td>\n",
       "      <td>NaN</td>\n",
       "    </tr>\n",
       "    <tr>\n",
       "      <th>2</th>\n",
       "      <td>7508492919</td>\n",
       "      <td>NaN</td>\n",
       "      <td>3</td>\n",
       "      <td>so the case came on time, i love the design. I...</td>\n",
       "      <td>02 8, 2014</td>\n",
       "      <td>AB6CHQWHZW4TV</td>\n",
       "      <td>Kai</td>\n",
       "      <td>NaN</td>\n",
       "      <td>Its okay</td>\n",
       "      <td>1391817600</td>\n",
       "      <td>True</td>\n",
       "      <td>NaN</td>\n",
       "    </tr>\n",
       "    <tr>\n",
       "      <th>3</th>\n",
       "      <td>7508492919</td>\n",
       "      <td>NaN</td>\n",
       "      <td>2</td>\n",
       "      <td>DON'T CARE FOR IT.  GAVE IT AS A GIFT AND THEY...</td>\n",
       "      <td>02 4, 2014</td>\n",
       "      <td>A1M117A53LEI8</td>\n",
       "      <td>Sharon Williams</td>\n",
       "      <td>NaN</td>\n",
       "      <td>CASE</td>\n",
       "      <td>1391472000</td>\n",
       "      <td>True</td>\n",
       "      <td>NaN</td>\n",
       "    </tr>\n",
       "    <tr>\n",
       "      <th>4</th>\n",
       "      <td>7508492919</td>\n",
       "      <td>NaN</td>\n",
       "      <td>4</td>\n",
       "      <td>I liked it because it was cute, but the studs ...</td>\n",
       "      <td>02 3, 2014</td>\n",
       "      <td>A272DUT8M88ZS8</td>\n",
       "      <td>Bella Rodriguez</td>\n",
       "      <td>NaN</td>\n",
       "      <td>Cute!</td>\n",
       "      <td>1391385600</td>\n",
       "      <td>True</td>\n",
       "      <td>NaN</td>\n",
       "    </tr>\n",
       "  </tbody>\n",
       "</table>\n",
       "</div>"
      ],
      "text/plain": [
       "         asin image  overall  \\\n",
       "0  7508492919   NaN        5   \n",
       "1  7508492919   NaN        5   \n",
       "2  7508492919   NaN        3   \n",
       "3  7508492919   NaN        2   \n",
       "4  7508492919   NaN        4   \n",
       "\n",
       "                                          reviewText   reviewTime  \\\n",
       "0  Looks even better in person. Be careful to not...   08 4, 2014   \n",
       "1  When you don't want to spend a whole lot of ca...  02 12, 2014   \n",
       "2  so the case came on time, i love the design. I...   02 8, 2014   \n",
       "3  DON'T CARE FOR IT.  GAVE IT AS A GIFT AND THEY...   02 4, 2014   \n",
       "4  I liked it because it was cute, but the studs ...   02 3, 2014   \n",
       "\n",
       "       reviewerID      reviewerName                 style  \\\n",
       "0  A24E3SXTC62LJI  Claudia Valdivia  {'Color:': ' Bling'}   \n",
       "1  A269FLZCB4GIPV       sarah ponce                   NaN   \n",
       "2   AB6CHQWHZW4TV               Kai                   NaN   \n",
       "3   A1M117A53LEI8   Sharon Williams                   NaN   \n",
       "4  A272DUT8M88ZS8   Bella Rodriguez                   NaN   \n",
       "\n",
       "                               summary  unixReviewTime  verified vote  \n",
       "0  Can't stop won't stop looking at it      1407110400      True  NaN  \n",
       "1                                    1      1392163200      True  NaN  \n",
       "2                             Its okay      1391817600      True  NaN  \n",
       "3                                 CASE      1391472000      True  NaN  \n",
       "4                                Cute!      1391385600      True  NaN  "
      ]
     },
     "execution_count": 4,
     "metadata": {},
     "output_type": "execute_result"
    }
   ],
   "source": [
    "%%time\n",
    "data = \"Cell_Phones_and_Accessories_5.json.gz\"\n",
    "df = pd.read_json(data, lines = True, compression = \"gzip\")\n",
    "df.head()"
   ]
  },
  {
   "cell_type": "code",
   "execution_count": 5,
   "metadata": {},
   "outputs": [
    {
     "data": {
      "text/plain": [
       "(1128437, 12)"
      ]
     },
     "execution_count": 5,
     "metadata": {},
     "output_type": "execute_result"
    }
   ],
   "source": [
    "df.shape"
   ]
  },
  {
   "cell_type": "markdown",
   "metadata": {},
   "source": [
    "Remove rows with missing values from `reviewText`:"
   ]
  },
  {
   "cell_type": "code",
   "execution_count": 6,
   "metadata": {},
   "outputs": [],
   "source": [
    "df = df[df.reviewText.notnull()]"
   ]
  },
  {
   "cell_type": "code",
   "execution_count": 7,
   "metadata": {},
   "outputs": [
    {
     "data": {
      "text/plain": [
       "(1127672, 12)"
      ]
     },
     "execution_count": 7,
     "metadata": {},
     "output_type": "execute_result"
    }
   ],
   "source": [
    "df.shape"
   ]
  },
  {
   "cell_type": "markdown",
   "metadata": {},
   "source": [
    "See proportion of positive ($>3$) and critical ($\\leq 3$) reviews:"
   ]
  },
  {
   "cell_type": "code",
   "execution_count": 8,
   "metadata": {},
   "outputs": [],
   "source": [
    "df[\"positive\"] = df.overall > 3"
   ]
  },
  {
   "cell_type": "code",
   "execution_count": 9,
   "metadata": {},
   "outputs": [
    {
     "data": {
      "text/plain": [
       "positive\n",
       "False    236886\n",
       "True     890786\n",
       "dtype: int64"
      ]
     },
     "execution_count": 9,
     "metadata": {},
     "output_type": "execute_result"
    }
   ],
   "source": [
    "df.groupby(\"positive\").size()"
   ]
  },
  {
   "cell_type": "code",
   "execution_count": 10,
   "metadata": {
    "scrolled": true
   },
   "outputs": [
    {
     "data": {
      "text/plain": [
       "positive\n",
       "False    0.210066\n",
       "True     0.789934\n",
       "dtype: float64"
      ]
     },
     "execution_count": 10,
     "metadata": {},
     "output_type": "execute_result"
    }
   ],
   "source": [
    "df.groupby(\"positive\").size()/(df.shape[0])"
   ]
  },
  {
   "cell_type": "markdown",
   "metadata": {},
   "source": [
    "The class to predict is highly unbalanced. We can sample in order to have a balanced class:"
   ]
  },
  {
   "cell_type": "code",
   "execution_count": 11,
   "metadata": {},
   "outputs": [],
   "source": [
    "sample_size = 200000 # needs to be less than the number of observations in the minority class\n",
    "sample_df = df.groupby('positive').apply(lambda x: x.sample(sample_size))"
   ]
  },
  {
   "cell_type": "code",
   "execution_count": 12,
   "metadata": {},
   "outputs": [],
   "source": [
    "sample_df = sample_df.reset_index(level=0, drop=True) # remove outer level of multiindex"
   ]
  },
  {
   "cell_type": "code",
   "execution_count": 13,
   "metadata": {},
   "outputs": [
    {
     "data": {
      "text/plain": [
       "positive\n",
       "False    200000\n",
       "True     200000\n",
       "dtype: int64"
      ]
     },
     "execution_count": 13,
     "metadata": {},
     "output_type": "execute_result"
    }
   ],
   "source": [
    "sample_df.groupby(\"positive\").size()"
   ]
  },
  {
   "cell_type": "markdown",
   "metadata": {},
   "source": [
    "#### Choice: Unbalanced or Balanced Classes"
   ]
  },
  {
   "cell_type": "markdown",
   "metadata": {},
   "source": [
    "Definition of unbalanced `X` and `y` (class to predict). The classification with this choice should be better at predicting sentiment on the reviews from the Amazon dataset."
   ]
  },
  {
   "cell_type": "code",
   "execution_count": 14,
   "metadata": {},
   "outputs": [],
   "source": [
    "X = df.reviewText.values\n",
    "y = df.overall.values > 3"
   ]
  },
  {
   "cell_type": "markdown",
   "metadata": {},
   "source": [
    "Definition of balanced `X` and `y` (class to predict). The classification with this choice should be better at predicting sentiment on tweets (which might not be unbalanced in the same way as this dataset)."
   ]
  },
  {
   "cell_type": "code",
   "execution_count": 15,
   "metadata": {},
   "outputs": [],
   "source": [
    "# X = sample_df.reviewText.values\n",
    "# y = sample_df.overall.values > 3"
   ]
  },
  {
   "cell_type": "markdown",
   "metadata": {},
   "source": [
    "## Preprocessing/Normalization"
   ]
  },
  {
   "cell_type": "markdown",
   "metadata": {},
   "source": [
    "#### Slang"
   ]
  },
  {
   "cell_type": "code",
   "execution_count": 16,
   "metadata": {},
   "outputs": [],
   "source": [
    "from bs4 import BeautifulSoup\n",
    "import requests, json"
   ]
  },
  {
   "cell_type": "code",
   "execution_count": 17,
   "metadata": {},
   "outputs": [],
   "source": [
    "# From https://stackoverflow.com/questions/8502387/python-module-to-remove-internet-jargon-slang-acronym\n",
    "# Slightly modified\n",
    "\n",
    "# resp = requests.get(\"http://www.netlingo.com/acronyms.php\")\n",
    "# soup = BeautifulSoup(resp.text, \"html.parser\")\n",
    "# slang_repl= {}\n",
    "# key=\"\"\n",
    "# value=\"\"\n",
    "# for div in soup.findAll('div', attrs={'class':'list_box3'}):\n",
    "#     for li in div.findAll('li'):\n",
    "#         for a in li.findAll('a'):\n",
    "#             key = a.text\n",
    "#         value = li.text.split(key)[1].split(\"-or-\")[0] # only keep a single alternative\n",
    "#         slang_repl[key.lower()]=value.lower()\n",
    "# \n",
    "# with open('slang.json', 'w') as fid:\n",
    "#     json.dump(slangdict, fid)"
   ]
  },
  {
   "cell_type": "code",
   "execution_count": 18,
   "metadata": {},
   "outputs": [],
   "source": [
    "with open('slang.json', 'r') as fid:\n",
    "    slang_repl = json.load(fid)"
   ]
  },
  {
   "cell_type": "code",
   "execution_count": 19,
   "metadata": {},
   "outputs": [],
   "source": [
    "from nltk.corpus import stopwords\n",
    "stopws = stopwords.words(\"english\")"
   ]
  },
  {
   "cell_type": "code",
   "execution_count": 20,
   "metadata": {},
   "outputs": [],
   "source": [
    "# avoid clashes with stop words\n",
    "for k in stopws:\n",
    "    if k in slang_repl:\n",
    "        del slang_repl[k]"
   ]
  },
  {
   "cell_type": "code",
   "execution_count": 21,
   "metadata": {},
   "outputs": [
    {
     "name": "stdout",
     "output_type": "stream",
     "text": [
      "afaics : as far as i can see\n",
      "afaict : as far as i can tell\n",
      "afaik : as far as i know\n",
      "afair : as far as i remember\n",
      "afaiu : as far as i understand\n"
     ]
    }
   ],
   "source": [
    "for k in list(slang_repl.keys())[120:125]:\n",
    "    print(k, \":\", slang_repl[k])"
   ]
  },
  {
   "cell_type": "markdown",
   "metadata": {},
   "source": [
    "#### Emoticons"
   ]
  },
  {
   "cell_type": "code",
   "execution_count": 22,
   "metadata": {},
   "outputs": [],
   "source": [
    "emoticon_repl = {\n",
    "    # positive emoticons\n",
    "    \":-?d+\": \" good \", # :D, :-D, :DD, ecc. in lower case\n",
    "    \":-?\\)+\": \" good \", # :-), :), :-)), :)), ecc\n",
    "    \";-?\\)+\": \" good \", # ;). ;)). ;-), ecc.\n",
    "    \"\\(+-?:\": \" good \", # (:, (-:, ecc.\n",
    "    \"gr8t*\": \"great\",\n",
    "    # negative emoticons\n",
    "    \":/\": \" bad \", # :/\n",
    "    re.escape(\":\\\\\"): \" bad \", # :\\\n",
    "    \"\\)-?:\": \"bad\",  # ):, )):, )-:, ecc.\n",
    "    \":-?\\(+\": \" bad \", # :(, :-(, :((, ecc.\n",
    "    \"d+-?:\" : \"bad\" # D:, D-:, ecc. in lower case\n",
    "    # \":-?S+\": \" bad \" # :S, :-S, :SS\n",
    "}\n",
    "# TODO: add other emoticons?"
   ]
  },
  {
   "cell_type": "markdown",
   "metadata": {},
   "source": [
    "Function for checking if slang terms and emoticons are present in some review:"
   ]
  },
  {
   "cell_type": "code",
   "execution_count": 23,
   "metadata": {
    "scrolled": false
   },
   "outputs": [],
   "source": [
    "# Check if re is present in some review\n",
    "def check_presence(regex, stop = 1):\n",
    "    j = 0\n",
    "    # tv = False\n",
    "    for i in range(len(X)):\n",
    "        if re.search(regex, X[i].lower()):\n",
    "            # tv = True\n",
    "            j += 1\n",
    "            print(\"Review #\",i)\n",
    "            print(\"Occurrences of the regex {} :\".format(regex), re.findall(regex, X[i].lower()))\n",
    "            print(\"Review text:\", X[i]+\"\\n\")\n",
    "            if j == stop:\n",
    "                break\n",
    "    # return tv"
   ]
  },
  {
   "cell_type": "code",
   "execution_count": 24,
   "metadata": {},
   "outputs": [
    {
     "name": "stdout",
     "output_type": "stream",
     "text": [
      "Review # 3248\n",
      "Occurrences of the regex :-?d+ : [':d']\n",
      "Review text: Great!!! Love to use this to change my voice to a squeaker :D\n",
      "\n"
     ]
    }
   ],
   "source": [
    "check_presence(\":-?d+\")"
   ]
  },
  {
   "cell_type": "markdown",
   "metadata": {},
   "source": [
    "Function for checking if a slang term od emoticon corresponds to the expected sentiment:"
   ]
  },
  {
   "cell_type": "code",
   "execution_count": 25,
   "metadata": {},
   "outputs": [],
   "source": [
    "def check_sentiment(regex):\n",
    "    pos = 0\n",
    "    neg = 0\n",
    "    for i in range(len(X)):\n",
    "        if re.search(regex, X[i].lower()):\n",
    "            if y[i]:\n",
    "                pos += 1\n",
    "            else:\n",
    "                neg += 1\n",
    "    tot = pos + neg\n",
    "    print(\"Positive reviews containing regex {} : {}, {}%\\n\".format(regex, pos, pos/tot) + \\\n",
    "          \"Negative reviews containing regex {} : {}, {}%\".format(regex, neg, neg/tot))"
   ]
  },
  {
   "cell_type": "markdown",
   "metadata": {},
   "source": [
    "For instance, we would expect that \":)\" appears in more positive than negative reviews, so that translating it as \"good\" makes sense."
   ]
  },
  {
   "cell_type": "code",
   "execution_count": 26,
   "metadata": {},
   "outputs": [
    {
     "name": "stdout",
     "output_type": "stream",
     "text": [
      "Positive reviews containing regex :-?d+ : 556, 0.9553264604810997%\n",
      "Negative reviews containing regex :-?d+ : 26, 0.044673539518900345%\n",
      "\n",
      "\n",
      "Positive reviews containing regex :-?\\)+ : 8712, 0.9374798235230819%\n",
      "Negative reviews containing regex :-?\\)+ : 581, 0.06252017647691811%\n",
      "\n",
      "\n",
      "Positive reviews containing regex ;-?\\)+ : 1077, 0.8952618453865336%\n",
      "Negative reviews containing regex ;-?\\)+ : 126, 0.10473815461346633%\n",
      "\n",
      "\n",
      "Positive reviews containing regex \\(+-?: : 265, 0.9397163120567376%\n",
      "Negative reviews containing regex \\(+-?: : 17, 0.06028368794326241%\n",
      "\n",
      "\n",
      "Positive reviews containing regex gr8t* : 117, 0.9212598425196851%\n",
      "Negative reviews containing regex gr8t* : 10, 0.07874015748031496%\n",
      "\n",
      "\n",
      "Positive reviews containing regex :/ : 4232, 0.8121281903665324%\n",
      "Negative reviews containing regex :/ : 979, 0.18787180963346767%\n",
      "\n",
      "\n",
      "Positive reviews containing regex :\\\\ : 6, 0.3157894736842105%\n",
      "Negative reviews containing regex :\\\\ : 13, 0.6842105263157895%\n",
      "\n",
      "\n",
      "Positive reviews containing regex \\)-?: : 641, 0.7436194895591647%\n",
      "Negative reviews containing regex \\)-?: : 221, 0.25638051044083526%\n",
      "\n",
      "\n",
      "Positive reviews containing regex :-?\\(+ : 904, 0.3312568706485892%\n",
      "Negative reviews containing regex :-?\\(+ : 1825, 0.6687431293514108%\n",
      "\n",
      "\n",
      "Positive reviews containing regex d+-?: : 2328, 0.6920332936979786%\n",
      "Negative reviews containing regex d+-?: : 1036, 0.3079667063020214%\n",
      "\n",
      "\n"
     ]
    }
   ],
   "source": [
    "for k in emoticon_repl:\n",
    "    check_sentiment(k)\n",
    "    print(\"\\n\")"
   ]
  },
  {
   "cell_type": "markdown",
   "metadata": {},
   "source": [
    "There are more positive reviews containing \"):\" and similar than negative ones:"
   ]
  },
  {
   "cell_type": "code",
   "execution_count": 27,
   "metadata": {},
   "outputs": [
    {
     "name": "stdout",
     "output_type": "stream",
     "text": [
      "Positive reviews containing regex \\)-?: : 641, 0.7436194895591647%\n",
      "Negative reviews containing regex \\)-?: : 221, 0.25638051044083526%\n"
     ]
    }
   ],
   "source": [
    "check_sentiment(\"\\)-?:\")"
   ]
  },
  {
   "cell_type": "markdown",
   "metadata": {},
   "source": [
    "So we delete it from the list of emoticons to translate:"
   ]
  },
  {
   "cell_type": "code",
   "execution_count": 28,
   "metadata": {},
   "outputs": [],
   "source": [
    "del emoticon_repl[\"\\)-?:\"]"
   ]
  },
  {
   "cell_type": "markdown",
   "metadata": {},
   "source": [
    "Same for \":/\":"
   ]
  },
  {
   "cell_type": "code",
   "execution_count": 29,
   "metadata": {},
   "outputs": [
    {
     "name": "stdout",
     "output_type": "stream",
     "text": [
      "Positive reviews containing regex :/ : 4232, 0.8121281903665324%\n",
      "Negative reviews containing regex :/ : 979, 0.18787180963346767%\n"
     ]
    }
   ],
   "source": [
    "check_sentiment(\":/\")"
   ]
  },
  {
   "cell_type": "code",
   "execution_count": 30,
   "metadata": {},
   "outputs": [],
   "source": [
    "del emoticon_repl[\":/\"]"
   ]
  },
  {
   "cell_type": "markdown",
   "metadata": {},
   "source": [
    "Same for \"D:\":"
   ]
  },
  {
   "cell_type": "code",
   "execution_count": 31,
   "metadata": {},
   "outputs": [
    {
     "name": "stdout",
     "output_type": "stream",
     "text": [
      "Positive reviews containing regex d+-?: : 2328, 0.6920332936979786%\n",
      "Negative reviews containing regex d+-?: : 1036, 0.3079667063020214%\n"
     ]
    }
   ],
   "source": [
    "check_sentiment(\"d+-?:\")"
   ]
  },
  {
   "cell_type": "code",
   "execution_count": 32,
   "metadata": {},
   "outputs": [],
   "source": [
    "del emoticon_repl[\"d+-?:\"]"
   ]
  },
  {
   "cell_type": "markdown",
   "metadata": {},
   "source": [
    "#### Contracted forms"
   ]
  },
  {
   "cell_type": "markdown",
   "metadata": {},
   "source": [
    "We will be interested in combinations of \"not\" + other terms and similar."
   ]
  },
  {
   "cell_type": "code",
   "execution_count": 33,
   "metadata": {},
   "outputs": [],
   "source": [
    "contracted_repl = {\n",
    "    # casi particolari\n",
    "    r\"won\\'t\" : \"will not\", r\"won\\'\" : \"will not\",\n",
    "    r\"can\\'t\": \"can not\", r\"shan\\'t\": \"shall not\",\n",
    "    r\"shan\\'\": \"shall not\", r\"ain\\'t\": \"is not\",\n",
    "    r\"ain\\'\": \"is not\",\n",
    "    # casi generali\n",
    "    r\"n\\'t\": \" not\", r\"\\'t\": \" not\",\n",
    "    r\"n\\'\": \" not\",\n",
    "    r\"\\'s\": \" is\",\n",
    "    r\"\\'ve\": \" have\", \n",
    "    r\"\\'re\": \" are\", \n",
    "    r\"\\'ll\": \" will\", # Might also be \"shall\", in any case both will be considered stop words\n",
    "    r\"\\'d\": \" would\", # Might also be \"had\", in any case both will be considered stop words\n",
    "}"
   ]
  },
  {
   "cell_type": "markdown",
   "metadata": {},
   "source": [
    "### Complete preprocessing function"
   ]
  },
  {
   "cell_type": "markdown",
   "metadata": {},
   "source": [
    "Complete preprocessing function, including:\n",
    "\n",
    "- lowering the text;\n",
    "- deleting non-alphanumeric characters;\n",
    "- substituting emoticons;\n",
    "- replacing contracted forms."
   ]
  },
  {
   "cell_type": "code",
   "execution_count": 34,
   "metadata": {},
   "outputs": [],
   "source": [
    "def preprocess(sent, translate_slang = False):\n",
    "    \n",
    "    sent = sent.lower()\n",
    "    \n",
    "    for k in emoticon_repl:\n",
    "        sent = re.sub(k, emoticon_repl[k], sent)\n",
    "\n",
    "    if translate_slang:\n",
    "        for k in slang_repl:\n",
    "            sent = re.sub(r\"\\b\"+re.escape(k)+r\"\\b\", slang_repl[k], sent)\n",
    "            # sent = sent.replace(k, slang_repl[k])\n",
    "        \n",
    "    for k in contracted_repl:\n",
    "        sent = re.sub(k, contracted_repl[k], sent)\n",
    "    \n",
    "    # remove non-alphanumeric characters\n",
    "    sent = re.sub('[^A-Za-z0-9-_ ]+', '', sent)\n",
    "    # The space is needed, otherwise spaces are deleted (alternatively use [^A-Za-z0-9-_\\s]+)\n",
    "    # Also exclude the \"-\", as it might have a meaning in compound words. \n",
    "    # \"_\" might also be used in a meaningful way. I'll let the tokenizer decide...\n",
    "    \n",
    "    # Or use (a combination of) the following. (Need to better check the symbols and when the escape is needed)\n",
    "    # [.,;:;!?\\'\\`\\%\\+\\<\\>]+\n",
    "    # [.,;:;!?%\"\\'\\`\\(\\)]+'\n",
    "    \n",
    "    # remove words containing numbers. Not sure if necessary/makes sense:\n",
    "    # sent = re.sub(\"\\S*\\d+\\S*\\s\", '', sent) \n",
    "    \n",
    "    return sent"
   ]
  },
  {
   "cell_type": "markdown",
   "metadata": {},
   "source": [
    "Example:"
   ]
  },
  {
   "cell_type": "code",
   "execution_count": 35,
   "metadata": {
    "scrolled": false
   },
   "outputs": [
    {
     "data": {
      "text/plain": [
       "\"crystals fell off as nothing :( that's why I really didn't like it but as soon as I saw it I liked it but the stones\""
      ]
     },
     "execution_count": 35,
     "metadata": {},
     "output_type": "execute_result"
    }
   ],
   "source": [
    "# X[1697]\n",
    "X[27]"
   ]
  },
  {
   "cell_type": "code",
   "execution_count": 36,
   "metadata": {},
   "outputs": [
    {
     "data": {
      "text/plain": [
       "'crystals fell off as nothing  bad  that is why i really did not like it but as soon as i saw it i liked it but the stones'"
      ]
     },
     "execution_count": 36,
     "metadata": {},
     "output_type": "execute_result"
    }
   ],
   "source": [
    "preprocess(X[27])"
   ]
  },
  {
   "cell_type": "code",
   "execution_count": 37,
   "metadata": {
    "scrolled": false
   },
   "outputs": [
    {
     "data": {
      "text/plain": [
       "'to be honest'"
      ]
     },
     "execution_count": 37,
     "metadata": {},
     "output_type": "execute_result"
    }
   ],
   "source": [
    "preprocess(\"tbh\", translate_slang = True)"
   ]
  },
  {
   "cell_type": "code",
   "execution_count": 38,
   "metadata": {
    "scrolled": false
   },
   "outputs": [
    {
     "data": {
      "text/plain": [
       "'tbh'"
      ]
     },
     "execution_count": 38,
     "metadata": {},
     "output_type": "execute_result"
    }
   ],
   "source": [
    "preprocess(\"tbh\", translate_slang = False)"
   ]
  },
  {
   "cell_type": "code",
   "execution_count": 39,
   "metadata": {},
   "outputs": [
    {
     "name": "stdout",
     "output_type": "stream",
     "text": [
      "Wall time: 32.9 s\n"
     ]
    }
   ],
   "source": [
    "%%time\n",
    "# Including slang translation takes too much time, tqdm estimated around 25-30 hours\n",
    "# Options:\n",
    "# - reduce size of slang_repl dictionary;\n",
    "# - don't translate slang\n",
    "X_preprocessed = [preprocess(el) for el in X]"
   ]
  },
  {
   "cell_type": "markdown",
   "metadata": {},
   "source": [
    "Spell check and correction is carried out after tokenization."
   ]
  },
  {
   "cell_type": "markdown",
   "metadata": {},
   "source": [
    "### Definition of the list of Stop-words"
   ]
  },
  {
   "cell_type": "code",
   "execution_count": 40,
   "metadata": {},
   "outputs": [],
   "source": [
    "from nltk.corpus import stopwords\n",
    "stopws = stopwords.words(\"english\")"
   ]
  },
  {
   "cell_type": "markdown",
   "metadata": {},
   "source": [
    "The list of stop words needs to be preprocessed in the same way as the reviews:"
   ]
  },
  {
   "cell_type": "code",
   "execution_count": 41,
   "metadata": {},
   "outputs": [],
   "source": [
    "prep_stopws = [preprocess(el) for el in stopws]"
   ]
  },
  {
   "cell_type": "markdown",
   "metadata": {},
   "source": [
    "Words containing \"not\" are important for our tasks"
   ]
  },
  {
   "cell_type": "code",
   "execution_count": 42,
   "metadata": {
    "scrolled": true
   },
   "outputs": [
    {
     "data": {
      "text/plain": [
       "array(['ain', 'aren', 'are not', 'couldn', 'could not', 'didn', 'did not',\n",
       "       'doesn', 'does not', 'hadn', 'had not', 'hasn', 'has not', 'haven',\n",
       "       'have not', 'isn', 'is not', 'ma', 'mightn', 'might not', 'mustn',\n",
       "       'must not', 'needn', 'need not', 'shan', 'shall not', 'shouldn',\n",
       "       'should not', 'wasn', 'was not', 'weren', 'were not', 'won',\n",
       "       'will not', 'wouldn', 'would not'], dtype='<U10')"
      ]
     },
     "execution_count": 42,
     "metadata": {},
     "output_type": "execute_result"
    }
   ],
   "source": [
    "np.array(prep_stopws[-36:])"
   ]
  },
  {
   "cell_type": "code",
   "execution_count": 43,
   "metadata": {},
   "outputs": [],
   "source": [
    "prep_stopws = prep_stopws[:-36]"
   ]
  },
  {
   "cell_type": "markdown",
   "metadata": {},
   "source": [
    "Other words to remove from the stop words:"
   ]
  },
  {
   "cell_type": "code",
   "execution_count": 44,
   "metadata": {},
   "outputs": [],
   "source": [
    "for word in [\"not\", \"very\", \"don\", \"do not\"]:\n",
    "    prep_stopws.remove(word)"
   ]
  },
  {
   "cell_type": "code",
   "execution_count": 45,
   "metadata": {},
   "outputs": [],
   "source": [
    "prep_stopws.extend([\"youse\", \"would\"]) # needed for consistency with spell checker"
   ]
  },
  {
   "cell_type": "markdown",
   "metadata": {},
   "source": [
    "## Order of operations from now on:"
   ]
  },
  {
   "cell_type": "markdown",
   "metadata": {},
   "source": [
    "(Execution times might be different from the following, I ran the notebook again afterwards)"
   ]
  },
  {
   "cell_type": "markdown",
   "metadata": {},
   "source": [
    "#### NLTK"
   ]
  },
  {
   "cell_type": "markdown",
   "metadata": {},
   "source": [
    "- Tokenization, 3min 15s\n",
    "- Spell check and correction, 14min 11s\n",
    "- Stop words removal, 1min 6s\n",
    "- Stemming, 7min 10s (Porter) 5min 56s (Lancaster)\n",
    "- Vectorization, 58.8 s (Porter), 56.6 s(Lancaster)"
   ]
  },
  {
   "cell_type": "markdown",
   "metadata": {},
   "source": [
    "#### PyStemmer"
   ]
  },
  {
   "cell_type": "markdown",
   "metadata": {},
   "source": [
    "Class that performs\n",
    "\n",
    "- Tokenization\n",
    "- Spell check and correction (parameter `preprocessor`)\n",
    "- Stop words removal (parameter `stop_words`)\n",
    "- Stemming (with `pystemmer`)\n",
    "- Vectorization\n",
    "\n",
    "8min 49s"
   ]
  },
  {
   "cell_type": "markdown",
   "metadata": {},
   "source": [
    "## Tokenization/Spell Correction/StopWordsRemoval/Stemming"
   ]
  },
  {
   "cell_type": "markdown",
   "metadata": {},
   "source": [
    "### NLTK"
   ]
  },
  {
   "cell_type": "code",
   "execution_count": 46,
   "metadata": {},
   "outputs": [],
   "source": [
    "from nltk.tokenize import word_tokenize\n",
    "def tokenize_reviews(reviews):\n",
    "    tokenized_reviews = [word_tokenize(review) for review in reviews]\n",
    "    return tokenized_reviews"
   ]
  },
  {
   "cell_type": "code",
   "execution_count": 47,
   "metadata": {},
   "outputs": [
    {
     "name": "stdout",
     "output_type": "stream",
     "text": [
      "Wall time: 3min 26s\n"
     ]
    }
   ],
   "source": [
    "%%time\n",
    "X_tokenized = tokenize_reviews(X_preprocessed)"
   ]
  },
  {
   "cell_type": "markdown",
   "metadata": {},
   "source": [
    "Spelling correction:"
   ]
  },
  {
   "cell_type": "code",
   "execution_count": 48,
   "metadata": {},
   "outputs": [],
   "source": [
    "from spellchecker import SpellChecker\n",
    "def fix_spelling_mistakes(reviews, dist=1):\n",
    "    spell = SpellChecker(distance=dist)\n",
    "    reviews_with_right_spell = []\n",
    "    for review in reviews:\n",
    "        corrected_review = [spell.correction(word) for word in review]\n",
    "        reviews_with_right_spell.append(corrected_review)\n",
    "    return reviews_with_right_spell"
   ]
  },
  {
   "cell_type": "code",
   "execution_count": 49,
   "metadata": {},
   "outputs": [
    {
     "name": "stdout",
     "output_type": "stream",
     "text": [
      "Wall time: 21min 27s\n"
     ]
    }
   ],
   "source": [
    "%%time\n",
    "X_spellchecked = fix_spelling_mistakes(X_tokenized)"
   ]
  },
  {
   "cell_type": "markdown",
   "metadata": {},
   "source": [
    "Stop words removal:"
   ]
  },
  {
   "cell_type": "code",
   "execution_count": 50,
   "metadata": {},
   "outputs": [
    {
     "name": "stdout",
     "output_type": "stream",
     "text": [
      "Wall time: 58 s\n"
     ]
    }
   ],
   "source": [
    "%%time\n",
    "X_noStopWords = []\n",
    "for review in X_spellchecked:\n",
    "        cleaned_review = [word for word in review if word not in prep_stopws]\n",
    "        X_noStopWords.append(cleaned_review)"
   ]
  },
  {
   "cell_type": "code",
   "execution_count": 51,
   "metadata": {},
   "outputs": [],
   "source": [
    "from nltk.stem import PorterStemmer, LancasterStemmer"
   ]
  },
  {
   "cell_type": "code",
   "execution_count": 52,
   "metadata": {},
   "outputs": [],
   "source": [
    "def stem_reviews(reviews, stemmer_name=\"Porter\"):\n",
    "    if stemmer_name == \"Porter\":\n",
    "        stemmer = PorterStemmer()\n",
    "    elif stemmer_name == \"Lancaster\":\n",
    "        stemmer = LancasterStemmer()\n",
    "    else:\n",
    "        raise SystemError\n",
    "    stemmed_reviews = []\n",
    "    for review in reviews:\n",
    "        stemmed_reviews.append([stemmer.stem(word) for word in review])\n",
    "    return stemmed_reviews"
   ]
  },
  {
   "cell_type": "code",
   "execution_count": 53,
   "metadata": {},
   "outputs": [
    {
     "name": "stdout",
     "output_type": "stream",
     "text": [
      "Wall time: 7min 9s\n"
     ]
    }
   ],
   "source": [
    "%%time\n",
    "X_Porter = stem_reviews(X_noStopWords, stemmer_name = \"Porter\")"
   ]
  },
  {
   "cell_type": "code",
   "execution_count": 54,
   "metadata": {},
   "outputs": [
    {
     "name": "stdout",
     "output_type": "stream",
     "text": [
      "Wall time: 6min 16s\n"
     ]
    }
   ],
   "source": [
    "%%time\n",
    "X_Lancaster = stem_reviews(X_noStopWords, stemmer_name = \"Lancaster\")"
   ]
  },
  {
   "cell_type": "markdown",
   "metadata": {},
   "source": [
    "### PyStemmer (needs Visual C++ installed)"
   ]
  },
  {
   "cell_type": "markdown",
   "metadata": {},
   "source": [
    "Definition of the class StemmedTdidfVectorized.\n",
    "\n",
    "- `sklearn`'s `TfidfVectorizer` takes care of tokenization, stop-word removal, vectorization\n",
    "- `pystemmer` takes care of stemming."
   ]
  },
  {
   "cell_type": "code",
   "execution_count": 55,
   "metadata": {},
   "outputs": [],
   "source": [
    "import Stemmer\n",
    "english_stemmer = Stemmer.Stemmer('en')"
   ]
  },
  {
   "cell_type": "code",
   "execution_count": 56,
   "metadata": {},
   "outputs": [],
   "source": [
    "from sklearn.feature_extraction.text import TfidfVectorizer"
   ]
  },
  {
   "cell_type": "code",
   "execution_count": 57,
   "metadata": {},
   "outputs": [],
   "source": [
    "class StemmedTfidfVectorizer(TfidfVectorizer):\n",
    "    def build_analyzer(self):\n",
    "        analyzer = super(TfidfVectorizer, self).build_analyzer()\n",
    "        return lambda doc: english_stemmer.stemWords(analyzer(doc))"
   ]
  },
  {
   "cell_type": "markdown",
   "metadata": {},
   "source": [
    "## Train-test split"
   ]
  },
  {
   "cell_type": "code",
   "execution_count": 58,
   "metadata": {},
   "outputs": [],
   "source": [
    "from sklearn.model_selection import train_test_split"
   ]
  },
  {
   "cell_type": "markdown",
   "metadata": {},
   "source": [
    "#### NLTK"
   ]
  },
  {
   "cell_type": "markdown",
   "metadata": {},
   "source": [
    "Here we are train/test splitting the set of reviews that is already tokenized and stemmed, to be passed to TfidfVectorizer for representation."
   ]
  },
  {
   "cell_type": "code",
   "execution_count": 59,
   "metadata": {},
   "outputs": [],
   "source": [
    "X_train_Porter, X_test_Porter, y_train, y_test = train_test_split(X_Porter, y,\n",
    "                                                                  test_size=0.33, random_state=42)\n",
    "X_train_Lancaster, X_test_Lancaster, y_train, y_test = train_test_split(X_Lancaster, y,\n",
    "                                                                        test_size=0.33, random_state=42)"
   ]
  },
  {
   "cell_type": "markdown",
   "metadata": {},
   "source": [
    "#### Pystemmer"
   ]
  },
  {
   "cell_type": "markdown",
   "metadata": {},
   "source": [
    "Here we are train/test splitting the preprocessed set of reviews to be passed to `StemmedTfidfVectorizer` for tokenization+stemming+representation."
   ]
  },
  {
   "cell_type": "code",
   "execution_count": 60,
   "metadata": {},
   "outputs": [],
   "source": [
    "X_train_pystemmer, X_test_pystemmer, y_train, y_test = train_test_split(X_preprocessed, y,\n",
    "                                                                  test_size=0.33, random_state=42)"
   ]
  },
  {
   "cell_type": "markdown",
   "metadata": {},
   "source": [
    "## Text Representation"
   ]
  },
  {
   "cell_type": "markdown",
   "metadata": {},
   "source": [
    "#### NLTK"
   ]
  },
  {
   "cell_type": "code",
   "execution_count": 61,
   "metadata": {},
   "outputs": [],
   "source": [
    "def rebuild_reviews(reviews):\n",
    "    rebuilt_reviews = []\n",
    "    for review in reviews:\n",
    "        rebuilt_reviews.append(\" \".join(review))\n",
    "    return rebuilt_reviews"
   ]
  },
  {
   "cell_type": "code",
   "execution_count": 62,
   "metadata": {},
   "outputs": [],
   "source": [
    "X_train_Porter = rebuild_reviews(X_train_Porter)\n",
    "X_test_Porter = rebuild_reviews(X_test_Porter)\n",
    "X_train_Lancaster = rebuild_reviews(X_train_Lancaster)\n",
    "X_test_Lancaster = rebuild_reviews(X_test_Lancaster)"
   ]
  },
  {
   "cell_type": "code",
   "execution_count": 63,
   "metadata": {},
   "outputs": [
    {
     "name": "stdout",
     "output_type": "stream",
     "text": [
      "Wall time: 1min 8s\n"
     ]
    }
   ],
   "source": [
    "%%time\n",
    "tfidf_vect_Porter = TfidfVectorizer(min_df= 5, max_features = 50000, ngram_range=(1,2))\n",
    "X_train_tfidf_Porter = tfidf_vect_Porter.fit_transform(X_train_Porter)\n",
    "X_test_tfidf_Porter = tfidf_vect_Porter.transform(X_test_Porter)"
   ]
  },
  {
   "cell_type": "code",
   "execution_count": 64,
   "metadata": {},
   "outputs": [
    {
     "name": "stdout",
     "output_type": "stream",
     "text": [
      "Wall time: 1min 3s\n"
     ]
    }
   ],
   "source": [
    "%%time\n",
    "tfidf_vect_Lancaster = TfidfVectorizer(min_df= 5, max_features = 50000, ngram_range=(1,2))\n",
    "X_train_tfidf_Lancaster = tfidf_vect_Lancaster.fit_transform(X_train_Lancaster)\n",
    "X_test_tfidf_Lancaster = tfidf_vect_Lancaster.transform(X_test_Lancaster)"
   ]
  },
  {
   "cell_type": "markdown",
   "metadata": {},
   "source": [
    "#### Pystemmer"
   ]
  },
  {
   "cell_type": "code",
   "execution_count": 65,
   "metadata": {},
   "outputs": [
    {
     "name": "stdout",
     "output_type": "stream",
     "text": [
      "Wall time: 9min 25s\n"
     ]
    }
   ],
   "source": [
    "%%time\n",
    "spell = SpellChecker(distance=1)\n",
    "tfidf_vect_pystemmer = StemmedTfidfVectorizer(min_df= 5, max_features = 50000, ngram_range=(1,2),\n",
    "                                              preprocessor = spell.correction,\n",
    "                                              stop_words = prep_stopws)\n",
    "X_train_tfidf_pystemmer = tfidf_vect_pystemmer.fit_transform(X_train_pystemmer)\n",
    "X_test_tfidf_pystemmer = tfidf_vect_pystemmer.transform(X_test_pystemmer)"
   ]
  },
  {
   "cell_type": "markdown",
   "metadata": {},
   "source": [
    "# Classification"
   ]
  },
  {
   "cell_type": "markdown",
   "metadata": {},
   "source": [
    "## NB Classifier"
   ]
  },
  {
   "cell_type": "code",
   "execution_count": 66,
   "metadata": {},
   "outputs": [],
   "source": [
    "from sklearn.naive_bayes import MultinomialNB\n",
    "from sklearn.metrics import precision_recall_curve, auc, confusion_matrix, f1_score, fbeta_score, precision_score, recall_score"
   ]
  },
  {
   "cell_type": "markdown",
   "metadata": {},
   "source": [
    "Accessory functions:"
   ]
  },
  {
   "cell_type": "code",
   "execution_count": 67,
   "metadata": {},
   "outputs": [],
   "source": [
    "def print_top_features(vectorizer, clf, n = 10):\n",
    "    fnames = vectorizer.get_feature_names()\n",
    "    top_pos = np.argsort(clf.coef_[0])[-n:]\n",
    "    top_pos = top_pos[::-1]\n",
    "    print(\"Most discriminative features:\\n\",\n",
    "          \", \".join(fnames[j] for j in top_pos))"
   ]
  },
  {
   "cell_type": "code",
   "execution_count": 68,
   "metadata": {},
   "outputs": [],
   "source": [
    "def score_NB(clf, X_train, X_test, y_train, y_test):\n",
    "    train_score = clf.score(X_train, y_train) # Train Accuracy\n",
    "    test_score = clf.score(X_test, y_test)    # Test Accuracy\n",
    "    \n",
    "    predictions = clf.predict(X_test)\n",
    "    \n",
    "    prec = precision_score(y_test, predictions) # Precision\n",
    "    rec = recall_score(y_test, predictions) # Recall\n",
    "    f1 = f1_score(y_test, predictions) # F1\n",
    "    f2 = fbeta_score(y_test, predictions, 2) # F2\n",
    "    cm = confusion_matrix(y_test, predictions)\n",
    "    \n",
    "    proba = clf.predict_proba(X_test)\n",
    "\n",
    "    precision, recall, pr_thresholds = precision_recall_curve(y_test, proba[:,1])\n",
    "    \n",
    "    auc_score = auc(recall, precision)\n",
    "    \n",
    "    scores_strings = [\"Train Accuracy\", \"Test Accuracy\", \"Test Precision\",\n",
    "                      \"Test Recall\", \"F1\", \"F2\", \"P/R AUC\"]\n",
    "    \n",
    "    scores = [train_score, test_score, prec, rec, f1, f2, auc_score]\n",
    "    \n",
    "    print((\"{:20s} {:.5f}\\n\"*7)[:-1].format(*itertools.chain(*zip(scores_strings, scores))))\n",
    "    \n",
    "    print(classification_report(y_test,predictions))\n",
    "    \n",
    "    plt.plot(recall, precision, label='Precision-Recall curve')\n",
    "    plt.xlabel('Recall')\n",
    "    plt.ylabel('Precision')\n",
    "    plt.ylim([0.0, 1.05])\n",
    "    plt.xlim([0.0, 1.0])\n",
    "    plt.title('Precision-Recall Curve: AUC=%0.2f' % auc_score)\n",
    "    plt.legend(loc=\"lower left\")\n",
    "    plt.show()"
   ]
  },
  {
   "cell_type": "markdown",
   "metadata": {},
   "source": [
    "### NLTK"
   ]
  },
  {
   "cell_type": "markdown",
   "metadata": {},
   "source": [
    "#### Porter"
   ]
  },
  {
   "cell_type": "code",
   "execution_count": 69,
   "metadata": {},
   "outputs": [
    {
     "data": {
      "text/plain": [
       "MultinomialNB(alpha=1.0, class_prior=None, fit_prior=True)"
      ]
     },
     "execution_count": 69,
     "metadata": {},
     "output_type": "execute_result"
    }
   ],
   "source": [
    "clf = MultinomialNB()\n",
    "clf.fit(X_train_tfidf_Porter, y_train)"
   ]
  },
  {
   "cell_type": "code",
   "execution_count": 70,
   "metadata": {},
   "outputs": [
    {
     "name": "stdout",
     "output_type": "stream",
     "text": [
      "Most discriminative features:\n",
      " great, good, case, phone, love, work, not, veri, product, nice, excel, fit, like, perfect, use, well, protect, charg, screen, one, work great, look, price, easi, protector, qualiti, thank, great product, time, realli, get, veri good, recommend, need, perfectli, charger, screen protector, buy, awesom, batteri, bought, color, feel, cabl, expect, best, littl, cover, ok, fast\n"
     ]
    }
   ],
   "source": [
    "print_top_features(tfidf_vect_Porter, clf, 50)"
   ]
  },
  {
   "cell_type": "code",
   "execution_count": 71,
   "metadata": {
    "scrolled": false
   },
   "outputs": [
    {
     "name": "stdout",
     "output_type": "stream",
     "text": [
      "Train Accuracy       0.88750\n",
      "Test Accuracy        0.88195\n",
      "Test Precision       0.89419\n",
      "Test Recall          0.96468\n",
      "F1                   0.92810\n",
      "F2                   0.94970\n",
      "P/R AUC              0.97673\n",
      "              precision    recall  f1-score   support\n",
      "\n",
      "       False       0.81      0.57      0.67     78224\n",
      "        True       0.89      0.96      0.93    293908\n",
      "\n",
      "    accuracy                           0.88    372132\n",
      "   macro avg       0.85      0.77      0.80    372132\n",
      "weighted avg       0.88      0.88      0.87    372132\n",
      "\n"
     ]
    },
    {
     "data": {
      "image/png": "[encoded data removed]",
      "text/plain": [
       "<Figure size 432x288 with 1 Axes>"
      ]
     },
     "metadata": {
      "needs_background": "light"
     },
     "output_type": "display_data"
    }
   ],
   "source": [
    "score_NB(clf, X_train_tfidf_Porter, X_test_tfidf_Porter, y_train, y_test)"
   ]
  },
  {
   "cell_type": "markdown",
   "metadata": {},
   "source": [
    "#### Lancaster"
   ]
  },
  {
   "cell_type": "code",
   "execution_count": 72,
   "metadata": {},
   "outputs": [
    {
     "data": {
      "text/plain": [
       "MultinomialNB(alpha=1.0, class_prior=None, fit_prior=True)"
      ]
     },
     "execution_count": 72,
     "metadata": {},
     "output_type": "execute_result"
    }
   ],
   "source": [
    "clf = MultinomialNB()\n",
    "clf.fit(X_train_tfidf_Lancaster, y_train)"
   ]
  },
  {
   "cell_type": "code",
   "execution_count": 73,
   "metadata": {},
   "outputs": [
    {
     "name": "stdout",
     "output_type": "stream",
     "text": [
      "Most discriminative features:\n",
      " gre, good, cas, phon, lov, work, not, excel, very, produc, protect, perfect, nic, charg, fit, lik, us, wel, on, screen, work gre, look, easy, pric, qual, thank, gre produc, real, tim, get, very good, recommend, screen protect, nee, buy, awesom, battery, bought, fast, col, feel, cabl, expect, cov, hold, best, littl, ok, ev, purchas\n"
     ]
    }
   ],
   "source": [
    "print_top_features(tfidf_vect_Lancaster, clf, 50)"
   ]
  },
  {
   "cell_type": "code",
   "execution_count": 74,
   "metadata": {
    "scrolled": false
   },
   "outputs": [
    {
     "name": "stdout",
     "output_type": "stream",
     "text": [
      "Train Accuracy       0.88588\n",
      "Test Accuracy        0.88009\n",
      "Test Precision       0.89176\n",
      "Test Recall          0.96534\n",
      "F1                   0.92710\n",
      "F2                   0.94967\n",
      "P/R AUC              0.97633\n",
      "              precision    recall  f1-score   support\n",
      "\n",
      "       False       0.81      0.56      0.66     78224\n",
      "        True       0.89      0.97      0.93    293908\n",
      "\n",
      "    accuracy                           0.88    372132\n",
      "   macro avg       0.85      0.76      0.79    372132\n",
      "weighted avg       0.87      0.88      0.87    372132\n",
      "\n"
     ]
    },
    {
     "data": {
      "image/png": "[encoded data removed]",
      "text/plain": [
       "<Figure size 432x288 with 1 Axes>"
      ]
     },
     "metadata": {
      "needs_background": "light"
     },
     "output_type": "display_data"
    }
   ],
   "source": [
    "score_NB(clf, X_train_tfidf_Lancaster, X_test_tfidf_Lancaster, y_train, y_test)"
   ]
  },
  {
   "cell_type": "markdown",
   "metadata": {},
   "source": [
    "###  PyStemmer"
   ]
  },
  {
   "cell_type": "code",
   "execution_count": 75,
   "metadata": {},
   "outputs": [
    {
     "data": {
      "text/plain": [
       "MultinomialNB(alpha=1.0, class_prior=None, fit_prior=True)"
      ]
     },
     "execution_count": 75,
     "metadata": {},
     "output_type": "execute_result"
    }
   ],
   "source": [
    "clf = MultinomialNB()\n",
    "clf.fit(X_train_tfidf_pystemmer, y_train)"
   ]
  },
  {
   "cell_type": "code",
   "execution_count": 76,
   "metadata": {},
   "outputs": [
    {
     "name": "stdout",
     "output_type": "stream",
     "text": [
      "Most discriminative features:\n",
      " great, good, case, love, phone, work, not, veri, product, perfect, nice, excel, fit, like, use, protect, well, charg, screen, one, look, price, works great, easi, thank, qualiti, protector, great product, time, realli, get, iphon, very good, recommend, need, charger, screen protector, buy, batteri, awesom, color, bought, cabl, feel, expect, best, littl, cover, ok, fast\n"
     ]
    }
   ],
   "source": [
    "print_top_features(tfidf_vect_pystemmer, clf, 50)"
   ]
  },
  {
   "cell_type": "code",
   "execution_count": 77,
   "metadata": {},
   "outputs": [
    {
     "name": "stdout",
     "output_type": "stream",
     "text": [
      "Train Accuracy       0.88851\n",
      "Test Accuracy        0.88286\n",
      "Test Precision       0.89443\n",
      "Test Recall          0.96566\n",
      "F1                   0.92868\n",
      "F2                   0.95052\n",
      "P/R AUC              0.97708\n",
      "              precision    recall  f1-score   support\n",
      "\n",
      "       False       0.82      0.57      0.67     78224\n",
      "        True       0.89      0.97      0.93    293908\n",
      "\n",
      "    accuracy                           0.88    372132\n",
      "   macro avg       0.86      0.77      0.80    372132\n",
      "weighted avg       0.88      0.88      0.87    372132\n",
      "\n"
     ]
    },
    {
     "data": {
      "image/png": "[encoded data removed]",
      "text/plain": [
       "<Figure size 432x288 with 1 Axes>"
      ]
     },
     "metadata": {
      "needs_background": "light"
     },
     "output_type": "display_data"
    }
   ],
   "source": [
    "score_NB(clf, X_train_tfidf_pystemmer, X_test_tfidf_pystemmer, y_train, y_test)"
   ]
  },
  {
   "cell_type": "code",
   "execution_count": 78,
   "metadata": {},
   "outputs": [],
   "source": [
    "beep(freq = 880)"
   ]
  },
  {
   "cell_type": "markdown",
   "metadata": {},
   "source": [
    "## Random forest"
   ]
  },
  {
   "cell_type": "code",
   "execution_count": null,
   "metadata": {},
   "outputs": [],
   "source": [
    "from sklearn.ensemble import RandomForestClassifier"
   ]
  },
  {
   "cell_type": "markdown",
   "metadata": {},
   "source": [
    "### Porter"
   ]
  },
  {
   "cell_type": "code",
   "execution_count": null,
   "metadata": {},
   "outputs": [],
   "source": [
    "clf = RandomForestClassifier(n_estimators=50, random_state=42, n_jobs=-1, verbose=2)\n",
    "clf.fit(X_train_tfidf_Porter, y_train) # it takes around 30 minutes"
   ]
  },
  {
   "cell_type": "code",
   "execution_count": null,
   "metadata": {},
   "outputs": [],
   "source": [
    "train_score = clf.score(X_train_tfidf_Porter, y_train) # Train Accuracy\n",
    "test_score = clf.score(X_test_tfidf_Porter, y_test)    # Test Accuracy\n",
    "\n",
    "predictions = clf.predict(X_test_tfidf_Porter)\n",
    "\n",
    "print(classification_report(y_test,predictions))"
   ]
  },
  {
   "cell_type": "markdown",
   "metadata": {},
   "source": [
    "Results are more encouraging! The problem is that it's way slower than Multinomial NB."
   ]
  },
  {
   "cell_type": "markdown",
   "metadata": {},
   "source": [
    "## TruncatedSVD\n",
    "The X_train vector has around 20k features: for speeding up the training phase it may be good to use dimensionality reduction methods. Their goal is to preserve \"expressive power\" while reducing dataset dimensionality.\n",
    "Because the TFIDF matrix is a sparse one, one of the best method for performing dimensionality reduction is \"TruncatedSVD\""
   ]
  },
  {
   "cell_type": "code",
   "execution_count": null,
   "metadata": {},
   "outputs": [],
   "source": [
    "from sklearn.decomposition import TruncatedSVD\n",
    "tsvd = TruncatedSVD(n_components=500, random_state=42)\n",
    "X_train_tfidf_Porter_svd = tsvd.fit_transform(X_train_tfidf_Porter)\n",
    "X_test_tfidf_Porter_svd = tsvd.transform(X_test_tfidf_Porter)"
   ]
  },
  {
   "cell_type": "code",
   "execution_count": null,
   "metadata": {},
   "outputs": [],
   "source": [
    "print(\"train with old features: \",np.array(X_train_tfidf_Porter).shape)\n",
    "print(\"train with new features:\" ,np.array(X_train_tfidf_Porter_svd).shape)"
   ]
  },
  {
   "cell_type": "markdown",
   "metadata": {},
   "source": [
    "#### Store SVD-transformed dataset"
   ]
  },
  {
   "cell_type": "code",
   "execution_count": null,
   "metadata": {},
   "outputs": [],
   "source": [
    "dump(X_train_tfidf_Porter_svd, 'X_train_tfidf_Porter_svd.joblib')\n",
    "dump(X_test_tfidf_Porter_svd, 'X_test_tfidf_Porter_svd.joblib')"
   ]
  },
  {
   "cell_type": "markdown",
   "metadata": {},
   "source": [
    "### Random Forest"
   ]
  },
  {
   "cell_type": "code",
   "execution_count": null,
   "metadata": {},
   "outputs": [],
   "source": [
    "clf = RandomForestClassifier(n_estimators=50, random_state=42, n_jobs=-1, verbose=2)\n",
    "clf.fit(X_train_tfidf_Porter_svd, y_train)"
   ]
  },
  {
   "cell_type": "code",
   "execution_count": null,
   "metadata": {},
   "outputs": [],
   "source": [
    "predictions = clf.predict(X_test_tfidf_ps_svd)\n",
    "print(classification_report(y_test,predictions))"
   ]
  },
  {
   "cell_type": "markdown",
   "metadata": {},
   "source": [
    "# TODO\n",
    "\n",
    "- Add algorithms?.\n",
    "- Add *short* examples after some steps.\n",
    "- Decide what to do with slang. Probably very necessary for preprocessing tweets. If we want to use it for the Amazon dataset, we might reduce the size of the dict by checking which terms are actually present in the reviews, and only keep the ones that are present in many reviews.\n",
    "- Tweets part"
   ]
  }
 ],
 "metadata": {
  "kernelspec": {
   "display_name": "Python 3",
   "language": "python",
   "name": "python3"
  },
  "language_info": {
   "codemirror_mode": {
    "name": "ipython",
    "version": 3
   },
   "file_extension": ".py",
   "mimetype": "text/x-python",
   "name": "python",
   "nbconvert_exporter": "python",
   "pygments_lexer": "ipython3",
   "version": "3.7.3"
  }
 },
 "nbformat": 4,
 "nbformat_minor": 2
}
